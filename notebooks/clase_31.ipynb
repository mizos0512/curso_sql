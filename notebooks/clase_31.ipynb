{
    "metadata": {
        "kernelspec": {
            "name": "SQL",
            "display_name": "SQL",
            "language": "sql"
        },
        "language_info": {
            "name": "sql",
            "version": ""
        }
    },
    "nbformat_minor": 2,
    "nbformat": 4,
    "cells": [
        {
            "cell_type": "markdown",
            "source": [
                "## **USE:** Esta cláusula le dice a MySQL que base de datos o SCHEMA se va a utilizar para la consulta a continuación."
            ],
            "metadata": {
                "azdata_cell_guid": "23ccc272-8b34-4a71-977a-d89524bd43f8"
            },
            "attachments": {}
        },
        {
            "cell_type": "code",
            "source": [
                "USE datos;"
            ],
            "metadata": {
                "azdata_cell_guid": "8b4e71cd-59b3-404f-a86b-8cc3c2b2321a",
                "language": "sql"
            },
            "outputs": [
                {
                    "output_type": "display_data",
                    "data": {
                        "text/html": "Commands completed successfully"
                    },
                    "metadata": {}
                },
                {
                    "output_type": "display_data",
                    "data": {
                        "text/html": "Total execution time: 00:00:00.001"
                    },
                    "metadata": {}
                }
            ],
            "execution_count": 1
        },
        {
            "cell_type": "markdown",
            "source": [
                "## **SELECT:** Cláusula que permite seleccionar información (columnas de una tabla) y mannipularla."
            ],
            "metadata": {
                "azdata_cell_guid": "74d5547f-9394-4e11-8763-c1187eca6ea2"
            },
            "attachments": {}
        },
        {
            "cell_type": "code",
            "source": [
                "SELECT ventas_id, Fecha, venta FROM datos.ventas"
            ],
            "metadata": {
                "azdata_cell_guid": "3b591725-1bc2-4425-a45c-746f29f62a94",
                "language": "sql"
            },
            "outputs": [
                {
                    "output_type": "display_data",
                    "data": {
                        "text/html": "(22 row(s) affected)"
                    },
                    "metadata": {}
                },
                {
                    "output_type": "display_data",
                    "data": {
                        "text/html": "Total execution time: 00:00:01.004"
                    },
                    "metadata": {}
                },
                {
                    "output_type": "execute_result",
                    "execution_count": 1,
                    "data": {
                        "application/vnd.dataresource+json": {
                            "schema": {
                                "fields": [
                                    {
                                        "name": "ventas_id"
                                    },
                                    {
                                        "name": "Fecha"
                                    },
                                    {
                                        "name": "venta"
                                    }
                                ]
                            },
                            "data": [
                                {
                                    "ventas_id": "1",
                                    "Fecha": "2018-11-18 00:00:00",
                                    "venta": "1302"
                                },
                                {
                                    "ventas_id": "2",
                                    "Fecha": "2018-09-17 00:00:00",
                                    "venta": "953"
                                },
                                {
                                    "ventas_id": "3",
                                    "Fecha": "2018-10-18 00:00:00",
                                    "venta": "1286"
                                },
                                {
                                    "ventas_id": "4",
                                    "Fecha": "2018-10-30 00:00:00",
                                    "venta": "889"
                                },
                                {
                                    "ventas_id": "5",
                                    "Fecha": "2018-05-16 00:00:00",
                                    "venta": "495"
                                },
                                {
                                    "ventas_id": "6",
                                    "Fecha": "2018-12-15 00:00:00",
                                    "venta": "544"
                                },
                                {
                                    "ventas_id": "7",
                                    "Fecha": "2018-07-28 00:00:00",
                                    "venta": "1444"
                                },
                                {
                                    "ventas_id": "8",
                                    "Fecha": "2018-10-05 00:00:00",
                                    "venta": "435"
                                },
                                {
                                    "ventas_id": "9",
                                    "Fecha": "2018-04-20 00:00:00",
                                    "venta": "1203"
                                },
                                {
                                    "ventas_id": "10",
                                    "Fecha": "2018-06-08 00:00:00",
                                    "venta": "1038"
                                },
                                {
                                    "ventas_id": "11",
                                    "Fecha": "2018-08-22 00:00:00",
                                    "venta": "404"
                                },
                                {
                                    "ventas_id": "12",
                                    "Fecha": "2019-09-03 00:00:00",
                                    "venta": "1362"
                                },
                                {
                                    "ventas_id": "13",
                                    "Fecha": "2019-07-16 00:00:00",
                                    "venta": "1054"
                                },
                                {
                                    "ventas_id": "14",
                                    "Fecha": "2019-08-27 00:00:00",
                                    "venta": "303"
                                },
                                {
                                    "ventas_id": "15",
                                    "Fecha": "2019-12-15 00:00:00",
                                    "venta": "871"
                                },
                                {
                                    "ventas_id": "16",
                                    "Fecha": "2019-07-30 00:00:00",
                                    "venta": "1062"
                                },
                                {
                                    "ventas_id": "17",
                                    "Fecha": "2019-10-25 00:00:00",
                                    "venta": "1376"
                                },
                                {
                                    "ventas_id": "18",
                                    "Fecha": "2019-12-14 00:00:00",
                                    "venta": "957"
                                },
                                {
                                    "ventas_id": "19",
                                    "Fecha": "2019-08-14 00:00:00",
                                    "venta": "972"
                                },
                                {
                                    "ventas_id": "20",
                                    "Fecha": "2019-12-01 00:00:00",
                                    "venta": "1455"
                                },
                                {
                                    "ventas_id": "21",
                                    "Fecha": "2019-06-08 00:00:00",
                                    "venta": "497"
                                },
                                {
                                    "ventas_id": "22",
                                    "Fecha": "2019-07-25 00:00:00",
                                    "venta": "1179"
                                }
                            ]
                        },
                        "text/html": "<table><tr><th>ventas_id</th><th>Fecha</th><th>venta</th></tr><tr><td>1</td><td>2018-11-18 00:00:00</td><td>1302</td></tr><tr><td>2</td><td>2018-09-17 00:00:00</td><td>953</td></tr><tr><td>3</td><td>2018-10-18 00:00:00</td><td>1286</td></tr><tr><td>4</td><td>2018-10-30 00:00:00</td><td>889</td></tr><tr><td>5</td><td>2018-05-16 00:00:00</td><td>495</td></tr><tr><td>6</td><td>2018-12-15 00:00:00</td><td>544</td></tr><tr><td>7</td><td>2018-07-28 00:00:00</td><td>1444</td></tr><tr><td>8</td><td>2018-10-05 00:00:00</td><td>435</td></tr><tr><td>9</td><td>2018-04-20 00:00:00</td><td>1203</td></tr><tr><td>10</td><td>2018-06-08 00:00:00</td><td>1038</td></tr><tr><td>11</td><td>2018-08-22 00:00:00</td><td>404</td></tr><tr><td>12</td><td>2019-09-03 00:00:00</td><td>1362</td></tr><tr><td>13</td><td>2019-07-16 00:00:00</td><td>1054</td></tr><tr><td>14</td><td>2019-08-27 00:00:00</td><td>303</td></tr><tr><td>15</td><td>2019-12-15 00:00:00</td><td>871</td></tr><tr><td>16</td><td>2019-07-30 00:00:00</td><td>1062</td></tr><tr><td>17</td><td>2019-10-25 00:00:00</td><td>1376</td></tr><tr><td>18</td><td>2019-12-14 00:00:00</td><td>957</td></tr><tr><td>19</td><td>2019-08-14 00:00:00</td><td>972</td></tr><tr><td>20</td><td>2019-12-01 00:00:00</td><td>1455</td></tr><tr><td>21</td><td>2019-06-08 00:00:00</td><td>497</td></tr><tr><td>22</td><td>2019-07-25 00:00:00</td><td>1179</td></tr></table>"
                    },
                    "metadata": {}
                }
            ],
            "execution_count": 1
        },
        {
            "cell_type": "markdown",
            "source": [
                "WHERE:"
            ],
            "metadata": {
                "azdata_cell_guid": "c94ba2f0-f802-4f79-b405-c0726d2497ab"
            },
            "attachments": {}
        },
        {
            "cell_type": "code",
            "source": [
                "SELECT ventas_id, venta, venta*0.16 AS IVA FROM datos.ventas"
            ],
            "metadata": {
                "azdata_cell_guid": "c1839f2e-8bad-4c8f-bf55-c0920b8f9e34",
                "language": "sql"
            },
            "outputs": [
                {
                    "output_type": "display_data",
                    "data": {
                        "text/html": "(22 row(s) affected)"
                    },
                    "metadata": {}
                },
                {
                    "output_type": "display_data",
                    "data": {
                        "text/html": "Total execution time: 00:00:01.017"
                    },
                    "metadata": {}
                },
                {
                    "output_type": "execute_result",
                    "execution_count": 12,
                    "data": {
                        "application/vnd.dataresource+json": {
                            "schema": {
                                "fields": [
                                    {
                                        "name": "ventas_id"
                                    },
                                    {
                                        "name": "venta"
                                    },
                                    {
                                        "name": "IVA"
                                    }
                                ]
                            },
                            "data": [
                                {
                                    "ventas_id": "14",
                                    "venta": "303",
                                    "IVA": "48.48"
                                },
                                {
                                    "ventas_id": "11",
                                    "venta": "404",
                                    "IVA": "64.64"
                                },
                                {
                                    "ventas_id": "8",
                                    "venta": "435",
                                    "IVA": "69.60"
                                },
                                {
                                    "ventas_id": "5",
                                    "venta": "495",
                                    "IVA": "79.20"
                                },
                                {
                                    "ventas_id": "21",
                                    "venta": "497",
                                    "IVA": "79.52"
                                },
                                {
                                    "ventas_id": "6",
                                    "venta": "544",
                                    "IVA": "87.04"
                                },
                                {
                                    "ventas_id": "15",
                                    "venta": "871",
                                    "IVA": "139.36"
                                },
                                {
                                    "ventas_id": "4",
                                    "venta": "889",
                                    "IVA": "142.24"
                                },
                                {
                                    "ventas_id": "2",
                                    "venta": "953",
                                    "IVA": "152.48"
                                },
                                {
                                    "ventas_id": "18",
                                    "venta": "957",
                                    "IVA": "153.12"
                                },
                                {
                                    "ventas_id": "19",
                                    "venta": "972",
                                    "IVA": "155.52"
                                },
                                {
                                    "ventas_id": "10",
                                    "venta": "1038",
                                    "IVA": "166.08"
                                },
                                {
                                    "ventas_id": "13",
                                    "venta": "1054",
                                    "IVA": "168.64"
                                },
                                {
                                    "ventas_id": "16",
                                    "venta": "1062",
                                    "IVA": "169.92"
                                },
                                {
                                    "ventas_id": "22",
                                    "venta": "1179",
                                    "IVA": "188.64"
                                },
                                {
                                    "ventas_id": "9",
                                    "venta": "1203",
                                    "IVA": "192.48"
                                },
                                {
                                    "ventas_id": "3",
                                    "venta": "1286",
                                    "IVA": "205.76"
                                },
                                {
                                    "ventas_id": "1",
                                    "venta": "1302",
                                    "IVA": "208.32"
                                },
                                {
                                    "ventas_id": "12",
                                    "venta": "1362",
                                    "IVA": "217.92"
                                },
                                {
                                    "ventas_id": "17",
                                    "venta": "1376",
                                    "IVA": "220.16"
                                },
                                {
                                    "ventas_id": "7",
                                    "venta": "1444",
                                    "IVA": "231.04"
                                },
                                {
                                    "ventas_id": "20",
                                    "venta": "1455",
                                    "IVA": "232.80"
                                }
                            ]
                        },
                        "text/html": "<table><tr><th>ventas_id</th><th>venta</th><th>IVA</th></tr><tr><td>14</td><td>303</td><td>48.48</td></tr><tr><td>11</td><td>404</td><td>64.64</td></tr><tr><td>8</td><td>435</td><td>69.60</td></tr><tr><td>5</td><td>495</td><td>79.20</td></tr><tr><td>21</td><td>497</td><td>79.52</td></tr><tr><td>6</td><td>544</td><td>87.04</td></tr><tr><td>15</td><td>871</td><td>139.36</td></tr><tr><td>4</td><td>889</td><td>142.24</td></tr><tr><td>2</td><td>953</td><td>152.48</td></tr><tr><td>18</td><td>957</td><td>153.12</td></tr><tr><td>19</td><td>972</td><td>155.52</td></tr><tr><td>10</td><td>1038</td><td>166.08</td></tr><tr><td>13</td><td>1054</td><td>168.64</td></tr><tr><td>16</td><td>1062</td><td>169.92</td></tr><tr><td>22</td><td>1179</td><td>188.64</td></tr><tr><td>9</td><td>1203</td><td>192.48</td></tr><tr><td>3</td><td>1286</td><td>205.76</td></tr><tr><td>1</td><td>1302</td><td>208.32</td></tr><tr><td>12</td><td>1362</td><td>217.92</td></tr><tr><td>17</td><td>1376</td><td>220.16</td></tr><tr><td>7</td><td>1444</td><td>231.04</td></tr><tr><td>20</td><td>1455</td><td>232.80</td></tr></table>"
                    },
                    "metadata": {}
                }
            ],
            "execution_count": 12
        },
        {
            "cell_type": "code",
            "source": [
                "SELECT * FROM datos.empleados;"
            ],
            "metadata": {
                "azdata_cell_guid": "cd181bfd-7218-4309-a4af-390ff838e40f",
                "language": "sql"
            },
            "outputs": [
                {
                    "output_type": "display_data",
                    "data": {
                        "text/html": "(11 row(s) affected)"
                    },
                    "metadata": {}
                },
                {
                    "output_type": "display_data",
                    "data": {
                        "text/html": "Total execution time: 00:00:01.036"
                    },
                    "metadata": {}
                },
                {
                    "output_type": "execute_result",
                    "execution_count": 3,
                    "data": {
                        "application/vnd.dataresource+json": {
                            "schema": {
                                "fields": [
                                    {
                                        "name": "ID_empleado"
                                    },
                                    {
                                        "name": "Nombre"
                                    },
                                    {
                                        "name": "Apellido"
                                    },
                                    {
                                        "name": "Telefono"
                                    },
                                    {
                                        "name": "Edad"
                                    },
                                    {
                                        "name": "Domicilio"
                                    },
                                    {
                                        "name": "ID_Gerente"
                                    }
                                ]
                            },
                            "data": [
                                {
                                    "ID_empleado": "1111222",
                                    "Nombre": "Alberto",
                                    "Apellido": "Barrientos",
                                    "Telefono": "34766613",
                                    "Edad": "26",
                                    "Domicilio": "Federal 233",
                                    "ID_Gerente": "5942572"
                                },
                                {
                                    "ID_empleado": "2310967",
                                    "Nombre": "Jairo",
                                    "Apellido": "Mira",
                                    "Telefono": "36403810",
                                    "Edad": "29",
                                    "Domicilio": "Calle 25 interior 2",
                                    "ID_Gerente": "5942572"
                                },
                                {
                                    "ID_empleado": "2520477",
                                    "Nombre": "Egidio",
                                    "Apellido": "Lopez",
                                    "Telefono": "33444383",
                                    "Edad": "24",
                                    "Domicilio": "Rosas 996",
                                    "ID_Gerente": "5942572"
                                },
                                {
                                    "ID_empleado": "2630867",
                                    "Nombre": "Elena",
                                    "Apellido": "Atehortua",
                                    "Telefono": "35581732",
                                    "Edad": "37",
                                    "Domicilio": "Sierra del tigre 299",
                                    "ID_Gerente": "5942572"
                                },
                                {
                                    "ID_empleado": "3833745",
                                    "Nombre": "Maria",
                                    "Apellido": "Zapata",
                                    "Telefono": "35354455",
                                    "Edad": "34",
                                    "Domicilio": "Boulevard 85",
                                    "ID_Gerente": "5942572"
                                },
                                {
                                    "ID_empleado": "4245367",
                                    "Nombre": "Alexandra",
                                    "Apellido": "Zapata",
                                    "Telefono": "33467136",
                                    "Edad": "31",
                                    "Domicilio": "Ingenieros 234",
                                    "ID_Gerente": "5942572"
                                },
                                {
                                    "ID_empleado": "5942572",
                                    "Nombre": "Jesus",
                                    "Apellido": "Agudelo",
                                    "Telefono": "34616222",
                                    "Edad": "35",
                                    "Domicilio": "NULL",
                                    "ID_Gerente": "NULL"
                                },
                                {
                                    "ID_empleado": "6332756",
                                    "Nombre": "Reinaldo",
                                    "Apellido": "Gonzalez",
                                    "Telefono": "36642727",
                                    "Edad": "43",
                                    "Domicilio": "Vallarta 711",
                                    "ID_Gerente": "5942572"
                                },
                                {
                                    "ID_empleado": "6931035",
                                    "Nombre": "Albeiro",
                                    "Apellido": "Villa",
                                    "Telefono": "33631010",
                                    "Edad": "39",
                                    "Domicilio": "Carniceros 233",
                                    "ID_Gerente": "5942572"
                                },
                                {
                                    "ID_empleado": "9611338",
                                    "Nombre": "Haygnes",
                                    "Apellido": "Ortiz",
                                    "Telefono": "35400189",
                                    "Edad": "27",
                                    "Domicilio": "General Diaz 343",
                                    "ID_Gerente": "5942572"
                                },
                                {
                                    "ID_empleado": "9922377",
                                    "Nombre": "Alexander",
                                    "Apellido": "Martinez",
                                    "Telefono": "36554872",
                                    "Edad": "28",
                                    "Domicilio": "Camino viejo 123",
                                    "ID_Gerente": "5942572"
                                }
                            ]
                        },
                        "text/html": "<table><tr><th>ID_empleado</th><th>Nombre</th><th>Apellido</th><th>Telefono</th><th>Edad</th><th>Domicilio</th><th>ID_Gerente</th></tr><tr><td>1111222</td><td>Alberto</td><td>Barrientos</td><td>34766613</td><td>26</td><td>Federal 233</td><td>5942572</td></tr><tr><td>2310967</td><td>Jairo</td><td>Mira</td><td>36403810</td><td>29</td><td>Calle 25 interior 2</td><td>5942572</td></tr><tr><td>2520477</td><td>Egidio</td><td>Lopez</td><td>33444383</td><td>24</td><td>Rosas 996</td><td>5942572</td></tr><tr><td>2630867</td><td>Elena</td><td>Atehortua</td><td>35581732</td><td>37</td><td>Sierra del tigre 299</td><td>5942572</td></tr><tr><td>3833745</td><td>Maria</td><td>Zapata</td><td>35354455</td><td>34</td><td>Boulevard 85</td><td>5942572</td></tr><tr><td>4245367</td><td>Alexandra</td><td>Zapata</td><td>33467136</td><td>31</td><td>Ingenieros 234</td><td>5942572</td></tr><tr><td>5942572</td><td>Jesus</td><td>Agudelo</td><td>34616222</td><td>35</td><td>NULL</td><td>NULL</td></tr><tr><td>6332756</td><td>Reinaldo</td><td>Gonzalez</td><td>36642727</td><td>43</td><td>Vallarta 711</td><td>5942572</td></tr><tr><td>6931035</td><td>Albeiro</td><td>Villa</td><td>33631010</td><td>39</td><td>Carniceros 233</td><td>5942572</td></tr><tr><td>9611338</td><td>Haygnes</td><td>Ortiz</td><td>35400189</td><td>27</td><td>General Diaz 343</td><td>5942572</td></tr><tr><td>9922377</td><td>Alexander</td><td>Martinez</td><td>36554872</td><td>28</td><td>Camino viejo 123</td><td>5942572</td></tr></table>"
                    },
                    "metadata": {}
                }
            ],
            "execution_count": 3
        },
        {
            "cell_type": "code",
            "source": [
                "SELECT id_empleado, nombre, apellido FROM datos.empleados"
            ],
            "metadata": {
                "azdata_cell_guid": "26d1a385-1478-453c-b425-7d1fe112f426",
                "language": "sql"
            },
            "outputs": [
                {
                    "output_type": "display_data",
                    "data": {
                        "text/html": "(11 row(s) affected)"
                    },
                    "metadata": {}
                },
                {
                    "output_type": "display_data",
                    "data": {
                        "text/html": "Total execution time: 00:00:01.014"
                    },
                    "metadata": {}
                },
                {
                    "output_type": "execute_result",
                    "execution_count": 11,
                    "data": {
                        "application/vnd.dataresource+json": {
                            "schema": {
                                "fields": [
                                    {
                                        "name": "id_empleado"
                                    },
                                    {
                                        "name": "nombre"
                                    },
                                    {
                                        "name": "apellido"
                                    }
                                ]
                            },
                            "data": [
                                {
                                    "id_empleado": "1111222",
                                    "nombre": "Alberto",
                                    "apellido": "Barrientos"
                                },
                                {
                                    "id_empleado": "2310967",
                                    "nombre": "Jairo",
                                    "apellido": "Mira"
                                },
                                {
                                    "id_empleado": "2520477",
                                    "nombre": "Egidio",
                                    "apellido": "Lopez"
                                },
                                {
                                    "id_empleado": "2630867",
                                    "nombre": "Elena",
                                    "apellido": "Atehortua"
                                },
                                {
                                    "id_empleado": "3833745",
                                    "nombre": "Maria",
                                    "apellido": "Zapata"
                                },
                                {
                                    "id_empleado": "4245367",
                                    "nombre": "Alexandra",
                                    "apellido": "Zapata"
                                },
                                {
                                    "id_empleado": "5942572",
                                    "nombre": "Jesus",
                                    "apellido": "Agudelo"
                                },
                                {
                                    "id_empleado": "6332756",
                                    "nombre": "Reinaldo",
                                    "apellido": "Gonzalez"
                                },
                                {
                                    "id_empleado": "6931035",
                                    "nombre": "Albeiro",
                                    "apellido": "Villa"
                                },
                                {
                                    "id_empleado": "9611338",
                                    "nombre": "Haygnes",
                                    "apellido": "Ortiz"
                                },
                                {
                                    "id_empleado": "9922377",
                                    "nombre": "Alexander",
                                    "apellido": "Martinez"
                                }
                            ]
                        },
                        "text/html": "<table><tr><th>id_empleado</th><th>nombre</th><th>apellido</th></tr><tr><td>1111222</td><td>Alberto</td><td>Barrientos</td></tr><tr><td>2310967</td><td>Jairo</td><td>Mira</td></tr><tr><td>2520477</td><td>Egidio</td><td>Lopez</td></tr><tr><td>2630867</td><td>Elena</td><td>Atehortua</td></tr><tr><td>3833745</td><td>Maria</td><td>Zapata</td></tr><tr><td>4245367</td><td>Alexandra</td><td>Zapata</td></tr><tr><td>5942572</td><td>Jesus</td><td>Agudelo</td></tr><tr><td>6332756</td><td>Reinaldo</td><td>Gonzalez</td></tr><tr><td>6931035</td><td>Albeiro</td><td>Villa</td></tr><tr><td>9611338</td><td>Haygnes</td><td>Ortiz</td></tr><tr><td>9922377</td><td>Alexander</td><td>Martinez</td></tr></table>"
                    },
                    "metadata": {}
                }
            ],
            "execution_count": 11
        },
        {
            "cell_type": "code",
            "source": [
                "SELECT * FROM  datos.ventas"
            ],
            "metadata": {
                "azdata_cell_guid": "e1fbe637-4e3a-4a31-82a9-e8808a838446",
                "language": "sql"
            },
            "outputs": [
                {
                    "output_type": "display_data",
                    "data": {
                        "text/html": "(22 row(s) affected)"
                    },
                    "metadata": {}
                },
                {
                    "output_type": "display_data",
                    "data": {
                        "text/html": "Total execution time: 00:00:01.021"
                    },
                    "metadata": {}
                },
                {
                    "output_type": "execute_result",
                    "execution_count": 4,
                    "data": {
                        "application/vnd.dataresource+json": {
                            "schema": {
                                "fields": [
                                    {
                                        "name": "ventas_id"
                                    },
                                    {
                                        "name": "Fecha"
                                    },
                                    {
                                        "name": "ID_local"
                                    },
                                    {
                                        "name": "clave_producto"
                                    },
                                    {
                                        "name": "venta"
                                    },
                                    {
                                        "name": "venta_empleado"
                                    }
                                ]
                            },
                            "data": [
                                {
                                    "ventas_id": "1",
                                    "Fecha": "2018-11-18 00:00:00",
                                    "ID_local": "2",
                                    "clave_producto": "pzz",
                                    "venta": "1302",
                                    "venta_empleado": "2630867"
                                },
                                {
                                    "ventas_id": "2",
                                    "Fecha": "2018-09-17 00:00:00",
                                    "ID_local": "2",
                                    "clave_producto": "clz",
                                    "venta": "953",
                                    "venta_empleado": "2310967"
                                },
                                {
                                    "ventas_id": "3",
                                    "Fecha": "2018-10-18 00:00:00",
                                    "ID_local": "4",
                                    "clave_producto": "brr",
                                    "venta": "1286",
                                    "venta_empleado": "6931035"
                                },
                                {
                                    "ventas_id": "4",
                                    "Fecha": "2018-10-30 00:00:00",
                                    "ID_local": "1",
                                    "clave_producto": "brr",
                                    "venta": "889",
                                    "venta_empleado": "9922377"
                                },
                                {
                                    "ventas_id": "5",
                                    "Fecha": "2018-05-16 00:00:00",
                                    "ID_local": "1",
                                    "clave_producto": "qsd",
                                    "venta": "495",
                                    "venta_empleado": "2520477"
                                },
                                {
                                    "ventas_id": "6",
                                    "Fecha": "2018-12-15 00:00:00",
                                    "ID_local": "3",
                                    "clave_producto": "pzz",
                                    "venta": "544",
                                    "venta_empleado": "9611338"
                                },
                                {
                                    "ventas_id": "7",
                                    "Fecha": "2018-07-28 00:00:00",
                                    "ID_local": "4",
                                    "clave_producto": "pzz",
                                    "venta": "1444",
                                    "venta_empleado": "6332756"
                                },
                                {
                                    "ventas_id": "8",
                                    "Fecha": "2018-10-05 00:00:00",
                                    "ID_local": "1",
                                    "clave_producto": "pzz",
                                    "venta": "435",
                                    "venta_empleado": "2520477"
                                },
                                {
                                    "ventas_id": "9",
                                    "Fecha": "2018-04-20 00:00:00",
                                    "ID_local": "1",
                                    "clave_producto": "qsd",
                                    "venta": "1203",
                                    "venta_empleado": "9922377"
                                },
                                {
                                    "ventas_id": "10",
                                    "Fecha": "2018-06-08 00:00:00",
                                    "ID_local": "1",
                                    "clave_producto": "brr",
                                    "venta": "1038",
                                    "venta_empleado": "6332756"
                                },
                                {
                                    "ventas_id": "11",
                                    "Fecha": "2018-08-22 00:00:00",
                                    "ID_local": "1",
                                    "clave_producto": "brr",
                                    "venta": "404",
                                    "venta_empleado": "3833745"
                                },
                                {
                                    "ventas_id": "12",
                                    "Fecha": "2019-09-03 00:00:00",
                                    "ID_local": "1",
                                    "clave_producto": "pzz",
                                    "venta": "1362",
                                    "venta_empleado": "5728566"
                                },
                                {
                                    "ventas_id": "13",
                                    "Fecha": "2019-07-16 00:00:00",
                                    "ID_local": "3",
                                    "clave_producto": "qsd",
                                    "venta": "1054",
                                    "venta_empleado": "2310967"
                                },
                                {
                                    "ventas_id": "14",
                                    "Fecha": "2019-08-27 00:00:00",
                                    "ID_local": "3",
                                    "clave_producto": "clz",
                                    "venta": "303",
                                    "venta_empleado": "3833745"
                                },
                                {
                                    "ventas_id": "15",
                                    "Fecha": "2019-12-15 00:00:00",
                                    "ID_local": "1",
                                    "clave_producto": "brr",
                                    "venta": "871",
                                    "venta_empleado": "2520477"
                                },
                                {
                                    "ventas_id": "16",
                                    "Fecha": "2019-07-30 00:00:00",
                                    "ID_local": "3",
                                    "clave_producto": "brr",
                                    "venta": "1062",
                                    "venta_empleado": "5728566"
                                },
                                {
                                    "ventas_id": "17",
                                    "Fecha": "2019-10-25 00:00:00",
                                    "ID_local": "1",
                                    "clave_producto": "pzz",
                                    "venta": "1376",
                                    "venta_empleado": "6332756"
                                },
                                {
                                    "ventas_id": "18",
                                    "Fecha": "2019-12-14 00:00:00",
                                    "ID_local": "3",
                                    "clave_producto": "pzz",
                                    "venta": "957",
                                    "venta_empleado": "2310967"
                                },
                                {
                                    "ventas_id": "19",
                                    "Fecha": "2019-08-14 00:00:00",
                                    "ID_local": "2",
                                    "clave_producto": "clz",
                                    "venta": "972",
                                    "venta_empleado": "2310967"
                                },
                                {
                                    "ventas_id": "20",
                                    "Fecha": "2019-12-01 00:00:00",
                                    "ID_local": "1",
                                    "clave_producto": "pzz",
                                    "venta": "1455",
                                    "venta_empleado": "2310967"
                                },
                                {
                                    "ventas_id": "21",
                                    "Fecha": "2019-06-08 00:00:00",
                                    "ID_local": "4",
                                    "clave_producto": "qsd",
                                    "venta": "497",
                                    "venta_empleado": "5728566"
                                },
                                {
                                    "ventas_id": "22",
                                    "Fecha": "2019-07-25 00:00:00",
                                    "ID_local": "3",
                                    "clave_producto": "clz",
                                    "venta": "1179",
                                    "venta_empleado": "2310967"
                                }
                            ]
                        },
                        "text/html": "<table><tr><th>ventas_id</th><th>Fecha</th><th>ID_local</th><th>clave_producto</th><th>venta</th><th>venta_empleado</th></tr><tr><td>1</td><td>2018-11-18 00:00:00</td><td>2</td><td>pzz</td><td>1302</td><td>2630867</td></tr><tr><td>2</td><td>2018-09-17 00:00:00</td><td>2</td><td>clz</td><td>953</td><td>2310967</td></tr><tr><td>3</td><td>2018-10-18 00:00:00</td><td>4</td><td>brr</td><td>1286</td><td>6931035</td></tr><tr><td>4</td><td>2018-10-30 00:00:00</td><td>1</td><td>brr</td><td>889</td><td>9922377</td></tr><tr><td>5</td><td>2018-05-16 00:00:00</td><td>1</td><td>qsd</td><td>495</td><td>2520477</td></tr><tr><td>6</td><td>2018-12-15 00:00:00</td><td>3</td><td>pzz</td><td>544</td><td>9611338</td></tr><tr><td>7</td><td>2018-07-28 00:00:00</td><td>4</td><td>pzz</td><td>1444</td><td>6332756</td></tr><tr><td>8</td><td>2018-10-05 00:00:00</td><td>1</td><td>pzz</td><td>435</td><td>2520477</td></tr><tr><td>9</td><td>2018-04-20 00:00:00</td><td>1</td><td>qsd</td><td>1203</td><td>9922377</td></tr><tr><td>10</td><td>2018-06-08 00:00:00</td><td>1</td><td>brr</td><td>1038</td><td>6332756</td></tr><tr><td>11</td><td>2018-08-22 00:00:00</td><td>1</td><td>brr</td><td>404</td><td>3833745</td></tr><tr><td>12</td><td>2019-09-03 00:00:00</td><td>1</td><td>pzz</td><td>1362</td><td>5728566</td></tr><tr><td>13</td><td>2019-07-16 00:00:00</td><td>3</td><td>qsd</td><td>1054</td><td>2310967</td></tr><tr><td>14</td><td>2019-08-27 00:00:00</td><td>3</td><td>clz</td><td>303</td><td>3833745</td></tr><tr><td>15</td><td>2019-12-15 00:00:00</td><td>1</td><td>brr</td><td>871</td><td>2520477</td></tr><tr><td>16</td><td>2019-07-30 00:00:00</td><td>3</td><td>brr</td><td>1062</td><td>5728566</td></tr><tr><td>17</td><td>2019-10-25 00:00:00</td><td>1</td><td>pzz</td><td>1376</td><td>6332756</td></tr><tr><td>18</td><td>2019-12-14 00:00:00</td><td>3</td><td>pzz</td><td>957</td><td>2310967</td></tr><tr><td>19</td><td>2019-08-14 00:00:00</td><td>2</td><td>clz</td><td>972</td><td>2310967</td></tr><tr><td>20</td><td>2019-12-01 00:00:00</td><td>1</td><td>pzz</td><td>1455</td><td>2310967</td></tr><tr><td>21</td><td>2019-06-08 00:00:00</td><td>4</td><td>qsd</td><td>497</td><td>5728566</td></tr><tr><td>22</td><td>2019-07-25 00:00:00</td><td>3</td><td>clz</td><td>1179</td><td>2310967</td></tr></table>"
                    },
                    "metadata": {}
                }
            ],
            "execution_count": 4
        },
        {
            "cell_type": "markdown",
            "source": [
                "## **WHERE:** Utilizada para filtrar los registros de la tabla, extrae los datos que cumplen con cierta condición."
            ],
            "metadata": {
                "azdata_cell_guid": "f39674b0-ae80-4f27-bcf7-39a1ce9a3168"
            },
            "attachments": {}
        },
        {
            "cell_type": "code",
            "source": [
                "SELECT * FROM datos.ventas\r\n",
                "WHERE  ID_local = 2;"
            ],
            "metadata": {
                "azdata_cell_guid": "6e3c4f5a-871a-445f-b6df-43788da49cc9",
                "language": "sql"
            },
            "outputs": [
                {
                    "output_type": "display_data",
                    "data": {
                        "text/html": "(3 row(s) affected)"
                    },
                    "metadata": {}
                },
                {
                    "output_type": "display_data",
                    "data": {
                        "text/html": "Total execution time: 00:00:01.017"
                    },
                    "metadata": {}
                },
                {
                    "output_type": "execute_result",
                    "execution_count": 5,
                    "data": {
                        "application/vnd.dataresource+json": {
                            "schema": {
                                "fields": [
                                    {
                                        "name": "ventas_id"
                                    },
                                    {
                                        "name": "Fecha"
                                    },
                                    {
                                        "name": "ID_local"
                                    },
                                    {
                                        "name": "clave_producto"
                                    },
                                    {
                                        "name": "venta"
                                    },
                                    {
                                        "name": "venta_empleado"
                                    }
                                ]
                            },
                            "data": [
                                {
                                    "ventas_id": "1",
                                    "Fecha": "2018-11-18 00:00:00",
                                    "ID_local": "2",
                                    "clave_producto": "pzz",
                                    "venta": "1302",
                                    "venta_empleado": "2630867"
                                },
                                {
                                    "ventas_id": "2",
                                    "Fecha": "2018-09-17 00:00:00",
                                    "ID_local": "2",
                                    "clave_producto": "clz",
                                    "venta": "953",
                                    "venta_empleado": "2310967"
                                },
                                {
                                    "ventas_id": "19",
                                    "Fecha": "2019-08-14 00:00:00",
                                    "ID_local": "2",
                                    "clave_producto": "clz",
                                    "venta": "972",
                                    "venta_empleado": "2310967"
                                }
                            ]
                        },
                        "text/html": "<table><tr><th>ventas_id</th><th>Fecha</th><th>ID_local</th><th>clave_producto</th><th>venta</th><th>venta_empleado</th></tr><tr><td>1</td><td>2018-11-18 00:00:00</td><td>2</td><td>pzz</td><td>1302</td><td>2630867</td></tr><tr><td>2</td><td>2018-09-17 00:00:00</td><td>2</td><td>clz</td><td>953</td><td>2310967</td></tr><tr><td>19</td><td>2019-08-14 00:00:00</td><td>2</td><td>clz</td><td>972</td><td>2310967</td></tr></table>"
                    },
                    "metadata": {}
                }
            ],
            "execution_count": 5
        },
        {
            "cell_type": "code",
            "source": [
                "SELECT fecha, venta FROM datos.ventas\r\n",
                "WHERE  ID_local = 2;"
            ],
            "metadata": {
                "language": "sql",
                "azdata_cell_guid": "08530f37-9600-410f-a83c-ece453334421"
            },
            "outputs": [
                {
                    "output_type": "display_data",
                    "data": {
                        "text/html": "(3 row(s) affected)"
                    },
                    "metadata": {}
                },
                {
                    "output_type": "display_data",
                    "data": {
                        "text/html": "Total execution time: 00:00:01.017"
                    },
                    "metadata": {}
                },
                {
                    "output_type": "execute_result",
                    "execution_count": 6,
                    "data": {
                        "application/vnd.dataresource+json": {
                            "schema": {
                                "fields": [
                                    {
                                        "name": "fecha"
                                    },
                                    {
                                        "name": "venta"
                                    }
                                ]
                            },
                            "data": [
                                {
                                    "fecha": "2018-11-18 00:00:00",
                                    "venta": "1302"
                                },
                                {
                                    "fecha": "2018-09-17 00:00:00",
                                    "venta": "953"
                                },
                                {
                                    "fecha": "2019-08-14 00:00:00",
                                    "venta": "972"
                                }
                            ]
                        },
                        "text/html": "<table><tr><th>fecha</th><th>venta</th></tr><tr><td>2018-11-18 00:00:00</td><td>1302</td></tr><tr><td>2018-09-17 00:00:00</td><td>953</td></tr><tr><td>2019-08-14 00:00:00</td><td>972</td></tr></table>"
                    },
                    "metadata": {}
                }
            ],
            "execution_count": 6
        },
        {
            "cell_type": "code",
            "source": [
                "SELECT * FROM datos.ventas\r\n",
                "WHERE  venta<1000;"
            ],
            "metadata": {
                "language": "sql",
                "azdata_cell_guid": "f4963f1b-08b5-4f05-80cd-7e668a97c2e4"
            },
            "outputs": [
                {
                    "output_type": "display_data",
                    "data": {
                        "text/html": "(11 row(s) affected)"
                    },
                    "metadata": {}
                },
                {
                    "output_type": "display_data",
                    "data": {
                        "text/html": "Total execution time: 00:00:01.016"
                    },
                    "metadata": {}
                },
                {
                    "output_type": "execute_result",
                    "execution_count": 7,
                    "data": {
                        "application/vnd.dataresource+json": {
                            "schema": {
                                "fields": [
                                    {
                                        "name": "ventas_id"
                                    },
                                    {
                                        "name": "Fecha"
                                    },
                                    {
                                        "name": "ID_local"
                                    },
                                    {
                                        "name": "clave_producto"
                                    },
                                    {
                                        "name": "venta"
                                    },
                                    {
                                        "name": "venta_empleado"
                                    }
                                ]
                            },
                            "data": [
                                {
                                    "ventas_id": "14",
                                    "Fecha": "2019-08-27 00:00:00",
                                    "ID_local": "3",
                                    "clave_producto": "clz",
                                    "venta": "303",
                                    "venta_empleado": "3833745"
                                },
                                {
                                    "ventas_id": "11",
                                    "Fecha": "2018-08-22 00:00:00",
                                    "ID_local": "1",
                                    "clave_producto": "brr",
                                    "venta": "404",
                                    "venta_empleado": "3833745"
                                },
                                {
                                    "ventas_id": "8",
                                    "Fecha": "2018-10-05 00:00:00",
                                    "ID_local": "1",
                                    "clave_producto": "pzz",
                                    "venta": "435",
                                    "venta_empleado": "2520477"
                                },
                                {
                                    "ventas_id": "5",
                                    "Fecha": "2018-05-16 00:00:00",
                                    "ID_local": "1",
                                    "clave_producto": "qsd",
                                    "venta": "495",
                                    "venta_empleado": "2520477"
                                },
                                {
                                    "ventas_id": "21",
                                    "Fecha": "2019-06-08 00:00:00",
                                    "ID_local": "4",
                                    "clave_producto": "qsd",
                                    "venta": "497",
                                    "venta_empleado": "5728566"
                                },
                                {
                                    "ventas_id": "6",
                                    "Fecha": "2018-12-15 00:00:00",
                                    "ID_local": "3",
                                    "clave_producto": "pzz",
                                    "venta": "544",
                                    "venta_empleado": "9611338"
                                },
                                {
                                    "ventas_id": "15",
                                    "Fecha": "2019-12-15 00:00:00",
                                    "ID_local": "1",
                                    "clave_producto": "brr",
                                    "venta": "871",
                                    "venta_empleado": "2520477"
                                },
                                {
                                    "ventas_id": "4",
                                    "Fecha": "2018-10-30 00:00:00",
                                    "ID_local": "1",
                                    "clave_producto": "brr",
                                    "venta": "889",
                                    "venta_empleado": "9922377"
                                },
                                {
                                    "ventas_id": "2",
                                    "Fecha": "2018-09-17 00:00:00",
                                    "ID_local": "2",
                                    "clave_producto": "clz",
                                    "venta": "953",
                                    "venta_empleado": "2310967"
                                },
                                {
                                    "ventas_id": "18",
                                    "Fecha": "2019-12-14 00:00:00",
                                    "ID_local": "3",
                                    "clave_producto": "pzz",
                                    "venta": "957",
                                    "venta_empleado": "2310967"
                                },
                                {
                                    "ventas_id": "19",
                                    "Fecha": "2019-08-14 00:00:00",
                                    "ID_local": "2",
                                    "clave_producto": "clz",
                                    "venta": "972",
                                    "venta_empleado": "2310967"
                                }
                            ]
                        },
                        "text/html": "<table><tr><th>ventas_id</th><th>Fecha</th><th>ID_local</th><th>clave_producto</th><th>venta</th><th>venta_empleado</th></tr><tr><td>14</td><td>2019-08-27 00:00:00</td><td>3</td><td>clz</td><td>303</td><td>3833745</td></tr><tr><td>11</td><td>2018-08-22 00:00:00</td><td>1</td><td>brr</td><td>404</td><td>3833745</td></tr><tr><td>8</td><td>2018-10-05 00:00:00</td><td>1</td><td>pzz</td><td>435</td><td>2520477</td></tr><tr><td>5</td><td>2018-05-16 00:00:00</td><td>1</td><td>qsd</td><td>495</td><td>2520477</td></tr><tr><td>21</td><td>2019-06-08 00:00:00</td><td>4</td><td>qsd</td><td>497</td><td>5728566</td></tr><tr><td>6</td><td>2018-12-15 00:00:00</td><td>3</td><td>pzz</td><td>544</td><td>9611338</td></tr><tr><td>15</td><td>2019-12-15 00:00:00</td><td>1</td><td>brr</td><td>871</td><td>2520477</td></tr><tr><td>4</td><td>2018-10-30 00:00:00</td><td>1</td><td>brr</td><td>889</td><td>9922377</td></tr><tr><td>2</td><td>2018-09-17 00:00:00</td><td>2</td><td>clz</td><td>953</td><td>2310967</td></tr><tr><td>18</td><td>2019-12-14 00:00:00</td><td>3</td><td>pzz</td><td>957</td><td>2310967</td></tr><tr><td>19</td><td>2019-08-14 00:00:00</td><td>2</td><td>clz</td><td>972</td><td>2310967</td></tr></table>"
                    },
                    "metadata": {}
                }
            ],
            "execution_count": 7
        },
        {
            "cell_type": "code",
            "source": [
                "SELECT * FROM datos.ventas\r\n",
                "WHERE  venta<=1000;"
            ],
            "metadata": {
                "language": "sql",
                "azdata_cell_guid": "bb460135-82f1-4748-a582-d8eea9116bba"
            },
            "outputs": [
                {
                    "output_type": "display_data",
                    "data": {
                        "text/html": "(11 row(s) affected)"
                    },
                    "metadata": {}
                },
                {
                    "output_type": "display_data",
                    "data": {
                        "text/html": "Total execution time: 00:00:01.017"
                    },
                    "metadata": {}
                },
                {
                    "output_type": "execute_result",
                    "execution_count": 8,
                    "data": {
                        "application/vnd.dataresource+json": {
                            "schema": {
                                "fields": [
                                    {
                                        "name": "ventas_id"
                                    },
                                    {
                                        "name": "Fecha"
                                    },
                                    {
                                        "name": "ID_local"
                                    },
                                    {
                                        "name": "clave_producto"
                                    },
                                    {
                                        "name": "venta"
                                    },
                                    {
                                        "name": "venta_empleado"
                                    }
                                ]
                            },
                            "data": [
                                {
                                    "ventas_id": "14",
                                    "Fecha": "2019-08-27 00:00:00",
                                    "ID_local": "3",
                                    "clave_producto": "clz",
                                    "venta": "303",
                                    "venta_empleado": "3833745"
                                },
                                {
                                    "ventas_id": "11",
                                    "Fecha": "2018-08-22 00:00:00",
                                    "ID_local": "1",
                                    "clave_producto": "brr",
                                    "venta": "404",
                                    "venta_empleado": "3833745"
                                },
                                {
                                    "ventas_id": "8",
                                    "Fecha": "2018-10-05 00:00:00",
                                    "ID_local": "1",
                                    "clave_producto": "pzz",
                                    "venta": "435",
                                    "venta_empleado": "2520477"
                                },
                                {
                                    "ventas_id": "5",
                                    "Fecha": "2018-05-16 00:00:00",
                                    "ID_local": "1",
                                    "clave_producto": "qsd",
                                    "venta": "495",
                                    "venta_empleado": "2520477"
                                },
                                {
                                    "ventas_id": "21",
                                    "Fecha": "2019-06-08 00:00:00",
                                    "ID_local": "4",
                                    "clave_producto": "qsd",
                                    "venta": "497",
                                    "venta_empleado": "5728566"
                                },
                                {
                                    "ventas_id": "6",
                                    "Fecha": "2018-12-15 00:00:00",
                                    "ID_local": "3",
                                    "clave_producto": "pzz",
                                    "venta": "544",
                                    "venta_empleado": "9611338"
                                },
                                {
                                    "ventas_id": "15",
                                    "Fecha": "2019-12-15 00:00:00",
                                    "ID_local": "1",
                                    "clave_producto": "brr",
                                    "venta": "871",
                                    "venta_empleado": "2520477"
                                },
                                {
                                    "ventas_id": "4",
                                    "Fecha": "2018-10-30 00:00:00",
                                    "ID_local": "1",
                                    "clave_producto": "brr",
                                    "venta": "889",
                                    "venta_empleado": "9922377"
                                },
                                {
                                    "ventas_id": "2",
                                    "Fecha": "2018-09-17 00:00:00",
                                    "ID_local": "2",
                                    "clave_producto": "clz",
                                    "venta": "953",
                                    "venta_empleado": "2310967"
                                },
                                {
                                    "ventas_id": "18",
                                    "Fecha": "2019-12-14 00:00:00",
                                    "ID_local": "3",
                                    "clave_producto": "pzz",
                                    "venta": "957",
                                    "venta_empleado": "2310967"
                                },
                                {
                                    "ventas_id": "19",
                                    "Fecha": "2019-08-14 00:00:00",
                                    "ID_local": "2",
                                    "clave_producto": "clz",
                                    "venta": "972",
                                    "venta_empleado": "2310967"
                                }
                            ]
                        },
                        "text/html": "<table><tr><th>ventas_id</th><th>Fecha</th><th>ID_local</th><th>clave_producto</th><th>venta</th><th>venta_empleado</th></tr><tr><td>14</td><td>2019-08-27 00:00:00</td><td>3</td><td>clz</td><td>303</td><td>3833745</td></tr><tr><td>11</td><td>2018-08-22 00:00:00</td><td>1</td><td>brr</td><td>404</td><td>3833745</td></tr><tr><td>8</td><td>2018-10-05 00:00:00</td><td>1</td><td>pzz</td><td>435</td><td>2520477</td></tr><tr><td>5</td><td>2018-05-16 00:00:00</td><td>1</td><td>qsd</td><td>495</td><td>2520477</td></tr><tr><td>21</td><td>2019-06-08 00:00:00</td><td>4</td><td>qsd</td><td>497</td><td>5728566</td></tr><tr><td>6</td><td>2018-12-15 00:00:00</td><td>3</td><td>pzz</td><td>544</td><td>9611338</td></tr><tr><td>15</td><td>2019-12-15 00:00:00</td><td>1</td><td>brr</td><td>871</td><td>2520477</td></tr><tr><td>4</td><td>2018-10-30 00:00:00</td><td>1</td><td>brr</td><td>889</td><td>9922377</td></tr><tr><td>2</td><td>2018-09-17 00:00:00</td><td>2</td><td>clz</td><td>953</td><td>2310967</td></tr><tr><td>18</td><td>2019-12-14 00:00:00</td><td>3</td><td>pzz</td><td>957</td><td>2310967</td></tr><tr><td>19</td><td>2019-08-14 00:00:00</td><td>2</td><td>clz</td><td>972</td><td>2310967</td></tr></table>"
                    },
                    "metadata": {}
                }
            ],
            "execution_count": 8
        },
        {
            "cell_type": "code",
            "source": [
                "SELECT * FROM datos.ventas\r\n",
                "WHERE  ID_local != 2;"
            ],
            "metadata": {
                "language": "sql",
                "azdata_cell_guid": "eba1a265-b048-46df-bbf4-30fc636bd882"
            },
            "outputs": [
                {
                    "output_type": "display_data",
                    "data": {
                        "text/html": "(19 row(s) affected)"
                    },
                    "metadata": {}
                },
                {
                    "output_type": "display_data",
                    "data": {
                        "text/html": "Total execution time: 00:00:01.014"
                    },
                    "metadata": {}
                },
                {
                    "output_type": "execute_result",
                    "execution_count": 9,
                    "data": {
                        "application/vnd.dataresource+json": {
                            "schema": {
                                "fields": [
                                    {
                                        "name": "ventas_id"
                                    },
                                    {
                                        "name": "Fecha"
                                    },
                                    {
                                        "name": "ID_local"
                                    },
                                    {
                                        "name": "clave_producto"
                                    },
                                    {
                                        "name": "venta"
                                    },
                                    {
                                        "name": "venta_empleado"
                                    }
                                ]
                            },
                            "data": [
                                {
                                    "ventas_id": "3",
                                    "Fecha": "2018-10-18 00:00:00",
                                    "ID_local": "4",
                                    "clave_producto": "brr",
                                    "venta": "1286",
                                    "venta_empleado": "6931035"
                                },
                                {
                                    "ventas_id": "4",
                                    "Fecha": "2018-10-30 00:00:00",
                                    "ID_local": "1",
                                    "clave_producto": "brr",
                                    "venta": "889",
                                    "venta_empleado": "9922377"
                                },
                                {
                                    "ventas_id": "5",
                                    "Fecha": "2018-05-16 00:00:00",
                                    "ID_local": "1",
                                    "clave_producto": "qsd",
                                    "venta": "495",
                                    "venta_empleado": "2520477"
                                },
                                {
                                    "ventas_id": "6",
                                    "Fecha": "2018-12-15 00:00:00",
                                    "ID_local": "3",
                                    "clave_producto": "pzz",
                                    "venta": "544",
                                    "venta_empleado": "9611338"
                                },
                                {
                                    "ventas_id": "7",
                                    "Fecha": "2018-07-28 00:00:00",
                                    "ID_local": "4",
                                    "clave_producto": "pzz",
                                    "venta": "1444",
                                    "venta_empleado": "6332756"
                                },
                                {
                                    "ventas_id": "8",
                                    "Fecha": "2018-10-05 00:00:00",
                                    "ID_local": "1",
                                    "clave_producto": "pzz",
                                    "venta": "435",
                                    "venta_empleado": "2520477"
                                },
                                {
                                    "ventas_id": "9",
                                    "Fecha": "2018-04-20 00:00:00",
                                    "ID_local": "1",
                                    "clave_producto": "qsd",
                                    "venta": "1203",
                                    "venta_empleado": "9922377"
                                },
                                {
                                    "ventas_id": "10",
                                    "Fecha": "2018-06-08 00:00:00",
                                    "ID_local": "1",
                                    "clave_producto": "brr",
                                    "venta": "1038",
                                    "venta_empleado": "6332756"
                                },
                                {
                                    "ventas_id": "11",
                                    "Fecha": "2018-08-22 00:00:00",
                                    "ID_local": "1",
                                    "clave_producto": "brr",
                                    "venta": "404",
                                    "venta_empleado": "3833745"
                                },
                                {
                                    "ventas_id": "12",
                                    "Fecha": "2019-09-03 00:00:00",
                                    "ID_local": "1",
                                    "clave_producto": "pzz",
                                    "venta": "1362",
                                    "venta_empleado": "5728566"
                                },
                                {
                                    "ventas_id": "13",
                                    "Fecha": "2019-07-16 00:00:00",
                                    "ID_local": "3",
                                    "clave_producto": "qsd",
                                    "venta": "1054",
                                    "venta_empleado": "2310967"
                                },
                                {
                                    "ventas_id": "14",
                                    "Fecha": "2019-08-27 00:00:00",
                                    "ID_local": "3",
                                    "clave_producto": "clz",
                                    "venta": "303",
                                    "venta_empleado": "3833745"
                                },
                                {
                                    "ventas_id": "15",
                                    "Fecha": "2019-12-15 00:00:00",
                                    "ID_local": "1",
                                    "clave_producto": "brr",
                                    "venta": "871",
                                    "venta_empleado": "2520477"
                                },
                                {
                                    "ventas_id": "16",
                                    "Fecha": "2019-07-30 00:00:00",
                                    "ID_local": "3",
                                    "clave_producto": "brr",
                                    "venta": "1062",
                                    "venta_empleado": "5728566"
                                },
                                {
                                    "ventas_id": "17",
                                    "Fecha": "2019-10-25 00:00:00",
                                    "ID_local": "1",
                                    "clave_producto": "pzz",
                                    "venta": "1376",
                                    "venta_empleado": "6332756"
                                },
                                {
                                    "ventas_id": "18",
                                    "Fecha": "2019-12-14 00:00:00",
                                    "ID_local": "3",
                                    "clave_producto": "pzz",
                                    "venta": "957",
                                    "venta_empleado": "2310967"
                                },
                                {
                                    "ventas_id": "20",
                                    "Fecha": "2019-12-01 00:00:00",
                                    "ID_local": "1",
                                    "clave_producto": "pzz",
                                    "venta": "1455",
                                    "venta_empleado": "2310967"
                                },
                                {
                                    "ventas_id": "21",
                                    "Fecha": "2019-06-08 00:00:00",
                                    "ID_local": "4",
                                    "clave_producto": "qsd",
                                    "venta": "497",
                                    "venta_empleado": "5728566"
                                },
                                {
                                    "ventas_id": "22",
                                    "Fecha": "2019-07-25 00:00:00",
                                    "ID_local": "3",
                                    "clave_producto": "clz",
                                    "venta": "1179",
                                    "venta_empleado": "2310967"
                                }
                            ]
                        },
                        "text/html": "<table><tr><th>ventas_id</th><th>Fecha</th><th>ID_local</th><th>clave_producto</th><th>venta</th><th>venta_empleado</th></tr><tr><td>3</td><td>2018-10-18 00:00:00</td><td>4</td><td>brr</td><td>1286</td><td>6931035</td></tr><tr><td>4</td><td>2018-10-30 00:00:00</td><td>1</td><td>brr</td><td>889</td><td>9922377</td></tr><tr><td>5</td><td>2018-05-16 00:00:00</td><td>1</td><td>qsd</td><td>495</td><td>2520477</td></tr><tr><td>6</td><td>2018-12-15 00:00:00</td><td>3</td><td>pzz</td><td>544</td><td>9611338</td></tr><tr><td>7</td><td>2018-07-28 00:00:00</td><td>4</td><td>pzz</td><td>1444</td><td>6332756</td></tr><tr><td>8</td><td>2018-10-05 00:00:00</td><td>1</td><td>pzz</td><td>435</td><td>2520477</td></tr><tr><td>9</td><td>2018-04-20 00:00:00</td><td>1</td><td>qsd</td><td>1203</td><td>9922377</td></tr><tr><td>10</td><td>2018-06-08 00:00:00</td><td>1</td><td>brr</td><td>1038</td><td>6332756</td></tr><tr><td>11</td><td>2018-08-22 00:00:00</td><td>1</td><td>brr</td><td>404</td><td>3833745</td></tr><tr><td>12</td><td>2019-09-03 00:00:00</td><td>1</td><td>pzz</td><td>1362</td><td>5728566</td></tr><tr><td>13</td><td>2019-07-16 00:00:00</td><td>3</td><td>qsd</td><td>1054</td><td>2310967</td></tr><tr><td>14</td><td>2019-08-27 00:00:00</td><td>3</td><td>clz</td><td>303</td><td>3833745</td></tr><tr><td>15</td><td>2019-12-15 00:00:00</td><td>1</td><td>brr</td><td>871</td><td>2520477</td></tr><tr><td>16</td><td>2019-07-30 00:00:00</td><td>3</td><td>brr</td><td>1062</td><td>5728566</td></tr><tr><td>17</td><td>2019-10-25 00:00:00</td><td>1</td><td>pzz</td><td>1376</td><td>6332756</td></tr><tr><td>18</td><td>2019-12-14 00:00:00</td><td>3</td><td>pzz</td><td>957</td><td>2310967</td></tr><tr><td>20</td><td>2019-12-01 00:00:00</td><td>1</td><td>pzz</td><td>1455</td><td>2310967</td></tr><tr><td>21</td><td>2019-06-08 00:00:00</td><td>4</td><td>qsd</td><td>497</td><td>5728566</td></tr><tr><td>22</td><td>2019-07-25 00:00:00</td><td>3</td><td>clz</td><td>1179</td><td>2310967</td></tr></table>"
                    },
                    "metadata": {}
                }
            ],
            "execution_count": 9
        },
        {
            "cell_type": "markdown",
            "source": [
                "## **AND:** Datos que cumplan dos o más condiciones.  \n",
                "**OR:** Datos que cumplan cualquiera de las condiciones."
            ],
            "metadata": {
                "language": "sql",
                "azdata_cell_guid": "84bb325a-5ff9-4107-a147-37d2bf1e677d"
            },
            "attachments": {}
        },
        {
            "cell_type": "code",
            "source": [
                "SELECT * FROM datos.ventas\r\n",
                "WHERE  ID_local=2 OR ID_local=4;"
            ],
            "metadata": {
                "language": "sql",
                "azdata_cell_guid": "0c450017-e1bb-4929-a8cd-9d847b270b03"
            },
            "outputs": [
                {
                    "output_type": "display_data",
                    "data": {
                        "text/html": "(6 row(s) affected)"
                    },
                    "metadata": {}
                },
                {
                    "output_type": "display_data",
                    "data": {
                        "text/html": "Total execution time: 00:00:01.012"
                    },
                    "metadata": {}
                },
                {
                    "output_type": "execute_result",
                    "execution_count": 11,
                    "data": {
                        "application/vnd.dataresource+json": {
                            "schema": {
                                "fields": [
                                    {
                                        "name": "ventas_id"
                                    },
                                    {
                                        "name": "Fecha"
                                    },
                                    {
                                        "name": "ID_local"
                                    },
                                    {
                                        "name": "clave_producto"
                                    },
                                    {
                                        "name": "venta"
                                    },
                                    {
                                        "name": "venta_empleado"
                                    }
                                ]
                            },
                            "data": [
                                {
                                    "ventas_id": "1",
                                    "Fecha": "2018-11-18 00:00:00",
                                    "ID_local": "2",
                                    "clave_producto": "pzz",
                                    "venta": "1302",
                                    "venta_empleado": "2630867"
                                },
                                {
                                    "ventas_id": "2",
                                    "Fecha": "2018-09-17 00:00:00",
                                    "ID_local": "2",
                                    "clave_producto": "clz",
                                    "venta": "953",
                                    "venta_empleado": "2310967"
                                },
                                {
                                    "ventas_id": "19",
                                    "Fecha": "2019-08-14 00:00:00",
                                    "ID_local": "2",
                                    "clave_producto": "clz",
                                    "venta": "972",
                                    "venta_empleado": "2310967"
                                },
                                {
                                    "ventas_id": "3",
                                    "Fecha": "2018-10-18 00:00:00",
                                    "ID_local": "4",
                                    "clave_producto": "brr",
                                    "venta": "1286",
                                    "venta_empleado": "6931035"
                                },
                                {
                                    "ventas_id": "7",
                                    "Fecha": "2018-07-28 00:00:00",
                                    "ID_local": "4",
                                    "clave_producto": "pzz",
                                    "venta": "1444",
                                    "venta_empleado": "6332756"
                                },
                                {
                                    "ventas_id": "21",
                                    "Fecha": "2019-06-08 00:00:00",
                                    "ID_local": "4",
                                    "clave_producto": "qsd",
                                    "venta": "497",
                                    "venta_empleado": "5728566"
                                }
                            ]
                        },
                        "text/html": "<table><tr><th>ventas_id</th><th>Fecha</th><th>ID_local</th><th>clave_producto</th><th>venta</th><th>venta_empleado</th></tr><tr><td>1</td><td>2018-11-18 00:00:00</td><td>2</td><td>pzz</td><td>1302</td><td>2630867</td></tr><tr><td>2</td><td>2018-09-17 00:00:00</td><td>2</td><td>clz</td><td>953</td><td>2310967</td></tr><tr><td>19</td><td>2019-08-14 00:00:00</td><td>2</td><td>clz</td><td>972</td><td>2310967</td></tr><tr><td>3</td><td>2018-10-18 00:00:00</td><td>4</td><td>brr</td><td>1286</td><td>6931035</td></tr><tr><td>7</td><td>2018-07-28 00:00:00</td><td>4</td><td>pzz</td><td>1444</td><td>6332756</td></tr><tr><td>21</td><td>2019-06-08 00:00:00</td><td>4</td><td>qsd</td><td>497</td><td>5728566</td></tr></table>"
                    },
                    "metadata": {}
                }
            ],
            "execution_count": 11
        },
        {
            "cell_type": "code",
            "source": [
                "SELECT * FROM datos.ventas\r\n",
                "WHERE  ID_local=2 OR ID_local=4;"
            ],
            "metadata": {
                "language": "sql",
                "azdata_cell_guid": "ad83e73f-4ef0-4de4-ac86-47986c65ba33"
            },
            "outputs": [
                {
                    "output_type": "display_data",
                    "data": {
                        "text/html": "(6 row(s) affected)"
                    },
                    "metadata": {}
                },
                {
                    "output_type": "display_data",
                    "data": {
                        "text/html": "Total execution time: 00:00:01.006"
                    },
                    "metadata": {}
                },
                {
                    "output_type": "execute_result",
                    "execution_count": 14,
                    "data": {
                        "application/vnd.dataresource+json": {
                            "schema": {
                                "fields": [
                                    {
                                        "name": "ventas_id"
                                    },
                                    {
                                        "name": "Fecha"
                                    },
                                    {
                                        "name": "ID_local"
                                    },
                                    {
                                        "name": "clave_producto"
                                    },
                                    {
                                        "name": "venta"
                                    },
                                    {
                                        "name": "venta_empleado"
                                    }
                                ]
                            },
                            "data": [
                                {
                                    "ventas_id": "1",
                                    "Fecha": "2018-11-18 00:00:00",
                                    "ID_local": "2",
                                    "clave_producto": "pzz",
                                    "venta": "1302",
                                    "venta_empleado": "2630867"
                                },
                                {
                                    "ventas_id": "2",
                                    "Fecha": "2018-09-17 00:00:00",
                                    "ID_local": "2",
                                    "clave_producto": "clz",
                                    "venta": "953",
                                    "venta_empleado": "2310967"
                                },
                                {
                                    "ventas_id": "19",
                                    "Fecha": "2019-08-14 00:00:00",
                                    "ID_local": "2",
                                    "clave_producto": "clz",
                                    "venta": "972",
                                    "venta_empleado": "2310967"
                                },
                                {
                                    "ventas_id": "3",
                                    "Fecha": "2018-10-18 00:00:00",
                                    "ID_local": "4",
                                    "clave_producto": "brr",
                                    "venta": "1286",
                                    "venta_empleado": "6931035"
                                },
                                {
                                    "ventas_id": "7",
                                    "Fecha": "2018-07-28 00:00:00",
                                    "ID_local": "4",
                                    "clave_producto": "pzz",
                                    "venta": "1444",
                                    "venta_empleado": "6332756"
                                },
                                {
                                    "ventas_id": "21",
                                    "Fecha": "2019-06-08 00:00:00",
                                    "ID_local": "4",
                                    "clave_producto": "qsd",
                                    "venta": "497",
                                    "venta_empleado": "5728566"
                                }
                            ]
                        },
                        "text/html": "<table><tr><th>ventas_id</th><th>Fecha</th><th>ID_local</th><th>clave_producto</th><th>venta</th><th>venta_empleado</th></tr><tr><td>1</td><td>2018-11-18 00:00:00</td><td>2</td><td>pzz</td><td>1302</td><td>2630867</td></tr><tr><td>2</td><td>2018-09-17 00:00:00</td><td>2</td><td>clz</td><td>953</td><td>2310967</td></tr><tr><td>19</td><td>2019-08-14 00:00:00</td><td>2</td><td>clz</td><td>972</td><td>2310967</td></tr><tr><td>3</td><td>2018-10-18 00:00:00</td><td>4</td><td>brr</td><td>1286</td><td>6931035</td></tr><tr><td>7</td><td>2018-07-28 00:00:00</td><td>4</td><td>pzz</td><td>1444</td><td>6332756</td></tr><tr><td>21</td><td>2019-06-08 00:00:00</td><td>4</td><td>qsd</td><td>497</td><td>5728566</td></tr></table>"
                    },
                    "metadata": {}
                }
            ],
            "execution_count": 14
        },
        {
            "cell_type": "code",
            "source": [
                "SELECT * FROM datos.ventas\r\n",
                "WHERE  ID_local=2 AND clave_producto=\"pzz\";"
            ],
            "metadata": {
                "language": "sql",
                "azdata_cell_guid": "d872beaf-f759-40d6-bebd-2f2885ba9a0d"
            },
            "outputs": [
                {
                    "output_type": "display_data",
                    "data": {
                        "text/html": "(1 row(s) affected)"
                    },
                    "metadata": {}
                },
                {
                    "output_type": "display_data",
                    "data": {
                        "text/html": "Total execution time: 00:00:01.018"
                    },
                    "metadata": {}
                },
                {
                    "output_type": "execute_result",
                    "execution_count": 13,
                    "data": {
                        "application/vnd.dataresource+json": {
                            "schema": {
                                "fields": [
                                    {
                                        "name": "ventas_id"
                                    },
                                    {
                                        "name": "Fecha"
                                    },
                                    {
                                        "name": "ID_local"
                                    },
                                    {
                                        "name": "clave_producto"
                                    },
                                    {
                                        "name": "venta"
                                    },
                                    {
                                        "name": "venta_empleado"
                                    }
                                ]
                            },
                            "data": [
                                {
                                    "ventas_id": "1",
                                    "Fecha": "2018-11-18 00:00:00",
                                    "ID_local": "2",
                                    "clave_producto": "pzz",
                                    "venta": "1302",
                                    "venta_empleado": "2630867"
                                }
                            ]
                        },
                        "text/html": "<table><tr><th>ventas_id</th><th>Fecha</th><th>ID_local</th><th>clave_producto</th><th>venta</th><th>venta_empleado</th></tr><tr><td>1</td><td>2018-11-18 00:00:00</td><td>2</td><td>pzz</td><td>1302</td><td>2630867</td></tr></table>"
                    },
                    "metadata": {}
                }
            ],
            "execution_count": 13
        },
        {
            "cell_type": "code",
            "source": [
                "SELECT * FROM datos.ventas\r\n",
                "WHERE  clave_producto != \"pzz\";"
            ],
            "metadata": {
                "language": "sql",
                "azdata_cell_guid": "aaafda96-5d57-4423-b6cb-bcccc533a179"
            },
            "outputs": [
                {
                    "output_type": "display_data",
                    "data": {
                        "text/html": "(14 row(s) affected)"
                    },
                    "metadata": {}
                },
                {
                    "output_type": "display_data",
                    "data": {
                        "text/html": "Total execution time: 00:00:01.008"
                    },
                    "metadata": {}
                },
                {
                    "output_type": "execute_result",
                    "execution_count": 12,
                    "data": {
                        "application/vnd.dataresource+json": {
                            "schema": {
                                "fields": [
                                    {
                                        "name": "ventas_id"
                                    },
                                    {
                                        "name": "Fecha"
                                    },
                                    {
                                        "name": "ID_local"
                                    },
                                    {
                                        "name": "clave_producto"
                                    },
                                    {
                                        "name": "venta"
                                    },
                                    {
                                        "name": "venta_empleado"
                                    }
                                ]
                            },
                            "data": [
                                {
                                    "ventas_id": "2",
                                    "Fecha": "2018-09-17 00:00:00",
                                    "ID_local": "2",
                                    "clave_producto": "clz",
                                    "venta": "953",
                                    "venta_empleado": "2310967"
                                },
                                {
                                    "ventas_id": "3",
                                    "Fecha": "2018-10-18 00:00:00",
                                    "ID_local": "4",
                                    "clave_producto": "brr",
                                    "venta": "1286",
                                    "venta_empleado": "6931035"
                                },
                                {
                                    "ventas_id": "4",
                                    "Fecha": "2018-10-30 00:00:00",
                                    "ID_local": "1",
                                    "clave_producto": "brr",
                                    "venta": "889",
                                    "venta_empleado": "9922377"
                                },
                                {
                                    "ventas_id": "5",
                                    "Fecha": "2018-05-16 00:00:00",
                                    "ID_local": "1",
                                    "clave_producto": "qsd",
                                    "venta": "495",
                                    "venta_empleado": "2520477"
                                },
                                {
                                    "ventas_id": "9",
                                    "Fecha": "2018-04-20 00:00:00",
                                    "ID_local": "1",
                                    "clave_producto": "qsd",
                                    "venta": "1203",
                                    "venta_empleado": "9922377"
                                },
                                {
                                    "ventas_id": "10",
                                    "Fecha": "2018-06-08 00:00:00",
                                    "ID_local": "1",
                                    "clave_producto": "brr",
                                    "venta": "1038",
                                    "venta_empleado": "6332756"
                                },
                                {
                                    "ventas_id": "11",
                                    "Fecha": "2018-08-22 00:00:00",
                                    "ID_local": "1",
                                    "clave_producto": "brr",
                                    "venta": "404",
                                    "venta_empleado": "3833745"
                                },
                                {
                                    "ventas_id": "13",
                                    "Fecha": "2019-07-16 00:00:00",
                                    "ID_local": "3",
                                    "clave_producto": "qsd",
                                    "venta": "1054",
                                    "venta_empleado": "2310967"
                                },
                                {
                                    "ventas_id": "14",
                                    "Fecha": "2019-08-27 00:00:00",
                                    "ID_local": "3",
                                    "clave_producto": "clz",
                                    "venta": "303",
                                    "venta_empleado": "3833745"
                                },
                                {
                                    "ventas_id": "15",
                                    "Fecha": "2019-12-15 00:00:00",
                                    "ID_local": "1",
                                    "clave_producto": "brr",
                                    "venta": "871",
                                    "venta_empleado": "2520477"
                                },
                                {
                                    "ventas_id": "16",
                                    "Fecha": "2019-07-30 00:00:00",
                                    "ID_local": "3",
                                    "clave_producto": "brr",
                                    "venta": "1062",
                                    "venta_empleado": "5728566"
                                },
                                {
                                    "ventas_id": "19",
                                    "Fecha": "2019-08-14 00:00:00",
                                    "ID_local": "2",
                                    "clave_producto": "clz",
                                    "venta": "972",
                                    "venta_empleado": "2310967"
                                },
                                {
                                    "ventas_id": "21",
                                    "Fecha": "2019-06-08 00:00:00",
                                    "ID_local": "4",
                                    "clave_producto": "qsd",
                                    "venta": "497",
                                    "venta_empleado": "5728566"
                                },
                                {
                                    "ventas_id": "22",
                                    "Fecha": "2019-07-25 00:00:00",
                                    "ID_local": "3",
                                    "clave_producto": "clz",
                                    "venta": "1179",
                                    "venta_empleado": "2310967"
                                }
                            ]
                        },
                        "text/html": "<table><tr><th>ventas_id</th><th>Fecha</th><th>ID_local</th><th>clave_producto</th><th>venta</th><th>venta_empleado</th></tr><tr><td>2</td><td>2018-09-17 00:00:00</td><td>2</td><td>clz</td><td>953</td><td>2310967</td></tr><tr><td>3</td><td>2018-10-18 00:00:00</td><td>4</td><td>brr</td><td>1286</td><td>6931035</td></tr><tr><td>4</td><td>2018-10-30 00:00:00</td><td>1</td><td>brr</td><td>889</td><td>9922377</td></tr><tr><td>5</td><td>2018-05-16 00:00:00</td><td>1</td><td>qsd</td><td>495</td><td>2520477</td></tr><tr><td>9</td><td>2018-04-20 00:00:00</td><td>1</td><td>qsd</td><td>1203</td><td>9922377</td></tr><tr><td>10</td><td>2018-06-08 00:00:00</td><td>1</td><td>brr</td><td>1038</td><td>6332756</td></tr><tr><td>11</td><td>2018-08-22 00:00:00</td><td>1</td><td>brr</td><td>404</td><td>3833745</td></tr><tr><td>13</td><td>2019-07-16 00:00:00</td><td>3</td><td>qsd</td><td>1054</td><td>2310967</td></tr><tr><td>14</td><td>2019-08-27 00:00:00</td><td>3</td><td>clz</td><td>303</td><td>3833745</td></tr><tr><td>15</td><td>2019-12-15 00:00:00</td><td>1</td><td>brr</td><td>871</td><td>2520477</td></tr><tr><td>16</td><td>2019-07-30 00:00:00</td><td>3</td><td>brr</td><td>1062</td><td>5728566</td></tr><tr><td>19</td><td>2019-08-14 00:00:00</td><td>2</td><td>clz</td><td>972</td><td>2310967</td></tr><tr><td>21</td><td>2019-06-08 00:00:00</td><td>4</td><td>qsd</td><td>497</td><td>5728566</td></tr><tr><td>22</td><td>2019-07-25 00:00:00</td><td>3</td><td>clz</td><td>1179</td><td>2310967</td></tr></table>"
                    },
                    "metadata": {}
                }
            ],
            "execution_count": 12
        },
        {
            "cell_type": "code",
            "source": [
                "SELECT * FROM datos.ventas\r\n",
                "WHERE  NOT clave_producto = \"pzz\";"
            ],
            "metadata": {
                "language": "sql",
                "azdata_cell_guid": "8fcb0549-f076-44db-8b0a-2d8dd37fdb79",
                "tags": [
                    "hide_input"
                ]
            },
            "outputs": [
                {
                    "output_type": "display_data",
                    "data": {
                        "text/html": "(14 row(s) affected)"
                    },
                    "metadata": {}
                },
                {
                    "output_type": "display_data",
                    "data": {
                        "text/html": "Total execution time: 00:00:01.011"
                    },
                    "metadata": {}
                },
                {
                    "output_type": "execute_result",
                    "execution_count": 15,
                    "data": {
                        "application/vnd.dataresource+json": {
                            "schema": {
                                "fields": [
                                    {
                                        "name": "ventas_id"
                                    },
                                    {
                                        "name": "Fecha"
                                    },
                                    {
                                        "name": "ID_local"
                                    },
                                    {
                                        "name": "clave_producto"
                                    },
                                    {
                                        "name": "venta"
                                    },
                                    {
                                        "name": "venta_empleado"
                                    }
                                ]
                            },
                            "data": [
                                {
                                    "ventas_id": "2",
                                    "Fecha": "2018-09-17 00:00:00",
                                    "ID_local": "2",
                                    "clave_producto": "clz",
                                    "venta": "953",
                                    "venta_empleado": "2310967"
                                },
                                {
                                    "ventas_id": "3",
                                    "Fecha": "2018-10-18 00:00:00",
                                    "ID_local": "4",
                                    "clave_producto": "brr",
                                    "venta": "1286",
                                    "venta_empleado": "6931035"
                                },
                                {
                                    "ventas_id": "4",
                                    "Fecha": "2018-10-30 00:00:00",
                                    "ID_local": "1",
                                    "clave_producto": "brr",
                                    "venta": "889",
                                    "venta_empleado": "9922377"
                                },
                                {
                                    "ventas_id": "5",
                                    "Fecha": "2018-05-16 00:00:00",
                                    "ID_local": "1",
                                    "clave_producto": "qsd",
                                    "venta": "495",
                                    "venta_empleado": "2520477"
                                },
                                {
                                    "ventas_id": "9",
                                    "Fecha": "2018-04-20 00:00:00",
                                    "ID_local": "1",
                                    "clave_producto": "qsd",
                                    "venta": "1203",
                                    "venta_empleado": "9922377"
                                },
                                {
                                    "ventas_id": "10",
                                    "Fecha": "2018-06-08 00:00:00",
                                    "ID_local": "1",
                                    "clave_producto": "brr",
                                    "venta": "1038",
                                    "venta_empleado": "6332756"
                                },
                                {
                                    "ventas_id": "11",
                                    "Fecha": "2018-08-22 00:00:00",
                                    "ID_local": "1",
                                    "clave_producto": "brr",
                                    "venta": "404",
                                    "venta_empleado": "3833745"
                                },
                                {
                                    "ventas_id": "13",
                                    "Fecha": "2019-07-16 00:00:00",
                                    "ID_local": "3",
                                    "clave_producto": "qsd",
                                    "venta": "1054",
                                    "venta_empleado": "2310967"
                                },
                                {
                                    "ventas_id": "14",
                                    "Fecha": "2019-08-27 00:00:00",
                                    "ID_local": "3",
                                    "clave_producto": "clz",
                                    "venta": "303",
                                    "venta_empleado": "3833745"
                                },
                                {
                                    "ventas_id": "15",
                                    "Fecha": "2019-12-15 00:00:00",
                                    "ID_local": "1",
                                    "clave_producto": "brr",
                                    "venta": "871",
                                    "venta_empleado": "2520477"
                                },
                                {
                                    "ventas_id": "16",
                                    "Fecha": "2019-07-30 00:00:00",
                                    "ID_local": "3",
                                    "clave_producto": "brr",
                                    "venta": "1062",
                                    "venta_empleado": "5728566"
                                },
                                {
                                    "ventas_id": "19",
                                    "Fecha": "2019-08-14 00:00:00",
                                    "ID_local": "2",
                                    "clave_producto": "clz",
                                    "venta": "972",
                                    "venta_empleado": "2310967"
                                },
                                {
                                    "ventas_id": "21",
                                    "Fecha": "2019-06-08 00:00:00",
                                    "ID_local": "4",
                                    "clave_producto": "qsd",
                                    "venta": "497",
                                    "venta_empleado": "5728566"
                                },
                                {
                                    "ventas_id": "22",
                                    "Fecha": "2019-07-25 00:00:00",
                                    "ID_local": "3",
                                    "clave_producto": "clz",
                                    "venta": "1179",
                                    "venta_empleado": "2310967"
                                }
                            ]
                        },
                        "text/html": "<table><tr><th>ventas_id</th><th>Fecha</th><th>ID_local</th><th>clave_producto</th><th>venta</th><th>venta_empleado</th></tr><tr><td>2</td><td>2018-09-17 00:00:00</td><td>2</td><td>clz</td><td>953</td><td>2310967</td></tr><tr><td>3</td><td>2018-10-18 00:00:00</td><td>4</td><td>brr</td><td>1286</td><td>6931035</td></tr><tr><td>4</td><td>2018-10-30 00:00:00</td><td>1</td><td>brr</td><td>889</td><td>9922377</td></tr><tr><td>5</td><td>2018-05-16 00:00:00</td><td>1</td><td>qsd</td><td>495</td><td>2520477</td></tr><tr><td>9</td><td>2018-04-20 00:00:00</td><td>1</td><td>qsd</td><td>1203</td><td>9922377</td></tr><tr><td>10</td><td>2018-06-08 00:00:00</td><td>1</td><td>brr</td><td>1038</td><td>6332756</td></tr><tr><td>11</td><td>2018-08-22 00:00:00</td><td>1</td><td>brr</td><td>404</td><td>3833745</td></tr><tr><td>13</td><td>2019-07-16 00:00:00</td><td>3</td><td>qsd</td><td>1054</td><td>2310967</td></tr><tr><td>14</td><td>2019-08-27 00:00:00</td><td>3</td><td>clz</td><td>303</td><td>3833745</td></tr><tr><td>15</td><td>2019-12-15 00:00:00</td><td>1</td><td>brr</td><td>871</td><td>2520477</td></tr><tr><td>16</td><td>2019-07-30 00:00:00</td><td>3</td><td>brr</td><td>1062</td><td>5728566</td></tr><tr><td>19</td><td>2019-08-14 00:00:00</td><td>2</td><td>clz</td><td>972</td><td>2310967</td></tr><tr><td>21</td><td>2019-06-08 00:00:00</td><td>4</td><td>qsd</td><td>497</td><td>5728566</td></tr><tr><td>22</td><td>2019-07-25 00:00:00</td><td>3</td><td>clz</td><td>1179</td><td>2310967</td></tr></table>"
                    },
                    "metadata": {}
                }
            ],
            "execution_count": 15
        },
        {
            "cell_type": "code",
            "source": [
                "SELECT * FROM datos.ventas\r\n",
                "WHERE  ID_local=2 AND NOT clave_producto=\"pzz\";"
            ],
            "metadata": {
                "language": "sql",
                "azdata_cell_guid": "4a958a46-b570-48ad-89ef-e377e4603e45"
            },
            "outputs": [
                {
                    "output_type": "display_data",
                    "data": {
                        "text/html": "(2 row(s) affected)"
                    },
                    "metadata": {}
                },
                {
                    "output_type": "display_data",
                    "data": {
                        "text/html": "Total execution time: 00:00:01.011"
                    },
                    "metadata": {}
                },
                {
                    "output_type": "execute_result",
                    "execution_count": 16,
                    "data": {
                        "application/vnd.dataresource+json": {
                            "schema": {
                                "fields": [
                                    {
                                        "name": "ventas_id"
                                    },
                                    {
                                        "name": "Fecha"
                                    },
                                    {
                                        "name": "ID_local"
                                    },
                                    {
                                        "name": "clave_producto"
                                    },
                                    {
                                        "name": "venta"
                                    },
                                    {
                                        "name": "venta_empleado"
                                    }
                                ]
                            },
                            "data": [
                                {
                                    "ventas_id": "2",
                                    "Fecha": "2018-09-17 00:00:00",
                                    "ID_local": "2",
                                    "clave_producto": "clz",
                                    "venta": "953",
                                    "venta_empleado": "2310967"
                                },
                                {
                                    "ventas_id": "19",
                                    "Fecha": "2019-08-14 00:00:00",
                                    "ID_local": "2",
                                    "clave_producto": "clz",
                                    "venta": "972",
                                    "venta_empleado": "2310967"
                                }
                            ]
                        },
                        "text/html": "<table><tr><th>ventas_id</th><th>Fecha</th><th>ID_local</th><th>clave_producto</th><th>venta</th><th>venta_empleado</th></tr><tr><td>2</td><td>2018-09-17 00:00:00</td><td>2</td><td>clz</td><td>953</td><td>2310967</td></tr><tr><td>19</td><td>2019-08-14 00:00:00</td><td>2</td><td>clz</td><td>972</td><td>2310967</td></tr></table>"
                    },
                    "metadata": {}
                }
            ],
            "execution_count": 16
        },
        {
            "cell_type": "code",
            "source": [
                "SELECT * FROM datos.ventas\r\n",
                "WHERE  NOT ID_local=2 AND clave_producto=\"pzz\";"
            ],
            "metadata": {
                "language": "sql",
                "azdata_cell_guid": "b733d1ac-ff31-4304-9e3f-7505260ec058"
            },
            "outputs": [
                {
                    "output_type": "display_data",
                    "data": {
                        "text/html": "(7 row(s) affected)"
                    },
                    "metadata": {}
                },
                {
                    "output_type": "display_data",
                    "data": {
                        "text/html": "Total execution time: 00:00:01.014"
                    },
                    "metadata": {}
                },
                {
                    "output_type": "execute_result",
                    "execution_count": 17,
                    "data": {
                        "application/vnd.dataresource+json": {
                            "schema": {
                                "fields": [
                                    {
                                        "name": "ventas_id"
                                    },
                                    {
                                        "name": "Fecha"
                                    },
                                    {
                                        "name": "ID_local"
                                    },
                                    {
                                        "name": "clave_producto"
                                    },
                                    {
                                        "name": "venta"
                                    },
                                    {
                                        "name": "venta_empleado"
                                    }
                                ]
                            },
                            "data": [
                                {
                                    "ventas_id": "6",
                                    "Fecha": "2018-12-15 00:00:00",
                                    "ID_local": "3",
                                    "clave_producto": "pzz",
                                    "venta": "544",
                                    "venta_empleado": "9611338"
                                },
                                {
                                    "ventas_id": "7",
                                    "Fecha": "2018-07-28 00:00:00",
                                    "ID_local": "4",
                                    "clave_producto": "pzz",
                                    "venta": "1444",
                                    "venta_empleado": "6332756"
                                },
                                {
                                    "ventas_id": "8",
                                    "Fecha": "2018-10-05 00:00:00",
                                    "ID_local": "1",
                                    "clave_producto": "pzz",
                                    "venta": "435",
                                    "venta_empleado": "2520477"
                                },
                                {
                                    "ventas_id": "12",
                                    "Fecha": "2019-09-03 00:00:00",
                                    "ID_local": "1",
                                    "clave_producto": "pzz",
                                    "venta": "1362",
                                    "venta_empleado": "5728566"
                                },
                                {
                                    "ventas_id": "17",
                                    "Fecha": "2019-10-25 00:00:00",
                                    "ID_local": "1",
                                    "clave_producto": "pzz",
                                    "venta": "1376",
                                    "venta_empleado": "6332756"
                                },
                                {
                                    "ventas_id": "18",
                                    "Fecha": "2019-12-14 00:00:00",
                                    "ID_local": "3",
                                    "clave_producto": "pzz",
                                    "venta": "957",
                                    "venta_empleado": "2310967"
                                },
                                {
                                    "ventas_id": "20",
                                    "Fecha": "2019-12-01 00:00:00",
                                    "ID_local": "1",
                                    "clave_producto": "pzz",
                                    "venta": "1455",
                                    "venta_empleado": "2310967"
                                }
                            ]
                        },
                        "text/html": "<table><tr><th>ventas_id</th><th>Fecha</th><th>ID_local</th><th>clave_producto</th><th>venta</th><th>venta_empleado</th></tr><tr><td>6</td><td>2018-12-15 00:00:00</td><td>3</td><td>pzz</td><td>544</td><td>9611338</td></tr><tr><td>7</td><td>2018-07-28 00:00:00</td><td>4</td><td>pzz</td><td>1444</td><td>6332756</td></tr><tr><td>8</td><td>2018-10-05 00:00:00</td><td>1</td><td>pzz</td><td>435</td><td>2520477</td></tr><tr><td>12</td><td>2019-09-03 00:00:00</td><td>1</td><td>pzz</td><td>1362</td><td>5728566</td></tr><tr><td>17</td><td>2019-10-25 00:00:00</td><td>1</td><td>pzz</td><td>1376</td><td>6332756</td></tr><tr><td>18</td><td>2019-12-14 00:00:00</td><td>3</td><td>pzz</td><td>957</td><td>2310967</td></tr><tr><td>20</td><td>2019-12-01 00:00:00</td><td>1</td><td>pzz</td><td>1455</td><td>2310967</td></tr></table>"
                    },
                    "metadata": {}
                }
            ],
            "execution_count": 17
        },
        {
            "cell_type": "code",
            "source": [
                "SELECT * FROM datos.ventas\r\n",
                "WHERE  clave_producto=\"clz\" OR  clave_producto=\"pzz\" OR clave_producto=\"qsd\";"
            ],
            "metadata": {
                "language": "sql",
                "azdata_cell_guid": "d5857294-af7d-43b2-b50f-07b361edf3da"
            },
            "outputs": [
                {
                    "output_type": "display_data",
                    "data": {
                        "text/html": "(16 row(s) affected)"
                    },
                    "metadata": {}
                },
                {
                    "output_type": "display_data",
                    "data": {
                        "text/html": "Total execution time: 00:00:01.014"
                    },
                    "metadata": {}
                },
                {
                    "output_type": "execute_result",
                    "execution_count": 18,
                    "data": {
                        "application/vnd.dataresource+json": {
                            "schema": {
                                "fields": [
                                    {
                                        "name": "ventas_id"
                                    },
                                    {
                                        "name": "Fecha"
                                    },
                                    {
                                        "name": "ID_local"
                                    },
                                    {
                                        "name": "clave_producto"
                                    },
                                    {
                                        "name": "venta"
                                    },
                                    {
                                        "name": "venta_empleado"
                                    }
                                ]
                            },
                            "data": [
                                {
                                    "ventas_id": "1",
                                    "Fecha": "2018-11-18 00:00:00",
                                    "ID_local": "2",
                                    "clave_producto": "pzz",
                                    "venta": "1302",
                                    "venta_empleado": "2630867"
                                },
                                {
                                    "ventas_id": "2",
                                    "Fecha": "2018-09-17 00:00:00",
                                    "ID_local": "2",
                                    "clave_producto": "clz",
                                    "venta": "953",
                                    "venta_empleado": "2310967"
                                },
                                {
                                    "ventas_id": "5",
                                    "Fecha": "2018-05-16 00:00:00",
                                    "ID_local": "1",
                                    "clave_producto": "qsd",
                                    "venta": "495",
                                    "venta_empleado": "2520477"
                                },
                                {
                                    "ventas_id": "6",
                                    "Fecha": "2018-12-15 00:00:00",
                                    "ID_local": "3",
                                    "clave_producto": "pzz",
                                    "venta": "544",
                                    "venta_empleado": "9611338"
                                },
                                {
                                    "ventas_id": "7",
                                    "Fecha": "2018-07-28 00:00:00",
                                    "ID_local": "4",
                                    "clave_producto": "pzz",
                                    "venta": "1444",
                                    "venta_empleado": "6332756"
                                },
                                {
                                    "ventas_id": "8",
                                    "Fecha": "2018-10-05 00:00:00",
                                    "ID_local": "1",
                                    "clave_producto": "pzz",
                                    "venta": "435",
                                    "venta_empleado": "2520477"
                                },
                                {
                                    "ventas_id": "9",
                                    "Fecha": "2018-04-20 00:00:00",
                                    "ID_local": "1",
                                    "clave_producto": "qsd",
                                    "venta": "1203",
                                    "venta_empleado": "9922377"
                                },
                                {
                                    "ventas_id": "12",
                                    "Fecha": "2019-09-03 00:00:00",
                                    "ID_local": "1",
                                    "clave_producto": "pzz",
                                    "venta": "1362",
                                    "venta_empleado": "5728566"
                                },
                                {
                                    "ventas_id": "13",
                                    "Fecha": "2019-07-16 00:00:00",
                                    "ID_local": "3",
                                    "clave_producto": "qsd",
                                    "venta": "1054",
                                    "venta_empleado": "2310967"
                                },
                                {
                                    "ventas_id": "14",
                                    "Fecha": "2019-08-27 00:00:00",
                                    "ID_local": "3",
                                    "clave_producto": "clz",
                                    "venta": "303",
                                    "venta_empleado": "3833745"
                                },
                                {
                                    "ventas_id": "17",
                                    "Fecha": "2019-10-25 00:00:00",
                                    "ID_local": "1",
                                    "clave_producto": "pzz",
                                    "venta": "1376",
                                    "venta_empleado": "6332756"
                                },
                                {
                                    "ventas_id": "18",
                                    "Fecha": "2019-12-14 00:00:00",
                                    "ID_local": "3",
                                    "clave_producto": "pzz",
                                    "venta": "957",
                                    "venta_empleado": "2310967"
                                },
                                {
                                    "ventas_id": "19",
                                    "Fecha": "2019-08-14 00:00:00",
                                    "ID_local": "2",
                                    "clave_producto": "clz",
                                    "venta": "972",
                                    "venta_empleado": "2310967"
                                },
                                {
                                    "ventas_id": "20",
                                    "Fecha": "2019-12-01 00:00:00",
                                    "ID_local": "1",
                                    "clave_producto": "pzz",
                                    "venta": "1455",
                                    "venta_empleado": "2310967"
                                },
                                {
                                    "ventas_id": "21",
                                    "Fecha": "2019-06-08 00:00:00",
                                    "ID_local": "4",
                                    "clave_producto": "qsd",
                                    "venta": "497",
                                    "venta_empleado": "5728566"
                                },
                                {
                                    "ventas_id": "22",
                                    "Fecha": "2019-07-25 00:00:00",
                                    "ID_local": "3",
                                    "clave_producto": "clz",
                                    "venta": "1179",
                                    "venta_empleado": "2310967"
                                }
                            ]
                        },
                        "text/html": "<table><tr><th>ventas_id</th><th>Fecha</th><th>ID_local</th><th>clave_producto</th><th>venta</th><th>venta_empleado</th></tr><tr><td>1</td><td>2018-11-18 00:00:00</td><td>2</td><td>pzz</td><td>1302</td><td>2630867</td></tr><tr><td>2</td><td>2018-09-17 00:00:00</td><td>2</td><td>clz</td><td>953</td><td>2310967</td></tr><tr><td>5</td><td>2018-05-16 00:00:00</td><td>1</td><td>qsd</td><td>495</td><td>2520477</td></tr><tr><td>6</td><td>2018-12-15 00:00:00</td><td>3</td><td>pzz</td><td>544</td><td>9611338</td></tr><tr><td>7</td><td>2018-07-28 00:00:00</td><td>4</td><td>pzz</td><td>1444</td><td>6332756</td></tr><tr><td>8</td><td>2018-10-05 00:00:00</td><td>1</td><td>pzz</td><td>435</td><td>2520477</td></tr><tr><td>9</td><td>2018-04-20 00:00:00</td><td>1</td><td>qsd</td><td>1203</td><td>9922377</td></tr><tr><td>12</td><td>2019-09-03 00:00:00</td><td>1</td><td>pzz</td><td>1362</td><td>5728566</td></tr><tr><td>13</td><td>2019-07-16 00:00:00</td><td>3</td><td>qsd</td><td>1054</td><td>2310967</td></tr><tr><td>14</td><td>2019-08-27 00:00:00</td><td>3</td><td>clz</td><td>303</td><td>3833745</td></tr><tr><td>17</td><td>2019-10-25 00:00:00</td><td>1</td><td>pzz</td><td>1376</td><td>6332756</td></tr><tr><td>18</td><td>2019-12-14 00:00:00</td><td>3</td><td>pzz</td><td>957</td><td>2310967</td></tr><tr><td>19</td><td>2019-08-14 00:00:00</td><td>2</td><td>clz</td><td>972</td><td>2310967</td></tr><tr><td>20</td><td>2019-12-01 00:00:00</td><td>1</td><td>pzz</td><td>1455</td><td>2310967</td></tr><tr><td>21</td><td>2019-06-08 00:00:00</td><td>4</td><td>qsd</td><td>497</td><td>5728566</td></tr><tr><td>22</td><td>2019-07-25 00:00:00</td><td>3</td><td>clz</td><td>1179</td><td>2310967</td></tr></table>"
                    },
                    "metadata": {}
                }
            ],
            "execution_count": 18
        },
        {
            "cell_type": "markdown",
            "source": [
                "## **IN:** Permite especificar múltiples valores en la cláusula WHERE. Atajo para varias condiciones OR."
            ],
            "metadata": {
                "language": "sql",
                "azdata_cell_guid": "31fb3351-65db-49c6-8466-0cc6d695a24e"
            },
            "attachments": {}
        },
        {
            "cell_type": "code",
            "source": [
                "SELECT * FROM datos.ventas\r\n",
                "WHERE  clave_producto IN (\"clz\", \"pzz\", \"qsd\" );"
            ],
            "metadata": {
                "language": "sql",
                "azdata_cell_guid": "4627cba1-3f3f-4bd4-9c50-74182fb738bf"
            },
            "outputs": [
                {
                    "output_type": "display_data",
                    "data": {
                        "text/html": "(16 row(s) affected)"
                    },
                    "metadata": {}
                },
                {
                    "output_type": "display_data",
                    "data": {
                        "text/html": "Total execution time: 00:00:01.009"
                    },
                    "metadata": {}
                },
                {
                    "output_type": "execute_result",
                    "execution_count": 19,
                    "data": {
                        "application/vnd.dataresource+json": {
                            "schema": {
                                "fields": [
                                    {
                                        "name": "ventas_id"
                                    },
                                    {
                                        "name": "Fecha"
                                    },
                                    {
                                        "name": "ID_local"
                                    },
                                    {
                                        "name": "clave_producto"
                                    },
                                    {
                                        "name": "venta"
                                    },
                                    {
                                        "name": "venta_empleado"
                                    }
                                ]
                            },
                            "data": [
                                {
                                    "ventas_id": "1",
                                    "Fecha": "2018-11-18 00:00:00",
                                    "ID_local": "2",
                                    "clave_producto": "pzz",
                                    "venta": "1302",
                                    "venta_empleado": "2630867"
                                },
                                {
                                    "ventas_id": "2",
                                    "Fecha": "2018-09-17 00:00:00",
                                    "ID_local": "2",
                                    "clave_producto": "clz",
                                    "venta": "953",
                                    "venta_empleado": "2310967"
                                },
                                {
                                    "ventas_id": "5",
                                    "Fecha": "2018-05-16 00:00:00",
                                    "ID_local": "1",
                                    "clave_producto": "qsd",
                                    "venta": "495",
                                    "venta_empleado": "2520477"
                                },
                                {
                                    "ventas_id": "6",
                                    "Fecha": "2018-12-15 00:00:00",
                                    "ID_local": "3",
                                    "clave_producto": "pzz",
                                    "venta": "544",
                                    "venta_empleado": "9611338"
                                },
                                {
                                    "ventas_id": "7",
                                    "Fecha": "2018-07-28 00:00:00",
                                    "ID_local": "4",
                                    "clave_producto": "pzz",
                                    "venta": "1444",
                                    "venta_empleado": "6332756"
                                },
                                {
                                    "ventas_id": "8",
                                    "Fecha": "2018-10-05 00:00:00",
                                    "ID_local": "1",
                                    "clave_producto": "pzz",
                                    "venta": "435",
                                    "venta_empleado": "2520477"
                                },
                                {
                                    "ventas_id": "9",
                                    "Fecha": "2018-04-20 00:00:00",
                                    "ID_local": "1",
                                    "clave_producto": "qsd",
                                    "venta": "1203",
                                    "venta_empleado": "9922377"
                                },
                                {
                                    "ventas_id": "12",
                                    "Fecha": "2019-09-03 00:00:00",
                                    "ID_local": "1",
                                    "clave_producto": "pzz",
                                    "venta": "1362",
                                    "venta_empleado": "5728566"
                                },
                                {
                                    "ventas_id": "13",
                                    "Fecha": "2019-07-16 00:00:00",
                                    "ID_local": "3",
                                    "clave_producto": "qsd",
                                    "venta": "1054",
                                    "venta_empleado": "2310967"
                                },
                                {
                                    "ventas_id": "14",
                                    "Fecha": "2019-08-27 00:00:00",
                                    "ID_local": "3",
                                    "clave_producto": "clz",
                                    "venta": "303",
                                    "venta_empleado": "3833745"
                                },
                                {
                                    "ventas_id": "17",
                                    "Fecha": "2019-10-25 00:00:00",
                                    "ID_local": "1",
                                    "clave_producto": "pzz",
                                    "venta": "1376",
                                    "venta_empleado": "6332756"
                                },
                                {
                                    "ventas_id": "18",
                                    "Fecha": "2019-12-14 00:00:00",
                                    "ID_local": "3",
                                    "clave_producto": "pzz",
                                    "venta": "957",
                                    "venta_empleado": "2310967"
                                },
                                {
                                    "ventas_id": "19",
                                    "Fecha": "2019-08-14 00:00:00",
                                    "ID_local": "2",
                                    "clave_producto": "clz",
                                    "venta": "972",
                                    "venta_empleado": "2310967"
                                },
                                {
                                    "ventas_id": "20",
                                    "Fecha": "2019-12-01 00:00:00",
                                    "ID_local": "1",
                                    "clave_producto": "pzz",
                                    "venta": "1455",
                                    "venta_empleado": "2310967"
                                },
                                {
                                    "ventas_id": "21",
                                    "Fecha": "2019-06-08 00:00:00",
                                    "ID_local": "4",
                                    "clave_producto": "qsd",
                                    "venta": "497",
                                    "venta_empleado": "5728566"
                                },
                                {
                                    "ventas_id": "22",
                                    "Fecha": "2019-07-25 00:00:00",
                                    "ID_local": "3",
                                    "clave_producto": "clz",
                                    "venta": "1179",
                                    "venta_empleado": "2310967"
                                }
                            ]
                        },
                        "text/html": "<table><tr><th>ventas_id</th><th>Fecha</th><th>ID_local</th><th>clave_producto</th><th>venta</th><th>venta_empleado</th></tr><tr><td>1</td><td>2018-11-18 00:00:00</td><td>2</td><td>pzz</td><td>1302</td><td>2630867</td></tr><tr><td>2</td><td>2018-09-17 00:00:00</td><td>2</td><td>clz</td><td>953</td><td>2310967</td></tr><tr><td>5</td><td>2018-05-16 00:00:00</td><td>1</td><td>qsd</td><td>495</td><td>2520477</td></tr><tr><td>6</td><td>2018-12-15 00:00:00</td><td>3</td><td>pzz</td><td>544</td><td>9611338</td></tr><tr><td>7</td><td>2018-07-28 00:00:00</td><td>4</td><td>pzz</td><td>1444</td><td>6332756</td></tr><tr><td>8</td><td>2018-10-05 00:00:00</td><td>1</td><td>pzz</td><td>435</td><td>2520477</td></tr><tr><td>9</td><td>2018-04-20 00:00:00</td><td>1</td><td>qsd</td><td>1203</td><td>9922377</td></tr><tr><td>12</td><td>2019-09-03 00:00:00</td><td>1</td><td>pzz</td><td>1362</td><td>5728566</td></tr><tr><td>13</td><td>2019-07-16 00:00:00</td><td>3</td><td>qsd</td><td>1054</td><td>2310967</td></tr><tr><td>14</td><td>2019-08-27 00:00:00</td><td>3</td><td>clz</td><td>303</td><td>3833745</td></tr><tr><td>17</td><td>2019-10-25 00:00:00</td><td>1</td><td>pzz</td><td>1376</td><td>6332756</td></tr><tr><td>18</td><td>2019-12-14 00:00:00</td><td>3</td><td>pzz</td><td>957</td><td>2310967</td></tr><tr><td>19</td><td>2019-08-14 00:00:00</td><td>2</td><td>clz</td><td>972</td><td>2310967</td></tr><tr><td>20</td><td>2019-12-01 00:00:00</td><td>1</td><td>pzz</td><td>1455</td><td>2310967</td></tr><tr><td>21</td><td>2019-06-08 00:00:00</td><td>4</td><td>qsd</td><td>497</td><td>5728566</td></tr><tr><td>22</td><td>2019-07-25 00:00:00</td><td>3</td><td>clz</td><td>1179</td><td>2310967</td></tr></table>"
                    },
                    "metadata": {}
                }
            ],
            "execution_count": 19
        },
        {
            "cell_type": "code",
            "source": [
                "SELECT * FROM datos.ventas\r\n",
                "WHERE  ID_local IN (1,2,3);"
            ],
            "metadata": {
                "language": "sql",
                "azdata_cell_guid": "7c70549a-435d-4960-bdfe-4b9bc568cc6b"
            },
            "outputs": [
                {
                    "output_type": "display_data",
                    "data": {
                        "text/html": "(19 row(s) affected)"
                    },
                    "metadata": {}
                },
                {
                    "output_type": "display_data",
                    "data": {
                        "text/html": "Total execution time: 00:00:01.010"
                    },
                    "metadata": {}
                },
                {
                    "output_type": "execute_result",
                    "execution_count": 20,
                    "data": {
                        "application/vnd.dataresource+json": {
                            "schema": {
                                "fields": [
                                    {
                                        "name": "ventas_id"
                                    },
                                    {
                                        "name": "Fecha"
                                    },
                                    {
                                        "name": "ID_local"
                                    },
                                    {
                                        "name": "clave_producto"
                                    },
                                    {
                                        "name": "venta"
                                    },
                                    {
                                        "name": "venta_empleado"
                                    }
                                ]
                            },
                            "data": [
                                {
                                    "ventas_id": "1",
                                    "Fecha": "2018-11-18 00:00:00",
                                    "ID_local": "2",
                                    "clave_producto": "pzz",
                                    "venta": "1302",
                                    "venta_empleado": "2630867"
                                },
                                {
                                    "ventas_id": "2",
                                    "Fecha": "2018-09-17 00:00:00",
                                    "ID_local": "2",
                                    "clave_producto": "clz",
                                    "venta": "953",
                                    "venta_empleado": "2310967"
                                },
                                {
                                    "ventas_id": "4",
                                    "Fecha": "2018-10-30 00:00:00",
                                    "ID_local": "1",
                                    "clave_producto": "brr",
                                    "venta": "889",
                                    "venta_empleado": "9922377"
                                },
                                {
                                    "ventas_id": "5",
                                    "Fecha": "2018-05-16 00:00:00",
                                    "ID_local": "1",
                                    "clave_producto": "qsd",
                                    "venta": "495",
                                    "venta_empleado": "2520477"
                                },
                                {
                                    "ventas_id": "6",
                                    "Fecha": "2018-12-15 00:00:00",
                                    "ID_local": "3",
                                    "clave_producto": "pzz",
                                    "venta": "544",
                                    "venta_empleado": "9611338"
                                },
                                {
                                    "ventas_id": "8",
                                    "Fecha": "2018-10-05 00:00:00",
                                    "ID_local": "1",
                                    "clave_producto": "pzz",
                                    "venta": "435",
                                    "venta_empleado": "2520477"
                                },
                                {
                                    "ventas_id": "9",
                                    "Fecha": "2018-04-20 00:00:00",
                                    "ID_local": "1",
                                    "clave_producto": "qsd",
                                    "venta": "1203",
                                    "venta_empleado": "9922377"
                                },
                                {
                                    "ventas_id": "10",
                                    "Fecha": "2018-06-08 00:00:00",
                                    "ID_local": "1",
                                    "clave_producto": "brr",
                                    "venta": "1038",
                                    "venta_empleado": "6332756"
                                },
                                {
                                    "ventas_id": "11",
                                    "Fecha": "2018-08-22 00:00:00",
                                    "ID_local": "1",
                                    "clave_producto": "brr",
                                    "venta": "404",
                                    "venta_empleado": "3833745"
                                },
                                {
                                    "ventas_id": "12",
                                    "Fecha": "2019-09-03 00:00:00",
                                    "ID_local": "1",
                                    "clave_producto": "pzz",
                                    "venta": "1362",
                                    "venta_empleado": "5728566"
                                },
                                {
                                    "ventas_id": "13",
                                    "Fecha": "2019-07-16 00:00:00",
                                    "ID_local": "3",
                                    "clave_producto": "qsd",
                                    "venta": "1054",
                                    "venta_empleado": "2310967"
                                },
                                {
                                    "ventas_id": "14",
                                    "Fecha": "2019-08-27 00:00:00",
                                    "ID_local": "3",
                                    "clave_producto": "clz",
                                    "venta": "303",
                                    "venta_empleado": "3833745"
                                },
                                {
                                    "ventas_id": "15",
                                    "Fecha": "2019-12-15 00:00:00",
                                    "ID_local": "1",
                                    "clave_producto": "brr",
                                    "venta": "871",
                                    "venta_empleado": "2520477"
                                },
                                {
                                    "ventas_id": "16",
                                    "Fecha": "2019-07-30 00:00:00",
                                    "ID_local": "3",
                                    "clave_producto": "brr",
                                    "venta": "1062",
                                    "venta_empleado": "5728566"
                                },
                                {
                                    "ventas_id": "17",
                                    "Fecha": "2019-10-25 00:00:00",
                                    "ID_local": "1",
                                    "clave_producto": "pzz",
                                    "venta": "1376",
                                    "venta_empleado": "6332756"
                                },
                                {
                                    "ventas_id": "18",
                                    "Fecha": "2019-12-14 00:00:00",
                                    "ID_local": "3",
                                    "clave_producto": "pzz",
                                    "venta": "957",
                                    "venta_empleado": "2310967"
                                },
                                {
                                    "ventas_id": "19",
                                    "Fecha": "2019-08-14 00:00:00",
                                    "ID_local": "2",
                                    "clave_producto": "clz",
                                    "venta": "972",
                                    "venta_empleado": "2310967"
                                },
                                {
                                    "ventas_id": "20",
                                    "Fecha": "2019-12-01 00:00:00",
                                    "ID_local": "1",
                                    "clave_producto": "pzz",
                                    "venta": "1455",
                                    "venta_empleado": "2310967"
                                },
                                {
                                    "ventas_id": "22",
                                    "Fecha": "2019-07-25 00:00:00",
                                    "ID_local": "3",
                                    "clave_producto": "clz",
                                    "venta": "1179",
                                    "venta_empleado": "2310967"
                                }
                            ]
                        },
                        "text/html": "<table><tr><th>ventas_id</th><th>Fecha</th><th>ID_local</th><th>clave_producto</th><th>venta</th><th>venta_empleado</th></tr><tr><td>1</td><td>2018-11-18 00:00:00</td><td>2</td><td>pzz</td><td>1302</td><td>2630867</td></tr><tr><td>2</td><td>2018-09-17 00:00:00</td><td>2</td><td>clz</td><td>953</td><td>2310967</td></tr><tr><td>4</td><td>2018-10-30 00:00:00</td><td>1</td><td>brr</td><td>889</td><td>9922377</td></tr><tr><td>5</td><td>2018-05-16 00:00:00</td><td>1</td><td>qsd</td><td>495</td><td>2520477</td></tr><tr><td>6</td><td>2018-12-15 00:00:00</td><td>3</td><td>pzz</td><td>544</td><td>9611338</td></tr><tr><td>8</td><td>2018-10-05 00:00:00</td><td>1</td><td>pzz</td><td>435</td><td>2520477</td></tr><tr><td>9</td><td>2018-04-20 00:00:00</td><td>1</td><td>qsd</td><td>1203</td><td>9922377</td></tr><tr><td>10</td><td>2018-06-08 00:00:00</td><td>1</td><td>brr</td><td>1038</td><td>6332756</td></tr><tr><td>11</td><td>2018-08-22 00:00:00</td><td>1</td><td>brr</td><td>404</td><td>3833745</td></tr><tr><td>12</td><td>2019-09-03 00:00:00</td><td>1</td><td>pzz</td><td>1362</td><td>5728566</td></tr><tr><td>13</td><td>2019-07-16 00:00:00</td><td>3</td><td>qsd</td><td>1054</td><td>2310967</td></tr><tr><td>14</td><td>2019-08-27 00:00:00</td><td>3</td><td>clz</td><td>303</td><td>3833745</td></tr><tr><td>15</td><td>2019-12-15 00:00:00</td><td>1</td><td>brr</td><td>871</td><td>2520477</td></tr><tr><td>16</td><td>2019-07-30 00:00:00</td><td>3</td><td>brr</td><td>1062</td><td>5728566</td></tr><tr><td>17</td><td>2019-10-25 00:00:00</td><td>1</td><td>pzz</td><td>1376</td><td>6332756</td></tr><tr><td>18</td><td>2019-12-14 00:00:00</td><td>3</td><td>pzz</td><td>957</td><td>2310967</td></tr><tr><td>19</td><td>2019-08-14 00:00:00</td><td>2</td><td>clz</td><td>972</td><td>2310967</td></tr><tr><td>20</td><td>2019-12-01 00:00:00</td><td>1</td><td>pzz</td><td>1455</td><td>2310967</td></tr><tr><td>22</td><td>2019-07-25 00:00:00</td><td>3</td><td>clz</td><td>1179</td><td>2310967</td></tr></table>"
                    },
                    "metadata": {}
                }
            ],
            "execution_count": 20
        },
        {
            "cell_type": "code",
            "source": [
                "SELECT * FROM datos.ventas\r\n",
                "WHERE  ID_local IN (1,2,3 ) AND clave_producto=\"pzz\";"
            ],
            "metadata": {
                "language": "sql",
                "azdata_cell_guid": "d45a821c-6adf-480e-8617-c972f76a302f"
            },
            "outputs": [
                {
                    "output_type": "display_data",
                    "data": {
                        "text/html": "(7 row(s) affected)"
                    },
                    "metadata": {}
                },
                {
                    "output_type": "display_data",
                    "data": {
                        "text/html": "Total execution time: 00:00:01.010"
                    },
                    "metadata": {}
                },
                {
                    "output_type": "execute_result",
                    "execution_count": 22,
                    "data": {
                        "application/vnd.dataresource+json": {
                            "schema": {
                                "fields": [
                                    {
                                        "name": "ventas_id"
                                    },
                                    {
                                        "name": "Fecha"
                                    },
                                    {
                                        "name": "ID_local"
                                    },
                                    {
                                        "name": "clave_producto"
                                    },
                                    {
                                        "name": "venta"
                                    },
                                    {
                                        "name": "venta_empleado"
                                    }
                                ]
                            },
                            "data": [
                                {
                                    "ventas_id": "1",
                                    "Fecha": "2018-11-18 00:00:00",
                                    "ID_local": "2",
                                    "clave_producto": "pzz",
                                    "venta": "1302",
                                    "venta_empleado": "2630867"
                                },
                                {
                                    "ventas_id": "6",
                                    "Fecha": "2018-12-15 00:00:00",
                                    "ID_local": "3",
                                    "clave_producto": "pzz",
                                    "venta": "544",
                                    "venta_empleado": "9611338"
                                },
                                {
                                    "ventas_id": "8",
                                    "Fecha": "2018-10-05 00:00:00",
                                    "ID_local": "1",
                                    "clave_producto": "pzz",
                                    "venta": "435",
                                    "venta_empleado": "2520477"
                                },
                                {
                                    "ventas_id": "12",
                                    "Fecha": "2019-09-03 00:00:00",
                                    "ID_local": "1",
                                    "clave_producto": "pzz",
                                    "venta": "1362",
                                    "venta_empleado": "5728566"
                                },
                                {
                                    "ventas_id": "17",
                                    "Fecha": "2019-10-25 00:00:00",
                                    "ID_local": "1",
                                    "clave_producto": "pzz",
                                    "venta": "1376",
                                    "venta_empleado": "6332756"
                                },
                                {
                                    "ventas_id": "18",
                                    "Fecha": "2019-12-14 00:00:00",
                                    "ID_local": "3",
                                    "clave_producto": "pzz",
                                    "venta": "957",
                                    "venta_empleado": "2310967"
                                },
                                {
                                    "ventas_id": "20",
                                    "Fecha": "2019-12-01 00:00:00",
                                    "ID_local": "1",
                                    "clave_producto": "pzz",
                                    "venta": "1455",
                                    "venta_empleado": "2310967"
                                }
                            ]
                        },
                        "text/html": "<table><tr><th>ventas_id</th><th>Fecha</th><th>ID_local</th><th>clave_producto</th><th>venta</th><th>venta_empleado</th></tr><tr><td>1</td><td>2018-11-18 00:00:00</td><td>2</td><td>pzz</td><td>1302</td><td>2630867</td></tr><tr><td>6</td><td>2018-12-15 00:00:00</td><td>3</td><td>pzz</td><td>544</td><td>9611338</td></tr><tr><td>8</td><td>2018-10-05 00:00:00</td><td>1</td><td>pzz</td><td>435</td><td>2520477</td></tr><tr><td>12</td><td>2019-09-03 00:00:00</td><td>1</td><td>pzz</td><td>1362</td><td>5728566</td></tr><tr><td>17</td><td>2019-10-25 00:00:00</td><td>1</td><td>pzz</td><td>1376</td><td>6332756</td></tr><tr><td>18</td><td>2019-12-14 00:00:00</td><td>3</td><td>pzz</td><td>957</td><td>2310967</td></tr><tr><td>20</td><td>2019-12-01 00:00:00</td><td>1</td><td>pzz</td><td>1455</td><td>2310967</td></tr></table>"
                    },
                    "metadata": {}
                }
            ],
            "execution_count": 22
        },
        {
            "cell_type": "code",
            "source": [
                "SELECT * FROM datos.ventas\r\n",
                "WHERE  ID_local IN (1,2,3 ) AND clave_producto IN (\"pzz\",\"clz\");"
            ],
            "metadata": {
                "language": "sql",
                "azdata_cell_guid": "74361d88-a8fa-42ba-8594-b2ccd6cb0a19"
            },
            "outputs": [
                {
                    "output_type": "display_data",
                    "data": {
                        "text/html": "(11 row(s) affected)"
                    },
                    "metadata": {}
                },
                {
                    "output_type": "display_data",
                    "data": {
                        "text/html": "Total execution time: 00:00:01.014"
                    },
                    "metadata": {}
                },
                {
                    "output_type": "execute_result",
                    "execution_count": 23,
                    "data": {
                        "application/vnd.dataresource+json": {
                            "schema": {
                                "fields": [
                                    {
                                        "name": "ventas_id"
                                    },
                                    {
                                        "name": "Fecha"
                                    },
                                    {
                                        "name": "ID_local"
                                    },
                                    {
                                        "name": "clave_producto"
                                    },
                                    {
                                        "name": "venta"
                                    },
                                    {
                                        "name": "venta_empleado"
                                    }
                                ]
                            },
                            "data": [
                                {
                                    "ventas_id": "1",
                                    "Fecha": "2018-11-18 00:00:00",
                                    "ID_local": "2",
                                    "clave_producto": "pzz",
                                    "venta": "1302",
                                    "venta_empleado": "2630867"
                                },
                                {
                                    "ventas_id": "2",
                                    "Fecha": "2018-09-17 00:00:00",
                                    "ID_local": "2",
                                    "clave_producto": "clz",
                                    "venta": "953",
                                    "venta_empleado": "2310967"
                                },
                                {
                                    "ventas_id": "6",
                                    "Fecha": "2018-12-15 00:00:00",
                                    "ID_local": "3",
                                    "clave_producto": "pzz",
                                    "venta": "544",
                                    "venta_empleado": "9611338"
                                },
                                {
                                    "ventas_id": "8",
                                    "Fecha": "2018-10-05 00:00:00",
                                    "ID_local": "1",
                                    "clave_producto": "pzz",
                                    "venta": "435",
                                    "venta_empleado": "2520477"
                                },
                                {
                                    "ventas_id": "12",
                                    "Fecha": "2019-09-03 00:00:00",
                                    "ID_local": "1",
                                    "clave_producto": "pzz",
                                    "venta": "1362",
                                    "venta_empleado": "5728566"
                                },
                                {
                                    "ventas_id": "14",
                                    "Fecha": "2019-08-27 00:00:00",
                                    "ID_local": "3",
                                    "clave_producto": "clz",
                                    "venta": "303",
                                    "venta_empleado": "3833745"
                                },
                                {
                                    "ventas_id": "17",
                                    "Fecha": "2019-10-25 00:00:00",
                                    "ID_local": "1",
                                    "clave_producto": "pzz",
                                    "venta": "1376",
                                    "venta_empleado": "6332756"
                                },
                                {
                                    "ventas_id": "18",
                                    "Fecha": "2019-12-14 00:00:00",
                                    "ID_local": "3",
                                    "clave_producto": "pzz",
                                    "venta": "957",
                                    "venta_empleado": "2310967"
                                },
                                {
                                    "ventas_id": "19",
                                    "Fecha": "2019-08-14 00:00:00",
                                    "ID_local": "2",
                                    "clave_producto": "clz",
                                    "venta": "972",
                                    "venta_empleado": "2310967"
                                },
                                {
                                    "ventas_id": "20",
                                    "Fecha": "2019-12-01 00:00:00",
                                    "ID_local": "1",
                                    "clave_producto": "pzz",
                                    "venta": "1455",
                                    "venta_empleado": "2310967"
                                },
                                {
                                    "ventas_id": "22",
                                    "Fecha": "2019-07-25 00:00:00",
                                    "ID_local": "3",
                                    "clave_producto": "clz",
                                    "venta": "1179",
                                    "venta_empleado": "2310967"
                                }
                            ]
                        },
                        "text/html": "<table><tr><th>ventas_id</th><th>Fecha</th><th>ID_local</th><th>clave_producto</th><th>venta</th><th>venta_empleado</th></tr><tr><td>1</td><td>2018-11-18 00:00:00</td><td>2</td><td>pzz</td><td>1302</td><td>2630867</td></tr><tr><td>2</td><td>2018-09-17 00:00:00</td><td>2</td><td>clz</td><td>953</td><td>2310967</td></tr><tr><td>6</td><td>2018-12-15 00:00:00</td><td>3</td><td>pzz</td><td>544</td><td>9611338</td></tr><tr><td>8</td><td>2018-10-05 00:00:00</td><td>1</td><td>pzz</td><td>435</td><td>2520477</td></tr><tr><td>12</td><td>2019-09-03 00:00:00</td><td>1</td><td>pzz</td><td>1362</td><td>5728566</td></tr><tr><td>14</td><td>2019-08-27 00:00:00</td><td>3</td><td>clz</td><td>303</td><td>3833745</td></tr><tr><td>17</td><td>2019-10-25 00:00:00</td><td>1</td><td>pzz</td><td>1376</td><td>6332756</td></tr><tr><td>18</td><td>2019-12-14 00:00:00</td><td>3</td><td>pzz</td><td>957</td><td>2310967</td></tr><tr><td>19</td><td>2019-08-14 00:00:00</td><td>2</td><td>clz</td><td>972</td><td>2310967</td></tr><tr><td>20</td><td>2019-12-01 00:00:00</td><td>1</td><td>pzz</td><td>1455</td><td>2310967</td></tr><tr><td>22</td><td>2019-07-25 00:00:00</td><td>3</td><td>clz</td><td>1179</td><td>2310967</td></tr></table>"
                    },
                    "metadata": {}
                }
            ],
            "execution_count": 23
        },
        {
            "cell_type": "code",
            "source": [
                ""
            ],
            "metadata": {
                "language": "sql",
                "azdata_cell_guid": "f8431796-1f47-4b4a-8d07-549e6337d514"
            },
            "outputs": [],
            "execution_count": null
        },
        {
            "cell_type": "markdown",
            "source": [
                "## **BETWEEN:** Muestra los resultados que se encuentran en un rango de valores."
            ],
            "metadata": {
                "language": "sql",
                "azdata_cell_guid": "6f08039d-26f4-4365-b67b-d1ca24664335"
            },
            "attachments": {}
        },
        {
            "cell_type": "code",
            "source": [
                "SELECT * FROM datos.ventas\r\n",
                "WHERE  venta BETWEEN 500 AND 1000;"
            ],
            "metadata": {
                "language": "sql",
                "azdata_cell_guid": "ae81c341-b503-4124-8047-eb638047ca55"
            },
            "outputs": [
                {
                    "output_type": "display_data",
                    "data": {
                        "text/html": "(6 row(s) affected)"
                    },
                    "metadata": {}
                },
                {
                    "output_type": "display_data",
                    "data": {
                        "text/html": "Total execution time: 00:00:01.009"
                    },
                    "metadata": {}
                },
                {
                    "output_type": "execute_result",
                    "execution_count": 24,
                    "data": {
                        "application/vnd.dataresource+json": {
                            "schema": {
                                "fields": [
                                    {
                                        "name": "ventas_id"
                                    },
                                    {
                                        "name": "Fecha"
                                    },
                                    {
                                        "name": "ID_local"
                                    },
                                    {
                                        "name": "clave_producto"
                                    },
                                    {
                                        "name": "venta"
                                    },
                                    {
                                        "name": "venta_empleado"
                                    }
                                ]
                            },
                            "data": [
                                {
                                    "ventas_id": "6",
                                    "Fecha": "2018-12-15 00:00:00",
                                    "ID_local": "3",
                                    "clave_producto": "pzz",
                                    "venta": "544",
                                    "venta_empleado": "9611338"
                                },
                                {
                                    "ventas_id": "15",
                                    "Fecha": "2019-12-15 00:00:00",
                                    "ID_local": "1",
                                    "clave_producto": "brr",
                                    "venta": "871",
                                    "venta_empleado": "2520477"
                                },
                                {
                                    "ventas_id": "4",
                                    "Fecha": "2018-10-30 00:00:00",
                                    "ID_local": "1",
                                    "clave_producto": "brr",
                                    "venta": "889",
                                    "venta_empleado": "9922377"
                                },
                                {
                                    "ventas_id": "2",
                                    "Fecha": "2018-09-17 00:00:00",
                                    "ID_local": "2",
                                    "clave_producto": "clz",
                                    "venta": "953",
                                    "venta_empleado": "2310967"
                                },
                                {
                                    "ventas_id": "18",
                                    "Fecha": "2019-12-14 00:00:00",
                                    "ID_local": "3",
                                    "clave_producto": "pzz",
                                    "venta": "957",
                                    "venta_empleado": "2310967"
                                },
                                {
                                    "ventas_id": "19",
                                    "Fecha": "2019-08-14 00:00:00",
                                    "ID_local": "2",
                                    "clave_producto": "clz",
                                    "venta": "972",
                                    "venta_empleado": "2310967"
                                }
                            ]
                        },
                        "text/html": "<table><tr><th>ventas_id</th><th>Fecha</th><th>ID_local</th><th>clave_producto</th><th>venta</th><th>venta_empleado</th></tr><tr><td>6</td><td>2018-12-15 00:00:00</td><td>3</td><td>pzz</td><td>544</td><td>9611338</td></tr><tr><td>15</td><td>2019-12-15 00:00:00</td><td>1</td><td>brr</td><td>871</td><td>2520477</td></tr><tr><td>4</td><td>2018-10-30 00:00:00</td><td>1</td><td>brr</td><td>889</td><td>9922377</td></tr><tr><td>2</td><td>2018-09-17 00:00:00</td><td>2</td><td>clz</td><td>953</td><td>2310967</td></tr><tr><td>18</td><td>2019-12-14 00:00:00</td><td>3</td><td>pzz</td><td>957</td><td>2310967</td></tr><tr><td>19</td><td>2019-08-14 00:00:00</td><td>2</td><td>clz</td><td>972</td><td>2310967</td></tr></table>"
                    },
                    "metadata": {}
                }
            ],
            "execution_count": 24
        },
        {
            "cell_type": "markdown",
            "source": [
                "## **LIKE:** Muestra resultados que coincidan (expresion regular) dentro de un texto.\n",
                "\n",
                "## **%:** Representa cero, uno o múltiples caracteres.\n",
                "\n",
                "## **\\_:** representa un caracter cualquiera en esa posición."
            ],
            "metadata": {
                "language": "sql",
                "azdata_cell_guid": "3eade88f-874a-46c3-9929-8f5be8599fec"
            },
            "attachments": {}
        },
        {
            "cell_type": "code",
            "source": [
                "SELECT * FROM datos.ventas\r\n",
                "WHERE  clave_producto LIKE \"%z\""
            ],
            "metadata": {
                "language": "sql",
                "azdata_cell_guid": "7d8cee8d-af34-41f6-87e4-bd45b733cab3",
                "tags": []
            },
            "outputs": [
                {
                    "output_type": "display_data",
                    "data": {
                        "text/html": "(12 row(s) affected)"
                    },
                    "metadata": {}
                },
                {
                    "output_type": "display_data",
                    "data": {
                        "text/html": "Total execution time: 00:00:01.015"
                    },
                    "metadata": {}
                },
                {
                    "output_type": "execute_result",
                    "execution_count": 25,
                    "data": {
                        "application/vnd.dataresource+json": {
                            "schema": {
                                "fields": [
                                    {
                                        "name": "ventas_id"
                                    },
                                    {
                                        "name": "Fecha"
                                    },
                                    {
                                        "name": "ID_local"
                                    },
                                    {
                                        "name": "clave_producto"
                                    },
                                    {
                                        "name": "venta"
                                    },
                                    {
                                        "name": "venta_empleado"
                                    }
                                ]
                            },
                            "data": [
                                {
                                    "ventas_id": "1",
                                    "Fecha": "2018-11-18 00:00:00",
                                    "ID_local": "2",
                                    "clave_producto": "pzz",
                                    "venta": "1302",
                                    "venta_empleado": "2630867"
                                },
                                {
                                    "ventas_id": "2",
                                    "Fecha": "2018-09-17 00:00:00",
                                    "ID_local": "2",
                                    "clave_producto": "clz",
                                    "venta": "953",
                                    "venta_empleado": "2310967"
                                },
                                {
                                    "ventas_id": "6",
                                    "Fecha": "2018-12-15 00:00:00",
                                    "ID_local": "3",
                                    "clave_producto": "pzz",
                                    "venta": "544",
                                    "venta_empleado": "9611338"
                                },
                                {
                                    "ventas_id": "7",
                                    "Fecha": "2018-07-28 00:00:00",
                                    "ID_local": "4",
                                    "clave_producto": "pzz",
                                    "venta": "1444",
                                    "venta_empleado": "6332756"
                                },
                                {
                                    "ventas_id": "8",
                                    "Fecha": "2018-10-05 00:00:00",
                                    "ID_local": "1",
                                    "clave_producto": "pzz",
                                    "venta": "435",
                                    "venta_empleado": "2520477"
                                },
                                {
                                    "ventas_id": "12",
                                    "Fecha": "2019-09-03 00:00:00",
                                    "ID_local": "1",
                                    "clave_producto": "pzz",
                                    "venta": "1362",
                                    "venta_empleado": "5728566"
                                },
                                {
                                    "ventas_id": "14",
                                    "Fecha": "2019-08-27 00:00:00",
                                    "ID_local": "3",
                                    "clave_producto": "clz",
                                    "venta": "303",
                                    "venta_empleado": "3833745"
                                },
                                {
                                    "ventas_id": "17",
                                    "Fecha": "2019-10-25 00:00:00",
                                    "ID_local": "1",
                                    "clave_producto": "pzz",
                                    "venta": "1376",
                                    "venta_empleado": "6332756"
                                },
                                {
                                    "ventas_id": "18",
                                    "Fecha": "2019-12-14 00:00:00",
                                    "ID_local": "3",
                                    "clave_producto": "pzz",
                                    "venta": "957",
                                    "venta_empleado": "2310967"
                                },
                                {
                                    "ventas_id": "19",
                                    "Fecha": "2019-08-14 00:00:00",
                                    "ID_local": "2",
                                    "clave_producto": "clz",
                                    "venta": "972",
                                    "venta_empleado": "2310967"
                                },
                                {
                                    "ventas_id": "20",
                                    "Fecha": "2019-12-01 00:00:00",
                                    "ID_local": "1",
                                    "clave_producto": "pzz",
                                    "venta": "1455",
                                    "venta_empleado": "2310967"
                                },
                                {
                                    "ventas_id": "22",
                                    "Fecha": "2019-07-25 00:00:00",
                                    "ID_local": "3",
                                    "clave_producto": "clz",
                                    "venta": "1179",
                                    "venta_empleado": "2310967"
                                }
                            ]
                        },
                        "text/html": "<table><tr><th>ventas_id</th><th>Fecha</th><th>ID_local</th><th>clave_producto</th><th>venta</th><th>venta_empleado</th></tr><tr><td>1</td><td>2018-11-18 00:00:00</td><td>2</td><td>pzz</td><td>1302</td><td>2630867</td></tr><tr><td>2</td><td>2018-09-17 00:00:00</td><td>2</td><td>clz</td><td>953</td><td>2310967</td></tr><tr><td>6</td><td>2018-12-15 00:00:00</td><td>3</td><td>pzz</td><td>544</td><td>9611338</td></tr><tr><td>7</td><td>2018-07-28 00:00:00</td><td>4</td><td>pzz</td><td>1444</td><td>6332756</td></tr><tr><td>8</td><td>2018-10-05 00:00:00</td><td>1</td><td>pzz</td><td>435</td><td>2520477</td></tr><tr><td>12</td><td>2019-09-03 00:00:00</td><td>1</td><td>pzz</td><td>1362</td><td>5728566</td></tr><tr><td>14</td><td>2019-08-27 00:00:00</td><td>3</td><td>clz</td><td>303</td><td>3833745</td></tr><tr><td>17</td><td>2019-10-25 00:00:00</td><td>1</td><td>pzz</td><td>1376</td><td>6332756</td></tr><tr><td>18</td><td>2019-12-14 00:00:00</td><td>3</td><td>pzz</td><td>957</td><td>2310967</td></tr><tr><td>19</td><td>2019-08-14 00:00:00</td><td>2</td><td>clz</td><td>972</td><td>2310967</td></tr><tr><td>20</td><td>2019-12-01 00:00:00</td><td>1</td><td>pzz</td><td>1455</td><td>2310967</td></tr><tr><td>22</td><td>2019-07-25 00:00:00</td><td>3</td><td>clz</td><td>1179</td><td>2310967</td></tr></table>"
                    },
                    "metadata": {}
                }
            ],
            "execution_count": 25
        },
        {
            "cell_type": "code",
            "source": [
                ""
            ],
            "metadata": {
                "language": "sql",
                "azdata_cell_guid": "368f2ae8-16c4-4c89-8e45-5614ad7cd320"
            },
            "outputs": [],
            "execution_count": null
        },
        {
            "cell_type": "code",
            "source": [
                "SELECT * FROM datos.ventas\r\n",
                "WHERE  clave_producto LIKE \"z%\""
            ],
            "metadata": {
                "language": "sql",
                "azdata_cell_guid": "b9c3adcb-11be-401c-b793-75c86508772e"
            },
            "outputs": [
                {
                    "output_type": "display_data",
                    "data": {
                        "text/html": "(0 row(s) affected)"
                    },
                    "metadata": {}
                },
                {
                    "output_type": "display_data",
                    "data": {
                        "text/html": "Total execution time: 00:00:01.013"
                    },
                    "metadata": {}
                },
                {
                    "output_type": "execute_result",
                    "execution_count": 26,
                    "data": {
                        "application/vnd.dataresource+json": {
                            "schema": {
                                "fields": [
                                    {
                                        "name": "ventas_id"
                                    },
                                    {
                                        "name": "Fecha"
                                    },
                                    {
                                        "name": "ID_local"
                                    },
                                    {
                                        "name": "clave_producto"
                                    },
                                    {
                                        "name": "venta"
                                    },
                                    {
                                        "name": "venta_empleado"
                                    }
                                ]
                            },
                            "data": []
                        },
                        "text/html": "<table><tr><th>ventas_id</th><th>Fecha</th><th>ID_local</th><th>clave_producto</th><th>venta</th><th>venta_empleado</th></tr></table>"
                    },
                    "metadata": {}
                }
            ],
            "execution_count": 26
        },
        {
            "cell_type": "code",
            "source": [
                "SELECT * FROM datos.ventas\r\n",
                "WHERE  clave_producto LIKE \"c%\""
            ],
            "metadata": {
                "language": "sql",
                "azdata_cell_guid": "b026642d-65a3-45fa-8221-8f9f3f35c4ea"
            },
            "outputs": [
                {
                    "output_type": "display_data",
                    "data": {
                        "text/html": "(4 row(s) affected)"
                    },
                    "metadata": {}
                },
                {
                    "output_type": "display_data",
                    "data": {
                        "text/html": "Total execution time: 00:00:01.014"
                    },
                    "metadata": {}
                },
                {
                    "output_type": "execute_result",
                    "execution_count": 27,
                    "data": {
                        "application/vnd.dataresource+json": {
                            "schema": {
                                "fields": [
                                    {
                                        "name": "ventas_id"
                                    },
                                    {
                                        "name": "Fecha"
                                    },
                                    {
                                        "name": "ID_local"
                                    },
                                    {
                                        "name": "clave_producto"
                                    },
                                    {
                                        "name": "venta"
                                    },
                                    {
                                        "name": "venta_empleado"
                                    }
                                ]
                            },
                            "data": [
                                {
                                    "ventas_id": "2",
                                    "Fecha": "2018-09-17 00:00:00",
                                    "ID_local": "2",
                                    "clave_producto": "clz",
                                    "venta": "953",
                                    "venta_empleado": "2310967"
                                },
                                {
                                    "ventas_id": "14",
                                    "Fecha": "2019-08-27 00:00:00",
                                    "ID_local": "3",
                                    "clave_producto": "clz",
                                    "venta": "303",
                                    "venta_empleado": "3833745"
                                },
                                {
                                    "ventas_id": "19",
                                    "Fecha": "2019-08-14 00:00:00",
                                    "ID_local": "2",
                                    "clave_producto": "clz",
                                    "venta": "972",
                                    "venta_empleado": "2310967"
                                },
                                {
                                    "ventas_id": "22",
                                    "Fecha": "2019-07-25 00:00:00",
                                    "ID_local": "3",
                                    "clave_producto": "clz",
                                    "venta": "1179",
                                    "venta_empleado": "2310967"
                                }
                            ]
                        },
                        "text/html": "<table><tr><th>ventas_id</th><th>Fecha</th><th>ID_local</th><th>clave_producto</th><th>venta</th><th>venta_empleado</th></tr><tr><td>2</td><td>2018-09-17 00:00:00</td><td>2</td><td>clz</td><td>953</td><td>2310967</td></tr><tr><td>14</td><td>2019-08-27 00:00:00</td><td>3</td><td>clz</td><td>303</td><td>3833745</td></tr><tr><td>19</td><td>2019-08-14 00:00:00</td><td>2</td><td>clz</td><td>972</td><td>2310967</td></tr><tr><td>22</td><td>2019-07-25 00:00:00</td><td>3</td><td>clz</td><td>1179</td><td>2310967</td></tr></table>"
                    },
                    "metadata": {}
                }
            ],
            "execution_count": 27
        },
        {
            "cell_type": "code",
            "source": [
                "SELECT * FROM datos.ventas\r\n",
                "WHERE  clave_producto LIKE \"%d\""
            ],
            "metadata": {
                "language": "sql",
                "azdata_cell_guid": "699069b9-b961-476f-bbf4-1902cff843db"
            },
            "outputs": [
                {
                    "output_type": "display_data",
                    "data": {
                        "text/html": "(4 row(s) affected)"
                    },
                    "metadata": {}
                },
                {
                    "output_type": "display_data",
                    "data": {
                        "text/html": "Total execution time: 00:00:01.010"
                    },
                    "metadata": {}
                },
                {
                    "output_type": "execute_result",
                    "execution_count": 28,
                    "data": {
                        "application/vnd.dataresource+json": {
                            "schema": {
                                "fields": [
                                    {
                                        "name": "ventas_id"
                                    },
                                    {
                                        "name": "Fecha"
                                    },
                                    {
                                        "name": "ID_local"
                                    },
                                    {
                                        "name": "clave_producto"
                                    },
                                    {
                                        "name": "venta"
                                    },
                                    {
                                        "name": "venta_empleado"
                                    }
                                ]
                            },
                            "data": [
                                {
                                    "ventas_id": "5",
                                    "Fecha": "2018-05-16 00:00:00",
                                    "ID_local": "1",
                                    "clave_producto": "qsd",
                                    "venta": "495",
                                    "venta_empleado": "2520477"
                                },
                                {
                                    "ventas_id": "9",
                                    "Fecha": "2018-04-20 00:00:00",
                                    "ID_local": "1",
                                    "clave_producto": "qsd",
                                    "venta": "1203",
                                    "venta_empleado": "9922377"
                                },
                                {
                                    "ventas_id": "13",
                                    "Fecha": "2019-07-16 00:00:00",
                                    "ID_local": "3",
                                    "clave_producto": "qsd",
                                    "venta": "1054",
                                    "venta_empleado": "2310967"
                                },
                                {
                                    "ventas_id": "21",
                                    "Fecha": "2019-06-08 00:00:00",
                                    "ID_local": "4",
                                    "clave_producto": "qsd",
                                    "venta": "497",
                                    "venta_empleado": "5728566"
                                }
                            ]
                        },
                        "text/html": "<table><tr><th>ventas_id</th><th>Fecha</th><th>ID_local</th><th>clave_producto</th><th>venta</th><th>venta_empleado</th></tr><tr><td>5</td><td>2018-05-16 00:00:00</td><td>1</td><td>qsd</td><td>495</td><td>2520477</td></tr><tr><td>9</td><td>2018-04-20 00:00:00</td><td>1</td><td>qsd</td><td>1203</td><td>9922377</td></tr><tr><td>13</td><td>2019-07-16 00:00:00</td><td>3</td><td>qsd</td><td>1054</td><td>2310967</td></tr><tr><td>21</td><td>2019-06-08 00:00:00</td><td>4</td><td>qsd</td><td>497</td><td>5728566</td></tr></table>"
                    },
                    "metadata": {}
                }
            ],
            "execution_count": 28
        },
        {
            "cell_type": "code",
            "source": [
                "SELECT * FROM datos.ventas\r\n",
                "WHERE  clave_producto LIKE \"_z\""
            ],
            "metadata": {
                "language": "sql",
                "azdata_cell_guid": "c4f16575-8ac1-4c82-8274-a0dfe33a4034"
            },
            "outputs": [
                {
                    "output_type": "display_data",
                    "data": {
                        "text/html": "(0 row(s) affected)"
                    },
                    "metadata": {}
                },
                {
                    "output_type": "display_data",
                    "data": {
                        "text/html": "Total execution time: 00:00:01.007"
                    },
                    "metadata": {}
                },
                {
                    "output_type": "execute_result",
                    "execution_count": 29,
                    "data": {
                        "application/vnd.dataresource+json": {
                            "schema": {
                                "fields": [
                                    {
                                        "name": "ventas_id"
                                    },
                                    {
                                        "name": "Fecha"
                                    },
                                    {
                                        "name": "ID_local"
                                    },
                                    {
                                        "name": "clave_producto"
                                    },
                                    {
                                        "name": "venta"
                                    },
                                    {
                                        "name": "venta_empleado"
                                    }
                                ]
                            },
                            "data": []
                        },
                        "text/html": "<table><tr><th>ventas_id</th><th>Fecha</th><th>ID_local</th><th>clave_producto</th><th>venta</th><th>venta_empleado</th></tr></table>"
                    },
                    "metadata": {}
                }
            ],
            "execution_count": 29
        },
        {
            "cell_type": "code",
            "source": [
                "SELECT * FROM datos.ventas\r\n",
                "WHERE  clave_producto LIKE \"_z_\""
            ],
            "metadata": {
                "language": "sql",
                "azdata_cell_guid": "78b65b8f-478a-4592-9084-4f3f5f077f9f"
            },
            "outputs": [
                {
                    "output_type": "display_data",
                    "data": {
                        "text/html": "(8 row(s) affected)"
                    },
                    "metadata": {}
                },
                {
                    "output_type": "display_data",
                    "data": {
                        "text/html": "Total execution time: 00:00:01.006"
                    },
                    "metadata": {}
                },
                {
                    "output_type": "execute_result",
                    "execution_count": 30,
                    "data": {
                        "application/vnd.dataresource+json": {
                            "schema": {
                                "fields": [
                                    {
                                        "name": "ventas_id"
                                    },
                                    {
                                        "name": "Fecha"
                                    },
                                    {
                                        "name": "ID_local"
                                    },
                                    {
                                        "name": "clave_producto"
                                    },
                                    {
                                        "name": "venta"
                                    },
                                    {
                                        "name": "venta_empleado"
                                    }
                                ]
                            },
                            "data": [
                                {
                                    "ventas_id": "1",
                                    "Fecha": "2018-11-18 00:00:00",
                                    "ID_local": "2",
                                    "clave_producto": "pzz",
                                    "venta": "1302",
                                    "venta_empleado": "2630867"
                                },
                                {
                                    "ventas_id": "6",
                                    "Fecha": "2018-12-15 00:00:00",
                                    "ID_local": "3",
                                    "clave_producto": "pzz",
                                    "venta": "544",
                                    "venta_empleado": "9611338"
                                },
                                {
                                    "ventas_id": "7",
                                    "Fecha": "2018-07-28 00:00:00",
                                    "ID_local": "4",
                                    "clave_producto": "pzz",
                                    "venta": "1444",
                                    "venta_empleado": "6332756"
                                },
                                {
                                    "ventas_id": "8",
                                    "Fecha": "2018-10-05 00:00:00",
                                    "ID_local": "1",
                                    "clave_producto": "pzz",
                                    "venta": "435",
                                    "venta_empleado": "2520477"
                                },
                                {
                                    "ventas_id": "12",
                                    "Fecha": "2019-09-03 00:00:00",
                                    "ID_local": "1",
                                    "clave_producto": "pzz",
                                    "venta": "1362",
                                    "venta_empleado": "5728566"
                                },
                                {
                                    "ventas_id": "17",
                                    "Fecha": "2019-10-25 00:00:00",
                                    "ID_local": "1",
                                    "clave_producto": "pzz",
                                    "venta": "1376",
                                    "venta_empleado": "6332756"
                                },
                                {
                                    "ventas_id": "18",
                                    "Fecha": "2019-12-14 00:00:00",
                                    "ID_local": "3",
                                    "clave_producto": "pzz",
                                    "venta": "957",
                                    "venta_empleado": "2310967"
                                },
                                {
                                    "ventas_id": "20",
                                    "Fecha": "2019-12-01 00:00:00",
                                    "ID_local": "1",
                                    "clave_producto": "pzz",
                                    "venta": "1455",
                                    "venta_empleado": "2310967"
                                }
                            ]
                        },
                        "text/html": "<table><tr><th>ventas_id</th><th>Fecha</th><th>ID_local</th><th>clave_producto</th><th>venta</th><th>venta_empleado</th></tr><tr><td>1</td><td>2018-11-18 00:00:00</td><td>2</td><td>pzz</td><td>1302</td><td>2630867</td></tr><tr><td>6</td><td>2018-12-15 00:00:00</td><td>3</td><td>pzz</td><td>544</td><td>9611338</td></tr><tr><td>7</td><td>2018-07-28 00:00:00</td><td>4</td><td>pzz</td><td>1444</td><td>6332756</td></tr><tr><td>8</td><td>2018-10-05 00:00:00</td><td>1</td><td>pzz</td><td>435</td><td>2520477</td></tr><tr><td>12</td><td>2019-09-03 00:00:00</td><td>1</td><td>pzz</td><td>1362</td><td>5728566</td></tr><tr><td>17</td><td>2019-10-25 00:00:00</td><td>1</td><td>pzz</td><td>1376</td><td>6332756</td></tr><tr><td>18</td><td>2019-12-14 00:00:00</td><td>3</td><td>pzz</td><td>957</td><td>2310967</td></tr><tr><td>20</td><td>2019-12-01 00:00:00</td><td>1</td><td>pzz</td><td>1455</td><td>2310967</td></tr></table>"
                    },
                    "metadata": {}
                }
            ],
            "execution_count": 30
        },
        {
            "cell_type": "code",
            "source": [
                "SELECT * FROM datos.ventas\r\n",
                "WHERE  clave_producto LIKE \"__z\""
            ],
            "metadata": {
                "language": "sql",
                "azdata_cell_guid": "bce1ea6d-f0d2-4f46-9d27-9d5b5ef9a25f"
            },
            "outputs": [
                {
                    "output_type": "display_data",
                    "data": {
                        "text/html": "(12 row(s) affected)"
                    },
                    "metadata": {}
                },
                {
                    "output_type": "display_data",
                    "data": {
                        "text/html": "Total execution time: 00:00:01.018"
                    },
                    "metadata": {}
                },
                {
                    "output_type": "execute_result",
                    "execution_count": 31,
                    "data": {
                        "application/vnd.dataresource+json": {
                            "schema": {
                                "fields": [
                                    {
                                        "name": "ventas_id"
                                    },
                                    {
                                        "name": "Fecha"
                                    },
                                    {
                                        "name": "ID_local"
                                    },
                                    {
                                        "name": "clave_producto"
                                    },
                                    {
                                        "name": "venta"
                                    },
                                    {
                                        "name": "venta_empleado"
                                    }
                                ]
                            },
                            "data": [
                                {
                                    "ventas_id": "1",
                                    "Fecha": "2018-11-18 00:00:00",
                                    "ID_local": "2",
                                    "clave_producto": "pzz",
                                    "venta": "1302",
                                    "venta_empleado": "2630867"
                                },
                                {
                                    "ventas_id": "2",
                                    "Fecha": "2018-09-17 00:00:00",
                                    "ID_local": "2",
                                    "clave_producto": "clz",
                                    "venta": "953",
                                    "venta_empleado": "2310967"
                                },
                                {
                                    "ventas_id": "6",
                                    "Fecha": "2018-12-15 00:00:00",
                                    "ID_local": "3",
                                    "clave_producto": "pzz",
                                    "venta": "544",
                                    "venta_empleado": "9611338"
                                },
                                {
                                    "ventas_id": "7",
                                    "Fecha": "2018-07-28 00:00:00",
                                    "ID_local": "4",
                                    "clave_producto": "pzz",
                                    "venta": "1444",
                                    "venta_empleado": "6332756"
                                },
                                {
                                    "ventas_id": "8",
                                    "Fecha": "2018-10-05 00:00:00",
                                    "ID_local": "1",
                                    "clave_producto": "pzz",
                                    "venta": "435",
                                    "venta_empleado": "2520477"
                                },
                                {
                                    "ventas_id": "12",
                                    "Fecha": "2019-09-03 00:00:00",
                                    "ID_local": "1",
                                    "clave_producto": "pzz",
                                    "venta": "1362",
                                    "venta_empleado": "5728566"
                                },
                                {
                                    "ventas_id": "14",
                                    "Fecha": "2019-08-27 00:00:00",
                                    "ID_local": "3",
                                    "clave_producto": "clz",
                                    "venta": "303",
                                    "venta_empleado": "3833745"
                                },
                                {
                                    "ventas_id": "17",
                                    "Fecha": "2019-10-25 00:00:00",
                                    "ID_local": "1",
                                    "clave_producto": "pzz",
                                    "venta": "1376",
                                    "venta_empleado": "6332756"
                                },
                                {
                                    "ventas_id": "18",
                                    "Fecha": "2019-12-14 00:00:00",
                                    "ID_local": "3",
                                    "clave_producto": "pzz",
                                    "venta": "957",
                                    "venta_empleado": "2310967"
                                },
                                {
                                    "ventas_id": "19",
                                    "Fecha": "2019-08-14 00:00:00",
                                    "ID_local": "2",
                                    "clave_producto": "clz",
                                    "venta": "972",
                                    "venta_empleado": "2310967"
                                },
                                {
                                    "ventas_id": "20",
                                    "Fecha": "2019-12-01 00:00:00",
                                    "ID_local": "1",
                                    "clave_producto": "pzz",
                                    "venta": "1455",
                                    "venta_empleado": "2310967"
                                },
                                {
                                    "ventas_id": "22",
                                    "Fecha": "2019-07-25 00:00:00",
                                    "ID_local": "3",
                                    "clave_producto": "clz",
                                    "venta": "1179",
                                    "venta_empleado": "2310967"
                                }
                            ]
                        },
                        "text/html": "<table><tr><th>ventas_id</th><th>Fecha</th><th>ID_local</th><th>clave_producto</th><th>venta</th><th>venta_empleado</th></tr><tr><td>1</td><td>2018-11-18 00:00:00</td><td>2</td><td>pzz</td><td>1302</td><td>2630867</td></tr><tr><td>2</td><td>2018-09-17 00:00:00</td><td>2</td><td>clz</td><td>953</td><td>2310967</td></tr><tr><td>6</td><td>2018-12-15 00:00:00</td><td>3</td><td>pzz</td><td>544</td><td>9611338</td></tr><tr><td>7</td><td>2018-07-28 00:00:00</td><td>4</td><td>pzz</td><td>1444</td><td>6332756</td></tr><tr><td>8</td><td>2018-10-05 00:00:00</td><td>1</td><td>pzz</td><td>435</td><td>2520477</td></tr><tr><td>12</td><td>2019-09-03 00:00:00</td><td>1</td><td>pzz</td><td>1362</td><td>5728566</td></tr><tr><td>14</td><td>2019-08-27 00:00:00</td><td>3</td><td>clz</td><td>303</td><td>3833745</td></tr><tr><td>17</td><td>2019-10-25 00:00:00</td><td>1</td><td>pzz</td><td>1376</td><td>6332756</td></tr><tr><td>18</td><td>2019-12-14 00:00:00</td><td>3</td><td>pzz</td><td>957</td><td>2310967</td></tr><tr><td>19</td><td>2019-08-14 00:00:00</td><td>2</td><td>clz</td><td>972</td><td>2310967</td></tr><tr><td>20</td><td>2019-12-01 00:00:00</td><td>1</td><td>pzz</td><td>1455</td><td>2310967</td></tr><tr><td>22</td><td>2019-07-25 00:00:00</td><td>3</td><td>clz</td><td>1179</td><td>2310967</td></tr></table>"
                    },
                    "metadata": {}
                }
            ],
            "execution_count": 31
        },
        {
            "cell_type": "markdown",
            "source": [
                "## Muestra todos los nombres que comienzan con \"A\""
            ],
            "metadata": {
                "language": "sql",
                "azdata_cell_guid": "f84f088e-2f51-4df6-9902-4aaf318eff0e"
            },
            "attachments": {}
        },
        {
            "cell_type": "code",
            "source": [
                "SELECT * FROM datos.empleados\r\n",
                "WHERE nombre LIKE \"A%\";"
            ],
            "metadata": {
                "language": "sql",
                "azdata_cell_guid": "e5300882-5137-4c04-9d4d-f979b717e7c2"
            },
            "outputs": [
                {
                    "output_type": "display_data",
                    "data": {
                        "text/html": "(4 row(s) affected)"
                    },
                    "metadata": {}
                },
                {
                    "output_type": "display_data",
                    "data": {
                        "text/html": "Total execution time: 00:00:01.009"
                    },
                    "metadata": {}
                },
                {
                    "output_type": "execute_result",
                    "execution_count": 38,
                    "data": {
                        "application/vnd.dataresource+json": {
                            "schema": {
                                "fields": [
                                    {
                                        "name": "ID_empleado"
                                    },
                                    {
                                        "name": "Nombre"
                                    },
                                    {
                                        "name": "Apellido"
                                    },
                                    {
                                        "name": "Telefono"
                                    },
                                    {
                                        "name": "Edad"
                                    },
                                    {
                                        "name": "Domicilio"
                                    },
                                    {
                                        "name": "ID_Gerente"
                                    }
                                ]
                            },
                            "data": [
                                {
                                    "ID_empleado": "1111222",
                                    "Nombre": "Alberto",
                                    "Apellido": "Barrientos",
                                    "Telefono": "34766613",
                                    "Edad": "26",
                                    "Domicilio": "Federal 233",
                                    "ID_Gerente": "5942572"
                                },
                                {
                                    "ID_empleado": "4245367",
                                    "Nombre": "Alexandra",
                                    "Apellido": "Zapata",
                                    "Telefono": "33467136",
                                    "Edad": "31",
                                    "Domicilio": "Ingenieros 234",
                                    "ID_Gerente": "5942572"
                                },
                                {
                                    "ID_empleado": "6931035",
                                    "Nombre": "Albeiro",
                                    "Apellido": "Villa",
                                    "Telefono": "33631010",
                                    "Edad": "39",
                                    "Domicilio": "Carniceros 233",
                                    "ID_Gerente": "5942572"
                                },
                                {
                                    "ID_empleado": "9922377",
                                    "Nombre": "Alexander",
                                    "Apellido": "Martinez",
                                    "Telefono": "36554872",
                                    "Edad": "28",
                                    "Domicilio": "Camino viejo 123",
                                    "ID_Gerente": "5942572"
                                }
                            ]
                        },
                        "text/html": "<table><tr><th>ID_empleado</th><th>Nombre</th><th>Apellido</th><th>Telefono</th><th>Edad</th><th>Domicilio</th><th>ID_Gerente</th></tr><tr><td>1111222</td><td>Alberto</td><td>Barrientos</td><td>34766613</td><td>26</td><td>Federal 233</td><td>5942572</td></tr><tr><td>4245367</td><td>Alexandra</td><td>Zapata</td><td>33467136</td><td>31</td><td>Ingenieros 234</td><td>5942572</td></tr><tr><td>6931035</td><td>Albeiro</td><td>Villa</td><td>33631010</td><td>39</td><td>Carniceros 233</td><td>5942572</td></tr><tr><td>9922377</td><td>Alexander</td><td>Martinez</td><td>36554872</td><td>28</td><td>Camino viejo 123</td><td>5942572</td></tr></table>"
                    },
                    "metadata": {}
                }
            ],
            "execution_count": 38
        },
        {
            "cell_type": "markdown",
            "source": [
                "## TODOS LOS QUE TIENEN UNA \"a\" en su nombre. O también todos los nombres que tienen caracteres antes y luego de la \"a\""
            ],
            "metadata": {
                "language": "sql",
                "azdata_cell_guid": "e1ebe132-3b35-4694-af00-53ba29bc1cad"
            },
            "attachments": {}
        },
        {
            "cell_type": "code",
            "source": [
                "SELECT * FROM datos.empleados\r\n",
                "WHERE nombre LIKE \"%a\";"
            ],
            "metadata": {
                "language": "sql",
                "azdata_cell_guid": "d788e1e7-152d-4d6a-9358-c4018eedb4ff",
                "tags": []
            },
            "outputs": [
                {
                    "output_type": "display_data",
                    "data": {
                        "text/html": "(3 row(s) affected)"
                    },
                    "metadata": {}
                },
                {
                    "output_type": "display_data",
                    "data": {
                        "text/html": "Total execution time: 00:00:01.010"
                    },
                    "metadata": {}
                },
                {
                    "output_type": "execute_result",
                    "execution_count": 43,
                    "data": {
                        "application/vnd.dataresource+json": {
                            "schema": {
                                "fields": [
                                    {
                                        "name": "ID_empleado"
                                    },
                                    {
                                        "name": "Nombre"
                                    },
                                    {
                                        "name": "Apellido"
                                    },
                                    {
                                        "name": "Telefono"
                                    },
                                    {
                                        "name": "Edad"
                                    },
                                    {
                                        "name": "Domicilio"
                                    },
                                    {
                                        "name": "ID_Gerente"
                                    }
                                ]
                            },
                            "data": [
                                {
                                    "ID_empleado": "2630867",
                                    "Nombre": "Elena",
                                    "Apellido": "Atehortua",
                                    "Telefono": "35581732",
                                    "Edad": "37",
                                    "Domicilio": "Sierra del tigre 299",
                                    "ID_Gerente": "5942572"
                                },
                                {
                                    "ID_empleado": "3833745",
                                    "Nombre": "Maria",
                                    "Apellido": "Zapata",
                                    "Telefono": "35354455",
                                    "Edad": "34",
                                    "Domicilio": "Boulevard 85",
                                    "ID_Gerente": "5942572"
                                },
                                {
                                    "ID_empleado": "4245367",
                                    "Nombre": "Alexandra",
                                    "Apellido": "Zapata",
                                    "Telefono": "33467136",
                                    "Edad": "31",
                                    "Domicilio": "Ingenieros 234",
                                    "ID_Gerente": "5942572"
                                }
                            ]
                        },
                        "text/html": "<table><tr><th>ID_empleado</th><th>Nombre</th><th>Apellido</th><th>Telefono</th><th>Edad</th><th>Domicilio</th><th>ID_Gerente</th></tr><tr><td>2630867</td><td>Elena</td><td>Atehortua</td><td>35581732</td><td>37</td><td>Sierra del tigre 299</td><td>5942572</td></tr><tr><td>3833745</td><td>Maria</td><td>Zapata</td><td>35354455</td><td>34</td><td>Boulevard 85</td><td>5942572</td></tr><tr><td>4245367</td><td>Alexandra</td><td>Zapata</td><td>33467136</td><td>31</td><td>Ingenieros 234</td><td>5942572</td></tr></table>"
                    },
                    "metadata": {}
                }
            ],
            "execution_count": 43
        },
        {
            "cell_type": "markdown",
            "source": [
                "## **REGEXP:** Trae como retorno los registros que coincidan con el patrón realizado con expresiones regulares."
            ],
            "metadata": {
                "language": "sql",
                "azdata_cell_guid": "0f09ddec-f4ad-4597-9d4f-fef7f44287bb"
            },
            "attachments": {}
        },
        {
            "cell_type": "markdown",
            "source": [
                "## Me va a traer todo lo que tenga \"ez\" en algún lado."
            ],
            "metadata": {
                "language": "sql",
                "azdata_cell_guid": "c2397892-c9e2-4ad7-b7ea-657b1c4d5ffa"
            },
            "attachments": {}
        },
        {
            "cell_type": "code",
            "source": [
                "SELECT * FROM datos.empleados\r\n",
                "WHERE apellido REGEXP \"ez\";"
            ],
            "metadata": {
                "language": "sql",
                "azdata_cell_guid": "f1b1f351-da63-4b48-8b10-61c7072fa23c"
            },
            "outputs": [
                {
                    "output_type": "display_data",
                    "data": {
                        "text/html": "(3 row(s) affected)"
                    },
                    "metadata": {}
                },
                {
                    "output_type": "display_data",
                    "data": {
                        "text/html": "Total execution time: 00:00:01.014"
                    },
                    "metadata": {}
                },
                {
                    "output_type": "execute_result",
                    "execution_count": 45,
                    "data": {
                        "application/vnd.dataresource+json": {
                            "schema": {
                                "fields": [
                                    {
                                        "name": "ID_empleado"
                                    },
                                    {
                                        "name": "Nombre"
                                    },
                                    {
                                        "name": "Apellido"
                                    },
                                    {
                                        "name": "Telefono"
                                    },
                                    {
                                        "name": "Edad"
                                    },
                                    {
                                        "name": "Domicilio"
                                    },
                                    {
                                        "name": "ID_Gerente"
                                    }
                                ]
                            },
                            "data": [
                                {
                                    "ID_empleado": "2520477",
                                    "Nombre": "Egidio",
                                    "Apellido": "Lopez",
                                    "Telefono": "33444383",
                                    "Edad": "24",
                                    "Domicilio": "Rosas 996",
                                    "ID_Gerente": "5942572"
                                },
                                {
                                    "ID_empleado": "6332756",
                                    "Nombre": "Reinaldo",
                                    "Apellido": "Gonzalez",
                                    "Telefono": "36642727",
                                    "Edad": "43",
                                    "Domicilio": "Vallarta 711",
                                    "ID_Gerente": "5942572"
                                },
                                {
                                    "ID_empleado": "9922377",
                                    "Nombre": "Alexander",
                                    "Apellido": "Martinez",
                                    "Telefono": "36554872",
                                    "Edad": "28",
                                    "Domicilio": "Camino viejo 123",
                                    "ID_Gerente": "5942572"
                                }
                            ]
                        },
                        "text/html": "<table><tr><th>ID_empleado</th><th>Nombre</th><th>Apellido</th><th>Telefono</th><th>Edad</th><th>Domicilio</th><th>ID_Gerente</th></tr><tr><td>2520477</td><td>Egidio</td><td>Lopez</td><td>33444383</td><td>24</td><td>Rosas 996</td><td>5942572</td></tr><tr><td>6332756</td><td>Reinaldo</td><td>Gonzalez</td><td>36642727</td><td>43</td><td>Vallarta 711</td><td>5942572</td></tr><tr><td>9922377</td><td>Alexander</td><td>Martinez</td><td>36554872</td><td>28</td><td>Camino viejo 123</td><td>5942572</td></tr></table>"
                    },
                    "metadata": {}
                }
            ],
            "execution_count": 45
        },
        {
            "cell_type": "code",
            "source": [
                "SELECT * FROM datos.empleados\r\n",
                "WHERE apellido REGEXP \"e\";"
            ],
            "metadata": {
                "language": "sql",
                "azdata_cell_guid": "cb5f6333-196d-4abb-a4f9-2c1ae890e093"
            },
            "outputs": [
                {
                    "output_type": "display_data",
                    "data": {
                        "text/html": "(6 row(s) affected)"
                    },
                    "metadata": {}
                },
                {
                    "output_type": "display_data",
                    "data": {
                        "text/html": "Total execution time: 00:00:01.010"
                    },
                    "metadata": {}
                },
                {
                    "output_type": "execute_result",
                    "execution_count": 46,
                    "data": {
                        "application/vnd.dataresource+json": {
                            "schema": {
                                "fields": [
                                    {
                                        "name": "ID_empleado"
                                    },
                                    {
                                        "name": "Nombre"
                                    },
                                    {
                                        "name": "Apellido"
                                    },
                                    {
                                        "name": "Telefono"
                                    },
                                    {
                                        "name": "Edad"
                                    },
                                    {
                                        "name": "Domicilio"
                                    },
                                    {
                                        "name": "ID_Gerente"
                                    }
                                ]
                            },
                            "data": [
                                {
                                    "ID_empleado": "1111222",
                                    "Nombre": "Alberto",
                                    "Apellido": "Barrientos",
                                    "Telefono": "34766613",
                                    "Edad": "26",
                                    "Domicilio": "Federal 233",
                                    "ID_Gerente": "5942572"
                                },
                                {
                                    "ID_empleado": "2520477",
                                    "Nombre": "Egidio",
                                    "Apellido": "Lopez",
                                    "Telefono": "33444383",
                                    "Edad": "24",
                                    "Domicilio": "Rosas 996",
                                    "ID_Gerente": "5942572"
                                },
                                {
                                    "ID_empleado": "2630867",
                                    "Nombre": "Elena",
                                    "Apellido": "Atehortua",
                                    "Telefono": "35581732",
                                    "Edad": "37",
                                    "Domicilio": "Sierra del tigre 299",
                                    "ID_Gerente": "5942572"
                                },
                                {
                                    "ID_empleado": "5942572",
                                    "Nombre": "Jesus",
                                    "Apellido": "Agudelo",
                                    "Telefono": "34616222",
                                    "Edad": "35",
                                    "Domicilio": "NULL",
                                    "ID_Gerente": "NULL"
                                },
                                {
                                    "ID_empleado": "6332756",
                                    "Nombre": "Reinaldo",
                                    "Apellido": "Gonzalez",
                                    "Telefono": "36642727",
                                    "Edad": "43",
                                    "Domicilio": "Vallarta 711",
                                    "ID_Gerente": "5942572"
                                },
                                {
                                    "ID_empleado": "9922377",
                                    "Nombre": "Alexander",
                                    "Apellido": "Martinez",
                                    "Telefono": "36554872",
                                    "Edad": "28",
                                    "Domicilio": "Camino viejo 123",
                                    "ID_Gerente": "5942572"
                                }
                            ]
                        },
                        "text/html": "<table><tr><th>ID_empleado</th><th>Nombre</th><th>Apellido</th><th>Telefono</th><th>Edad</th><th>Domicilio</th><th>ID_Gerente</th></tr><tr><td>1111222</td><td>Alberto</td><td>Barrientos</td><td>34766613</td><td>26</td><td>Federal 233</td><td>5942572</td></tr><tr><td>2520477</td><td>Egidio</td><td>Lopez</td><td>33444383</td><td>24</td><td>Rosas 996</td><td>5942572</td></tr><tr><td>2630867</td><td>Elena</td><td>Atehortua</td><td>35581732</td><td>37</td><td>Sierra del tigre 299</td><td>5942572</td></tr><tr><td>5942572</td><td>Jesus</td><td>Agudelo</td><td>34616222</td><td>35</td><td>NULL</td><td>NULL</td></tr><tr><td>6332756</td><td>Reinaldo</td><td>Gonzalez</td><td>36642727</td><td>43</td><td>Vallarta 711</td><td>5942572</td></tr><tr><td>9922377</td><td>Alexander</td><td>Martinez</td><td>36554872</td><td>28</td><td>Camino viejo 123</td><td>5942572</td></tr></table>"
                    },
                    "metadata": {}
                }
            ],
            "execution_count": 46
        },
        {
            "cell_type": "markdown",
            "source": [
                "## Trae lo que sea que empiece con L en el apellido.\n",
                "\n",
                "## ^ Busca la coincidencia con el principio del String."
            ],
            "metadata": {
                "language": "sql",
                "azdata_cell_guid": "9402f478-5e41-4894-81a3-d5e354201a68"
            },
            "attachments": {}
        },
        {
            "cell_type": "code",
            "source": [
                "SELECT * FROM datos.empleados\r\n",
                "WHERE apellido REGEXP \"^L\";"
            ],
            "metadata": {
                "language": "sql",
                "azdata_cell_guid": "8e4ecfe7-83dd-48b4-975d-ddf82dcc68f2"
            },
            "outputs": [
                {
                    "output_type": "display_data",
                    "data": {
                        "text/html": "(1 row(s) affected)"
                    },
                    "metadata": {}
                },
                {
                    "output_type": "display_data",
                    "data": {
                        "text/html": "Total execution time: 00:00:01.007"
                    },
                    "metadata": {}
                },
                {
                    "output_type": "execute_result",
                    "execution_count": 48,
                    "data": {
                        "application/vnd.dataresource+json": {
                            "schema": {
                                "fields": [
                                    {
                                        "name": "ID_empleado"
                                    },
                                    {
                                        "name": "Nombre"
                                    },
                                    {
                                        "name": "Apellido"
                                    },
                                    {
                                        "name": "Telefono"
                                    },
                                    {
                                        "name": "Edad"
                                    },
                                    {
                                        "name": "Domicilio"
                                    },
                                    {
                                        "name": "ID_Gerente"
                                    }
                                ]
                            },
                            "data": [
                                {
                                    "ID_empleado": "2520477",
                                    "Nombre": "Egidio",
                                    "Apellido": "Lopez",
                                    "Telefono": "33444383",
                                    "Edad": "24",
                                    "Domicilio": "Rosas 996",
                                    "ID_Gerente": "5942572"
                                }
                            ]
                        },
                        "text/html": "<table><tr><th>ID_empleado</th><th>Nombre</th><th>Apellido</th><th>Telefono</th><th>Edad</th><th>Domicilio</th><th>ID_Gerente</th></tr><tr><td>2520477</td><td>Egidio</td><td>Lopez</td><td>33444383</td><td>24</td><td>Rosas 996</td><td>5942572</td></tr></table>"
                    },
                    "metadata": {}
                }
            ],
            "execution_count": 48
        },
        {
            "cell_type": "code",
            "source": [
                "SELECT * FROM datos.empleados\r\n",
                "WHERE apellido REGEXP \"^Lo\";"
            ],
            "metadata": {
                "language": "sql",
                "azdata_cell_guid": "5f65a66d-524d-4a47-9063-a1b28491bb80"
            },
            "outputs": [
                {
                    "output_type": "display_data",
                    "data": {
                        "text/html": "(1 row(s) affected)"
                    },
                    "metadata": {}
                },
                {
                    "output_type": "display_data",
                    "data": {
                        "text/html": "Total execution time: 00:00:01.013"
                    },
                    "metadata": {}
                },
                {
                    "output_type": "execute_result",
                    "execution_count": 49,
                    "data": {
                        "application/vnd.dataresource+json": {
                            "schema": {
                                "fields": [
                                    {
                                        "name": "ID_empleado"
                                    },
                                    {
                                        "name": "Nombre"
                                    },
                                    {
                                        "name": "Apellido"
                                    },
                                    {
                                        "name": "Telefono"
                                    },
                                    {
                                        "name": "Edad"
                                    },
                                    {
                                        "name": "Domicilio"
                                    },
                                    {
                                        "name": "ID_Gerente"
                                    }
                                ]
                            },
                            "data": [
                                {
                                    "ID_empleado": "2520477",
                                    "Nombre": "Egidio",
                                    "Apellido": "Lopez",
                                    "Telefono": "33444383",
                                    "Edad": "24",
                                    "Domicilio": "Rosas 996",
                                    "ID_Gerente": "5942572"
                                }
                            ]
                        },
                        "text/html": "<table><tr><th>ID_empleado</th><th>Nombre</th><th>Apellido</th><th>Telefono</th><th>Edad</th><th>Domicilio</th><th>ID_Gerente</th></tr><tr><td>2520477</td><td>Egidio</td><td>Lopez</td><td>33444383</td><td>24</td><td>Rosas 996</td><td>5942572</td></tr></table>"
                    },
                    "metadata": {}
                }
            ],
            "execution_count": 49
        },
        {
            "cell_type": "markdown",
            "source": [
                "## Trae todo lo que termine con \"ez\" en el apellido\n",
                "\n",
                "## $ busca las coincidencias con el final del string."
            ],
            "metadata": {
                "language": "sql",
                "azdata_cell_guid": "b36e29a7-03c2-46b4-8b3b-3d322e50264d"
            },
            "attachments": {}
        },
        {
            "cell_type": "code",
            "source": [
                "SELECT * FROM datos.empleados\r\n",
                "WHERE apellido REGEXP \"ez$\";"
            ],
            "metadata": {
                "language": "sql",
                "azdata_cell_guid": "528f1a3e-9501-4782-944f-c12ff812a152"
            },
            "outputs": [
                {
                    "output_type": "display_data",
                    "data": {
                        "text/html": "(3 row(s) affected)"
                    },
                    "metadata": {}
                },
                {
                    "output_type": "display_data",
                    "data": {
                        "text/html": "Total execution time: 00:00:01.009"
                    },
                    "metadata": {}
                },
                {
                    "output_type": "execute_result",
                    "execution_count": 50,
                    "data": {
                        "application/vnd.dataresource+json": {
                            "schema": {
                                "fields": [
                                    {
                                        "name": "ID_empleado"
                                    },
                                    {
                                        "name": "Nombre"
                                    },
                                    {
                                        "name": "Apellido"
                                    },
                                    {
                                        "name": "Telefono"
                                    },
                                    {
                                        "name": "Edad"
                                    },
                                    {
                                        "name": "Domicilio"
                                    },
                                    {
                                        "name": "ID_Gerente"
                                    }
                                ]
                            },
                            "data": [
                                {
                                    "ID_empleado": "2520477",
                                    "Nombre": "Egidio",
                                    "Apellido": "Lopez",
                                    "Telefono": "33444383",
                                    "Edad": "24",
                                    "Domicilio": "Rosas 996",
                                    "ID_Gerente": "5942572"
                                },
                                {
                                    "ID_empleado": "6332756",
                                    "Nombre": "Reinaldo",
                                    "Apellido": "Gonzalez",
                                    "Telefono": "36642727",
                                    "Edad": "43",
                                    "Domicilio": "Vallarta 711",
                                    "ID_Gerente": "5942572"
                                },
                                {
                                    "ID_empleado": "9922377",
                                    "Nombre": "Alexander",
                                    "Apellido": "Martinez",
                                    "Telefono": "36554872",
                                    "Edad": "28",
                                    "Domicilio": "Camino viejo 123",
                                    "ID_Gerente": "5942572"
                                }
                            ]
                        },
                        "text/html": "<table><tr><th>ID_empleado</th><th>Nombre</th><th>Apellido</th><th>Telefono</th><th>Edad</th><th>Domicilio</th><th>ID_Gerente</th></tr><tr><td>2520477</td><td>Egidio</td><td>Lopez</td><td>33444383</td><td>24</td><td>Rosas 996</td><td>5942572</td></tr><tr><td>6332756</td><td>Reinaldo</td><td>Gonzalez</td><td>36642727</td><td>43</td><td>Vallarta 711</td><td>5942572</td></tr><tr><td>9922377</td><td>Alexander</td><td>Martinez</td><td>36554872</td><td>28</td><td>Camino viejo 123</td><td>5942572</td></tr></table>"
                    },
                    "metadata": {}
                }
            ],
            "execution_count": 50
        },
        {
            "cell_type": "markdown",
            "source": [
                "'|' hace la funcion del OR"
            ],
            "metadata": {
                "language": "sql",
                "azdata_cell_guid": "5e94ad2b-b955-4fba-9607-7803e92e2ee1"
            },
            "attachments": {}
        },
        {
            "cell_type": "code",
            "source": [
                "SELECT * FROM datos.empleados\r\n",
                "WHERE apellido REGEXP \"ez|iz\";"
            ],
            "metadata": {
                "language": "sql",
                "azdata_cell_guid": "c425e2c3-8b58-4b8c-9dca-91178fc9543a"
            },
            "outputs": [
                {
                    "output_type": "display_data",
                    "data": {
                        "text/html": "(4 row(s) affected)"
                    },
                    "metadata": {}
                },
                {
                    "output_type": "display_data",
                    "data": {
                        "text/html": "Total execution time: 00:00:01.002"
                    },
                    "metadata": {}
                },
                {
                    "output_type": "execute_result",
                    "execution_count": 52,
                    "data": {
                        "application/vnd.dataresource+json": {
                            "schema": {
                                "fields": [
                                    {
                                        "name": "ID_empleado"
                                    },
                                    {
                                        "name": "Nombre"
                                    },
                                    {
                                        "name": "Apellido"
                                    },
                                    {
                                        "name": "Telefono"
                                    },
                                    {
                                        "name": "Edad"
                                    },
                                    {
                                        "name": "Domicilio"
                                    },
                                    {
                                        "name": "ID_Gerente"
                                    }
                                ]
                            },
                            "data": [
                                {
                                    "ID_empleado": "2520477",
                                    "Nombre": "Egidio",
                                    "Apellido": "Lopez",
                                    "Telefono": "33444383",
                                    "Edad": "24",
                                    "Domicilio": "Rosas 996",
                                    "ID_Gerente": "5942572"
                                },
                                {
                                    "ID_empleado": "6332756",
                                    "Nombre": "Reinaldo",
                                    "Apellido": "Gonzalez",
                                    "Telefono": "36642727",
                                    "Edad": "43",
                                    "Domicilio": "Vallarta 711",
                                    "ID_Gerente": "5942572"
                                },
                                {
                                    "ID_empleado": "9611338",
                                    "Nombre": "Haygnes",
                                    "Apellido": "Ortiz",
                                    "Telefono": "35400189",
                                    "Edad": "27",
                                    "Domicilio": "General Diaz 343",
                                    "ID_Gerente": "5942572"
                                },
                                {
                                    "ID_empleado": "9922377",
                                    "Nombre": "Alexander",
                                    "Apellido": "Martinez",
                                    "Telefono": "36554872",
                                    "Edad": "28",
                                    "Domicilio": "Camino viejo 123",
                                    "ID_Gerente": "5942572"
                                }
                            ]
                        },
                        "text/html": "<table><tr><th>ID_empleado</th><th>Nombre</th><th>Apellido</th><th>Telefono</th><th>Edad</th><th>Domicilio</th><th>ID_Gerente</th></tr><tr><td>2520477</td><td>Egidio</td><td>Lopez</td><td>33444383</td><td>24</td><td>Rosas 996</td><td>5942572</td></tr><tr><td>6332756</td><td>Reinaldo</td><td>Gonzalez</td><td>36642727</td><td>43</td><td>Vallarta 711</td><td>5942572</td></tr><tr><td>9611338</td><td>Haygnes</td><td>Ortiz</td><td>35400189</td><td>27</td><td>General Diaz 343</td><td>5942572</td></tr><tr><td>9922377</td><td>Alexander</td><td>Martinez</td><td>36554872</td><td>28</td><td>Camino viejo 123</td><td>5942572</td></tr></table>"
                    },
                    "metadata": {}
                }
            ],
            "execution_count": 52
        },
        {
            "cell_type": "code",
            "source": [
                "SELECT * FROM datos.empleados\r\n",
                "WHERE apellido REGEXP \"ez|iz|b\";"
            ],
            "metadata": {
                "language": "sql",
                "azdata_cell_guid": "9355e66b-2875-4d69-a57b-4ed239190fba"
            },
            "outputs": [
                {
                    "output_type": "display_data",
                    "data": {
                        "text/html": "(5 row(s) affected)"
                    },
                    "metadata": {}
                },
                {
                    "output_type": "display_data",
                    "data": {
                        "text/html": "Total execution time: 00:00:01.019"
                    },
                    "metadata": {}
                },
                {
                    "output_type": "execute_result",
                    "execution_count": 53,
                    "data": {
                        "application/vnd.dataresource+json": {
                            "schema": {
                                "fields": [
                                    {
                                        "name": "ID_empleado"
                                    },
                                    {
                                        "name": "Nombre"
                                    },
                                    {
                                        "name": "Apellido"
                                    },
                                    {
                                        "name": "Telefono"
                                    },
                                    {
                                        "name": "Edad"
                                    },
                                    {
                                        "name": "Domicilio"
                                    },
                                    {
                                        "name": "ID_Gerente"
                                    }
                                ]
                            },
                            "data": [
                                {
                                    "ID_empleado": "1111222",
                                    "Nombre": "Alberto",
                                    "Apellido": "Barrientos",
                                    "Telefono": "34766613",
                                    "Edad": "26",
                                    "Domicilio": "Federal 233",
                                    "ID_Gerente": "5942572"
                                },
                                {
                                    "ID_empleado": "2520477",
                                    "Nombre": "Egidio",
                                    "Apellido": "Lopez",
                                    "Telefono": "33444383",
                                    "Edad": "24",
                                    "Domicilio": "Rosas 996",
                                    "ID_Gerente": "5942572"
                                },
                                {
                                    "ID_empleado": "6332756",
                                    "Nombre": "Reinaldo",
                                    "Apellido": "Gonzalez",
                                    "Telefono": "36642727",
                                    "Edad": "43",
                                    "Domicilio": "Vallarta 711",
                                    "ID_Gerente": "5942572"
                                },
                                {
                                    "ID_empleado": "9611338",
                                    "Nombre": "Haygnes",
                                    "Apellido": "Ortiz",
                                    "Telefono": "35400189",
                                    "Edad": "27",
                                    "Domicilio": "General Diaz 343",
                                    "ID_Gerente": "5942572"
                                },
                                {
                                    "ID_empleado": "9922377",
                                    "Nombre": "Alexander",
                                    "Apellido": "Martinez",
                                    "Telefono": "36554872",
                                    "Edad": "28",
                                    "Domicilio": "Camino viejo 123",
                                    "ID_Gerente": "5942572"
                                }
                            ]
                        },
                        "text/html": "<table><tr><th>ID_empleado</th><th>Nombre</th><th>Apellido</th><th>Telefono</th><th>Edad</th><th>Domicilio</th><th>ID_Gerente</th></tr><tr><td>1111222</td><td>Alberto</td><td>Barrientos</td><td>34766613</td><td>26</td><td>Federal 233</td><td>5942572</td></tr><tr><td>2520477</td><td>Egidio</td><td>Lopez</td><td>33444383</td><td>24</td><td>Rosas 996</td><td>5942572</td></tr><tr><td>6332756</td><td>Reinaldo</td><td>Gonzalez</td><td>36642727</td><td>43</td><td>Vallarta 711</td><td>5942572</td></tr><tr><td>9611338</td><td>Haygnes</td><td>Ortiz</td><td>35400189</td><td>27</td><td>General Diaz 343</td><td>5942572</td></tr><tr><td>9922377</td><td>Alexander</td><td>Martinez</td><td>36554872</td><td>28</td><td>Camino viejo 123</td><td>5942572</td></tr></table>"
                    },
                    "metadata": {}
                }
            ],
            "execution_count": 53
        },
        {
            "cell_type": "code",
            "source": [
                "SELECT * FROM datos.empleados\r\n",
                "WHERE apellido REGEXP \"ez|iz|b$\";"
            ],
            "metadata": {
                "language": "sql",
                "azdata_cell_guid": "98ae8856-90de-42ab-9cef-16fda30e6e51"
            },
            "outputs": [
                {
                    "output_type": "display_data",
                    "data": {
                        "text/html": "(4 row(s) affected)"
                    },
                    "metadata": {}
                },
                {
                    "output_type": "display_data",
                    "data": {
                        "text/html": "Total execution time: 00:00:01.011"
                    },
                    "metadata": {}
                },
                {
                    "output_type": "execute_result",
                    "execution_count": 54,
                    "data": {
                        "application/vnd.dataresource+json": {
                            "schema": {
                                "fields": [
                                    {
                                        "name": "ID_empleado"
                                    },
                                    {
                                        "name": "Nombre"
                                    },
                                    {
                                        "name": "Apellido"
                                    },
                                    {
                                        "name": "Telefono"
                                    },
                                    {
                                        "name": "Edad"
                                    },
                                    {
                                        "name": "Domicilio"
                                    },
                                    {
                                        "name": "ID_Gerente"
                                    }
                                ]
                            },
                            "data": [
                                {
                                    "ID_empleado": "2520477",
                                    "Nombre": "Egidio",
                                    "Apellido": "Lopez",
                                    "Telefono": "33444383",
                                    "Edad": "24",
                                    "Domicilio": "Rosas 996",
                                    "ID_Gerente": "5942572"
                                },
                                {
                                    "ID_empleado": "6332756",
                                    "Nombre": "Reinaldo",
                                    "Apellido": "Gonzalez",
                                    "Telefono": "36642727",
                                    "Edad": "43",
                                    "Domicilio": "Vallarta 711",
                                    "ID_Gerente": "5942572"
                                },
                                {
                                    "ID_empleado": "9611338",
                                    "Nombre": "Haygnes",
                                    "Apellido": "Ortiz",
                                    "Telefono": "35400189",
                                    "Edad": "27",
                                    "Domicilio": "General Diaz 343",
                                    "ID_Gerente": "5942572"
                                },
                                {
                                    "ID_empleado": "9922377",
                                    "Nombre": "Alexander",
                                    "Apellido": "Martinez",
                                    "Telefono": "36554872",
                                    "Edad": "28",
                                    "Domicilio": "Camino viejo 123",
                                    "ID_Gerente": "5942572"
                                }
                            ]
                        },
                        "text/html": "<table><tr><th>ID_empleado</th><th>Nombre</th><th>Apellido</th><th>Telefono</th><th>Edad</th><th>Domicilio</th><th>ID_Gerente</th></tr><tr><td>2520477</td><td>Egidio</td><td>Lopez</td><td>33444383</td><td>24</td><td>Rosas 996</td><td>5942572</td></tr><tr><td>6332756</td><td>Reinaldo</td><td>Gonzalez</td><td>36642727</td><td>43</td><td>Vallarta 711</td><td>5942572</td></tr><tr><td>9611338</td><td>Haygnes</td><td>Ortiz</td><td>35400189</td><td>27</td><td>General Diaz 343</td><td>5942572</td></tr><tr><td>9922377</td><td>Alexander</td><td>Martinez</td><td>36554872</td><td>28</td><td>Camino viejo 123</td><td>5942572</td></tr></table>"
                    },
                    "metadata": {}
                }
            ],
            "execution_count": 54
        },
        {
            "cell_type": "markdown",
            "source": [
                "## **ORDER BY:** Utilizada para ordenar los registros."
            ],
            "metadata": {
                "language": "sql",
                "azdata_cell_guid": "68c4839d-9553-4fb8-b9e1-8a961ff5ecf9"
            },
            "attachments": {}
        },
        {
            "cell_type": "code",
            "source": [
                "SELECT * FROM datos.empleados\r\n",
                "ORDER BY nombre;"
            ],
            "metadata": {
                "language": "sql",
                "azdata_cell_guid": "0e305d8a-ca04-4014-a758-8da149899f69"
            },
            "outputs": [
                {
                    "output_type": "display_data",
                    "data": {
                        "text/html": "(11 row(s) affected)"
                    },
                    "metadata": {}
                },
                {
                    "output_type": "display_data",
                    "data": {
                        "text/html": "Total execution time: 00:00:01.020"
                    },
                    "metadata": {}
                },
                {
                    "output_type": "execute_result",
                    "execution_count": 56,
                    "data": {
                        "application/vnd.dataresource+json": {
                            "schema": {
                                "fields": [
                                    {
                                        "name": "ID_empleado"
                                    },
                                    {
                                        "name": "Nombre"
                                    },
                                    {
                                        "name": "Apellido"
                                    },
                                    {
                                        "name": "Telefono"
                                    },
                                    {
                                        "name": "Edad"
                                    },
                                    {
                                        "name": "Domicilio"
                                    },
                                    {
                                        "name": "ID_Gerente"
                                    }
                                ]
                            },
                            "data": [
                                {
                                    "ID_empleado": "6931035",
                                    "Nombre": "Albeiro",
                                    "Apellido": "Villa",
                                    "Telefono": "33631010",
                                    "Edad": "39",
                                    "Domicilio": "Carniceros 233",
                                    "ID_Gerente": "5942572"
                                },
                                {
                                    "ID_empleado": "1111222",
                                    "Nombre": "Alberto",
                                    "Apellido": "Barrientos",
                                    "Telefono": "34766613",
                                    "Edad": "26",
                                    "Domicilio": "Federal 233",
                                    "ID_Gerente": "5942572"
                                },
                                {
                                    "ID_empleado": "9922377",
                                    "Nombre": "Alexander",
                                    "Apellido": "Martinez",
                                    "Telefono": "36554872",
                                    "Edad": "28",
                                    "Domicilio": "Camino viejo 123",
                                    "ID_Gerente": "5942572"
                                },
                                {
                                    "ID_empleado": "4245367",
                                    "Nombre": "Alexandra",
                                    "Apellido": "Zapata",
                                    "Telefono": "33467136",
                                    "Edad": "31",
                                    "Domicilio": "Ingenieros 234",
                                    "ID_Gerente": "5942572"
                                },
                                {
                                    "ID_empleado": "2520477",
                                    "Nombre": "Egidio",
                                    "Apellido": "Lopez",
                                    "Telefono": "33444383",
                                    "Edad": "24",
                                    "Domicilio": "Rosas 996",
                                    "ID_Gerente": "5942572"
                                },
                                {
                                    "ID_empleado": "2630867",
                                    "Nombre": "Elena",
                                    "Apellido": "Atehortua",
                                    "Telefono": "35581732",
                                    "Edad": "37",
                                    "Domicilio": "Sierra del tigre 299",
                                    "ID_Gerente": "5942572"
                                },
                                {
                                    "ID_empleado": "9611338",
                                    "Nombre": "Haygnes",
                                    "Apellido": "Ortiz",
                                    "Telefono": "35400189",
                                    "Edad": "27",
                                    "Domicilio": "General Diaz 343",
                                    "ID_Gerente": "5942572"
                                },
                                {
                                    "ID_empleado": "2310967",
                                    "Nombre": "Jairo",
                                    "Apellido": "Mira",
                                    "Telefono": "36403810",
                                    "Edad": "29",
                                    "Domicilio": "Calle 25 interior 2",
                                    "ID_Gerente": "5942572"
                                },
                                {
                                    "ID_empleado": "5942572",
                                    "Nombre": "Jesus",
                                    "Apellido": "Agudelo",
                                    "Telefono": "34616222",
                                    "Edad": "35",
                                    "Domicilio": "NULL",
                                    "ID_Gerente": "NULL"
                                },
                                {
                                    "ID_empleado": "3833745",
                                    "Nombre": "Maria",
                                    "Apellido": "Zapata",
                                    "Telefono": "35354455",
                                    "Edad": "34",
                                    "Domicilio": "Boulevard 85",
                                    "ID_Gerente": "5942572"
                                },
                                {
                                    "ID_empleado": "6332756",
                                    "Nombre": "Reinaldo",
                                    "Apellido": "Gonzalez",
                                    "Telefono": "36642727",
                                    "Edad": "43",
                                    "Domicilio": "Vallarta 711",
                                    "ID_Gerente": "5942572"
                                }
                            ]
                        },
                        "text/html": "<table><tr><th>ID_empleado</th><th>Nombre</th><th>Apellido</th><th>Telefono</th><th>Edad</th><th>Domicilio</th><th>ID_Gerente</th></tr><tr><td>6931035</td><td>Albeiro</td><td>Villa</td><td>33631010</td><td>39</td><td>Carniceros 233</td><td>5942572</td></tr><tr><td>1111222</td><td>Alberto</td><td>Barrientos</td><td>34766613</td><td>26</td><td>Federal 233</td><td>5942572</td></tr><tr><td>9922377</td><td>Alexander</td><td>Martinez</td><td>36554872</td><td>28</td><td>Camino viejo 123</td><td>5942572</td></tr><tr><td>4245367</td><td>Alexandra</td><td>Zapata</td><td>33467136</td><td>31</td><td>Ingenieros 234</td><td>5942572</td></tr><tr><td>2520477</td><td>Egidio</td><td>Lopez</td><td>33444383</td><td>24</td><td>Rosas 996</td><td>5942572</td></tr><tr><td>2630867</td><td>Elena</td><td>Atehortua</td><td>35581732</td><td>37</td><td>Sierra del tigre 299</td><td>5942572</td></tr><tr><td>9611338</td><td>Haygnes</td><td>Ortiz</td><td>35400189</td><td>27</td><td>General Diaz 343</td><td>5942572</td></tr><tr><td>2310967</td><td>Jairo</td><td>Mira</td><td>36403810</td><td>29</td><td>Calle 25 interior 2</td><td>5942572</td></tr><tr><td>5942572</td><td>Jesus</td><td>Agudelo</td><td>34616222</td><td>35</td><td>NULL</td><td>NULL</td></tr><tr><td>3833745</td><td>Maria</td><td>Zapata</td><td>35354455</td><td>34</td><td>Boulevard 85</td><td>5942572</td></tr><tr><td>6332756</td><td>Reinaldo</td><td>Gonzalez</td><td>36642727</td><td>43</td><td>Vallarta 711</td><td>5942572</td></tr></table>"
                    },
                    "metadata": {}
                }
            ],
            "execution_count": 56
        },
        {
            "cell_type": "code",
            "source": [
                "SELECT * FROM datos.empleados\r\n",
                "ORDER BY nombre DESC;"
            ],
            "metadata": {
                "language": "sql",
                "azdata_cell_guid": "8dc8ee6a-9c1e-4a81-93e6-d0cef596324c"
            },
            "outputs": [
                {
                    "output_type": "display_data",
                    "data": {
                        "text/html": "(11 row(s) affected)"
                    },
                    "metadata": {}
                },
                {
                    "output_type": "display_data",
                    "data": {
                        "text/html": "Total execution time: 00:00:01.009"
                    },
                    "metadata": {}
                },
                {
                    "output_type": "execute_result",
                    "execution_count": 57,
                    "data": {
                        "application/vnd.dataresource+json": {
                            "schema": {
                                "fields": [
                                    {
                                        "name": "ID_empleado"
                                    },
                                    {
                                        "name": "Nombre"
                                    },
                                    {
                                        "name": "Apellido"
                                    },
                                    {
                                        "name": "Telefono"
                                    },
                                    {
                                        "name": "Edad"
                                    },
                                    {
                                        "name": "Domicilio"
                                    },
                                    {
                                        "name": "ID_Gerente"
                                    }
                                ]
                            },
                            "data": [
                                {
                                    "ID_empleado": "6332756",
                                    "Nombre": "Reinaldo",
                                    "Apellido": "Gonzalez",
                                    "Telefono": "36642727",
                                    "Edad": "43",
                                    "Domicilio": "Vallarta 711",
                                    "ID_Gerente": "5942572"
                                },
                                {
                                    "ID_empleado": "3833745",
                                    "Nombre": "Maria",
                                    "Apellido": "Zapata",
                                    "Telefono": "35354455",
                                    "Edad": "34",
                                    "Domicilio": "Boulevard 85",
                                    "ID_Gerente": "5942572"
                                },
                                {
                                    "ID_empleado": "5942572",
                                    "Nombre": "Jesus",
                                    "Apellido": "Agudelo",
                                    "Telefono": "34616222",
                                    "Edad": "35",
                                    "Domicilio": "NULL",
                                    "ID_Gerente": "NULL"
                                },
                                {
                                    "ID_empleado": "2310967",
                                    "Nombre": "Jairo",
                                    "Apellido": "Mira",
                                    "Telefono": "36403810",
                                    "Edad": "29",
                                    "Domicilio": "Calle 25 interior 2",
                                    "ID_Gerente": "5942572"
                                },
                                {
                                    "ID_empleado": "9611338",
                                    "Nombre": "Haygnes",
                                    "Apellido": "Ortiz",
                                    "Telefono": "35400189",
                                    "Edad": "27",
                                    "Domicilio": "General Diaz 343",
                                    "ID_Gerente": "5942572"
                                },
                                {
                                    "ID_empleado": "2630867",
                                    "Nombre": "Elena",
                                    "Apellido": "Atehortua",
                                    "Telefono": "35581732",
                                    "Edad": "37",
                                    "Domicilio": "Sierra del tigre 299",
                                    "ID_Gerente": "5942572"
                                },
                                {
                                    "ID_empleado": "2520477",
                                    "Nombre": "Egidio",
                                    "Apellido": "Lopez",
                                    "Telefono": "33444383",
                                    "Edad": "24",
                                    "Domicilio": "Rosas 996",
                                    "ID_Gerente": "5942572"
                                },
                                {
                                    "ID_empleado": "4245367",
                                    "Nombre": "Alexandra",
                                    "Apellido": "Zapata",
                                    "Telefono": "33467136",
                                    "Edad": "31",
                                    "Domicilio": "Ingenieros 234",
                                    "ID_Gerente": "5942572"
                                },
                                {
                                    "ID_empleado": "9922377",
                                    "Nombre": "Alexander",
                                    "Apellido": "Martinez",
                                    "Telefono": "36554872",
                                    "Edad": "28",
                                    "Domicilio": "Camino viejo 123",
                                    "ID_Gerente": "5942572"
                                },
                                {
                                    "ID_empleado": "1111222",
                                    "Nombre": "Alberto",
                                    "Apellido": "Barrientos",
                                    "Telefono": "34766613",
                                    "Edad": "26",
                                    "Domicilio": "Federal 233",
                                    "ID_Gerente": "5942572"
                                },
                                {
                                    "ID_empleado": "6931035",
                                    "Nombre": "Albeiro",
                                    "Apellido": "Villa",
                                    "Telefono": "33631010",
                                    "Edad": "39",
                                    "Domicilio": "Carniceros 233",
                                    "ID_Gerente": "5942572"
                                }
                            ]
                        },
                        "text/html": "<table><tr><th>ID_empleado</th><th>Nombre</th><th>Apellido</th><th>Telefono</th><th>Edad</th><th>Domicilio</th><th>ID_Gerente</th></tr><tr><td>6332756</td><td>Reinaldo</td><td>Gonzalez</td><td>36642727</td><td>43</td><td>Vallarta 711</td><td>5942572</td></tr><tr><td>3833745</td><td>Maria</td><td>Zapata</td><td>35354455</td><td>34</td><td>Boulevard 85</td><td>5942572</td></tr><tr><td>5942572</td><td>Jesus</td><td>Agudelo</td><td>34616222</td><td>35</td><td>NULL</td><td>NULL</td></tr><tr><td>2310967</td><td>Jairo</td><td>Mira</td><td>36403810</td><td>29</td><td>Calle 25 interior 2</td><td>5942572</td></tr><tr><td>9611338</td><td>Haygnes</td><td>Ortiz</td><td>35400189</td><td>27</td><td>General Diaz 343</td><td>5942572</td></tr><tr><td>2630867</td><td>Elena</td><td>Atehortua</td><td>35581732</td><td>37</td><td>Sierra del tigre 299</td><td>5942572</td></tr><tr><td>2520477</td><td>Egidio</td><td>Lopez</td><td>33444383</td><td>24</td><td>Rosas 996</td><td>5942572</td></tr><tr><td>4245367</td><td>Alexandra</td><td>Zapata</td><td>33467136</td><td>31</td><td>Ingenieros 234</td><td>5942572</td></tr><tr><td>9922377</td><td>Alexander</td><td>Martinez</td><td>36554872</td><td>28</td><td>Camino viejo 123</td><td>5942572</td></tr><tr><td>1111222</td><td>Alberto</td><td>Barrientos</td><td>34766613</td><td>26</td><td>Federal 233</td><td>5942572</td></tr><tr><td>6931035</td><td>Albeiro</td><td>Villa</td><td>33631010</td><td>39</td><td>Carniceros 233</td><td>5942572</td></tr></table>"
                    },
                    "metadata": {}
                }
            ],
            "execution_count": 57
        },
        {
            "cell_type": "code",
            "source": [
                "SELECT * FROM datos.empleados\r\n",
                "ORDER BY apellido DESC;"
            ],
            "metadata": {
                "language": "sql",
                "azdata_cell_guid": "aa3ccbc2-03b9-4140-a6e5-1b36c1c49bea"
            },
            "outputs": [
                {
                    "output_type": "display_data",
                    "data": {
                        "text/html": "(11 row(s) affected)"
                    },
                    "metadata": {}
                },
                {
                    "output_type": "display_data",
                    "data": {
                        "text/html": "Total execution time: 00:00:01.003"
                    },
                    "metadata": {}
                },
                {
                    "output_type": "execute_result",
                    "execution_count": 58,
                    "data": {
                        "application/vnd.dataresource+json": {
                            "schema": {
                                "fields": [
                                    {
                                        "name": "ID_empleado"
                                    },
                                    {
                                        "name": "Nombre"
                                    },
                                    {
                                        "name": "Apellido"
                                    },
                                    {
                                        "name": "Telefono"
                                    },
                                    {
                                        "name": "Edad"
                                    },
                                    {
                                        "name": "Domicilio"
                                    },
                                    {
                                        "name": "ID_Gerente"
                                    }
                                ]
                            },
                            "data": [
                                {
                                    "ID_empleado": "3833745",
                                    "Nombre": "Maria",
                                    "Apellido": "Zapata",
                                    "Telefono": "35354455",
                                    "Edad": "34",
                                    "Domicilio": "Boulevard 85",
                                    "ID_Gerente": "5942572"
                                },
                                {
                                    "ID_empleado": "4245367",
                                    "Nombre": "Alexandra",
                                    "Apellido": "Zapata",
                                    "Telefono": "33467136",
                                    "Edad": "31",
                                    "Domicilio": "Ingenieros 234",
                                    "ID_Gerente": "5942572"
                                },
                                {
                                    "ID_empleado": "6931035",
                                    "Nombre": "Albeiro",
                                    "Apellido": "Villa",
                                    "Telefono": "33631010",
                                    "Edad": "39",
                                    "Domicilio": "Carniceros 233",
                                    "ID_Gerente": "5942572"
                                },
                                {
                                    "ID_empleado": "9611338",
                                    "Nombre": "Haygnes",
                                    "Apellido": "Ortiz",
                                    "Telefono": "35400189",
                                    "Edad": "27",
                                    "Domicilio": "General Diaz 343",
                                    "ID_Gerente": "5942572"
                                },
                                {
                                    "ID_empleado": "2310967",
                                    "Nombre": "Jairo",
                                    "Apellido": "Mira",
                                    "Telefono": "36403810",
                                    "Edad": "29",
                                    "Domicilio": "Calle 25 interior 2",
                                    "ID_Gerente": "5942572"
                                },
                                {
                                    "ID_empleado": "9922377",
                                    "Nombre": "Alexander",
                                    "Apellido": "Martinez",
                                    "Telefono": "36554872",
                                    "Edad": "28",
                                    "Domicilio": "Camino viejo 123",
                                    "ID_Gerente": "5942572"
                                },
                                {
                                    "ID_empleado": "2520477",
                                    "Nombre": "Egidio",
                                    "Apellido": "Lopez",
                                    "Telefono": "33444383",
                                    "Edad": "24",
                                    "Domicilio": "Rosas 996",
                                    "ID_Gerente": "5942572"
                                },
                                {
                                    "ID_empleado": "6332756",
                                    "Nombre": "Reinaldo",
                                    "Apellido": "Gonzalez",
                                    "Telefono": "36642727",
                                    "Edad": "43",
                                    "Domicilio": "Vallarta 711",
                                    "ID_Gerente": "5942572"
                                },
                                {
                                    "ID_empleado": "1111222",
                                    "Nombre": "Alberto",
                                    "Apellido": "Barrientos",
                                    "Telefono": "34766613",
                                    "Edad": "26",
                                    "Domicilio": "Federal 233",
                                    "ID_Gerente": "5942572"
                                },
                                {
                                    "ID_empleado": "2630867",
                                    "Nombre": "Elena",
                                    "Apellido": "Atehortua",
                                    "Telefono": "35581732",
                                    "Edad": "37",
                                    "Domicilio": "Sierra del tigre 299",
                                    "ID_Gerente": "5942572"
                                },
                                {
                                    "ID_empleado": "5942572",
                                    "Nombre": "Jesus",
                                    "Apellido": "Agudelo",
                                    "Telefono": "34616222",
                                    "Edad": "35",
                                    "Domicilio": "NULL",
                                    "ID_Gerente": "NULL"
                                }
                            ]
                        },
                        "text/html": "<table><tr><th>ID_empleado</th><th>Nombre</th><th>Apellido</th><th>Telefono</th><th>Edad</th><th>Domicilio</th><th>ID_Gerente</th></tr><tr><td>3833745</td><td>Maria</td><td>Zapata</td><td>35354455</td><td>34</td><td>Boulevard 85</td><td>5942572</td></tr><tr><td>4245367</td><td>Alexandra</td><td>Zapata</td><td>33467136</td><td>31</td><td>Ingenieros 234</td><td>5942572</td></tr><tr><td>6931035</td><td>Albeiro</td><td>Villa</td><td>33631010</td><td>39</td><td>Carniceros 233</td><td>5942572</td></tr><tr><td>9611338</td><td>Haygnes</td><td>Ortiz</td><td>35400189</td><td>27</td><td>General Diaz 343</td><td>5942572</td></tr><tr><td>2310967</td><td>Jairo</td><td>Mira</td><td>36403810</td><td>29</td><td>Calle 25 interior 2</td><td>5942572</td></tr><tr><td>9922377</td><td>Alexander</td><td>Martinez</td><td>36554872</td><td>28</td><td>Camino viejo 123</td><td>5942572</td></tr><tr><td>2520477</td><td>Egidio</td><td>Lopez</td><td>33444383</td><td>24</td><td>Rosas 996</td><td>5942572</td></tr><tr><td>6332756</td><td>Reinaldo</td><td>Gonzalez</td><td>36642727</td><td>43</td><td>Vallarta 711</td><td>5942572</td></tr><tr><td>1111222</td><td>Alberto</td><td>Barrientos</td><td>34766613</td><td>26</td><td>Federal 233</td><td>5942572</td></tr><tr><td>2630867</td><td>Elena</td><td>Atehortua</td><td>35581732</td><td>37</td><td>Sierra del tigre 299</td><td>5942572</td></tr><tr><td>5942572</td><td>Jesus</td><td>Agudelo</td><td>34616222</td><td>35</td><td>NULL</td><td>NULL</td></tr></table>"
                    },
                    "metadata": {}
                }
            ],
            "execution_count": 58
        },
        {
            "cell_type": "code",
            "source": [
                "SELECT * FROM datos.empleados\r\n",
                "ORDER BY telefono DESC;"
            ],
            "metadata": {
                "language": "sql",
                "azdata_cell_guid": "0cab7e21-e1d3-4de0-bef3-b1b36f6761b7"
            },
            "outputs": [
                {
                    "output_type": "display_data",
                    "data": {
                        "text/html": "(11 row(s) affected)"
                    },
                    "metadata": {}
                },
                {
                    "output_type": "display_data",
                    "data": {
                        "text/html": "Total execution time: 00:00:01.005"
                    },
                    "metadata": {}
                },
                {
                    "output_type": "execute_result",
                    "execution_count": 59,
                    "data": {
                        "application/vnd.dataresource+json": {
                            "schema": {
                                "fields": [
                                    {
                                        "name": "ID_empleado"
                                    },
                                    {
                                        "name": "Nombre"
                                    },
                                    {
                                        "name": "Apellido"
                                    },
                                    {
                                        "name": "Telefono"
                                    },
                                    {
                                        "name": "Edad"
                                    },
                                    {
                                        "name": "Domicilio"
                                    },
                                    {
                                        "name": "ID_Gerente"
                                    }
                                ]
                            },
                            "data": [
                                {
                                    "ID_empleado": "6332756",
                                    "Nombre": "Reinaldo",
                                    "Apellido": "Gonzalez",
                                    "Telefono": "36642727",
                                    "Edad": "43",
                                    "Domicilio": "Vallarta 711",
                                    "ID_Gerente": "5942572"
                                },
                                {
                                    "ID_empleado": "9922377",
                                    "Nombre": "Alexander",
                                    "Apellido": "Martinez",
                                    "Telefono": "36554872",
                                    "Edad": "28",
                                    "Domicilio": "Camino viejo 123",
                                    "ID_Gerente": "5942572"
                                },
                                {
                                    "ID_empleado": "2310967",
                                    "Nombre": "Jairo",
                                    "Apellido": "Mira",
                                    "Telefono": "36403810",
                                    "Edad": "29",
                                    "Domicilio": "Calle 25 interior 2",
                                    "ID_Gerente": "5942572"
                                },
                                {
                                    "ID_empleado": "2630867",
                                    "Nombre": "Elena",
                                    "Apellido": "Atehortua",
                                    "Telefono": "35581732",
                                    "Edad": "37",
                                    "Domicilio": "Sierra del tigre 299",
                                    "ID_Gerente": "5942572"
                                },
                                {
                                    "ID_empleado": "9611338",
                                    "Nombre": "Haygnes",
                                    "Apellido": "Ortiz",
                                    "Telefono": "35400189",
                                    "Edad": "27",
                                    "Domicilio": "General Diaz 343",
                                    "ID_Gerente": "5942572"
                                },
                                {
                                    "ID_empleado": "3833745",
                                    "Nombre": "Maria",
                                    "Apellido": "Zapata",
                                    "Telefono": "35354455",
                                    "Edad": "34",
                                    "Domicilio": "Boulevard 85",
                                    "ID_Gerente": "5942572"
                                },
                                {
                                    "ID_empleado": "1111222",
                                    "Nombre": "Alberto",
                                    "Apellido": "Barrientos",
                                    "Telefono": "34766613",
                                    "Edad": "26",
                                    "Domicilio": "Federal 233",
                                    "ID_Gerente": "5942572"
                                },
                                {
                                    "ID_empleado": "5942572",
                                    "Nombre": "Jesus",
                                    "Apellido": "Agudelo",
                                    "Telefono": "34616222",
                                    "Edad": "35",
                                    "Domicilio": "NULL",
                                    "ID_Gerente": "NULL"
                                },
                                {
                                    "ID_empleado": "6931035",
                                    "Nombre": "Albeiro",
                                    "Apellido": "Villa",
                                    "Telefono": "33631010",
                                    "Edad": "39",
                                    "Domicilio": "Carniceros 233",
                                    "ID_Gerente": "5942572"
                                },
                                {
                                    "ID_empleado": "4245367",
                                    "Nombre": "Alexandra",
                                    "Apellido": "Zapata",
                                    "Telefono": "33467136",
                                    "Edad": "31",
                                    "Domicilio": "Ingenieros 234",
                                    "ID_Gerente": "5942572"
                                },
                                {
                                    "ID_empleado": "2520477",
                                    "Nombre": "Egidio",
                                    "Apellido": "Lopez",
                                    "Telefono": "33444383",
                                    "Edad": "24",
                                    "Domicilio": "Rosas 996",
                                    "ID_Gerente": "5942572"
                                }
                            ]
                        },
                        "text/html": "<table><tr><th>ID_empleado</th><th>Nombre</th><th>Apellido</th><th>Telefono</th><th>Edad</th><th>Domicilio</th><th>ID_Gerente</th></tr><tr><td>6332756</td><td>Reinaldo</td><td>Gonzalez</td><td>36642727</td><td>43</td><td>Vallarta 711</td><td>5942572</td></tr><tr><td>9922377</td><td>Alexander</td><td>Martinez</td><td>36554872</td><td>28</td><td>Camino viejo 123</td><td>5942572</td></tr><tr><td>2310967</td><td>Jairo</td><td>Mira</td><td>36403810</td><td>29</td><td>Calle 25 interior 2</td><td>5942572</td></tr><tr><td>2630867</td><td>Elena</td><td>Atehortua</td><td>35581732</td><td>37</td><td>Sierra del tigre 299</td><td>5942572</td></tr><tr><td>9611338</td><td>Haygnes</td><td>Ortiz</td><td>35400189</td><td>27</td><td>General Diaz 343</td><td>5942572</td></tr><tr><td>3833745</td><td>Maria</td><td>Zapata</td><td>35354455</td><td>34</td><td>Boulevard 85</td><td>5942572</td></tr><tr><td>1111222</td><td>Alberto</td><td>Barrientos</td><td>34766613</td><td>26</td><td>Federal 233</td><td>5942572</td></tr><tr><td>5942572</td><td>Jesus</td><td>Agudelo</td><td>34616222</td><td>35</td><td>NULL</td><td>NULL</td></tr><tr><td>6931035</td><td>Albeiro</td><td>Villa</td><td>33631010</td><td>39</td><td>Carniceros 233</td><td>5942572</td></tr><tr><td>4245367</td><td>Alexandra</td><td>Zapata</td><td>33467136</td><td>31</td><td>Ingenieros 234</td><td>5942572</td></tr><tr><td>2520477</td><td>Egidio</td><td>Lopez</td><td>33444383</td><td>24</td><td>Rosas 996</td><td>5942572</td></tr></table>"
                    },
                    "metadata": {}
                }
            ],
            "execution_count": 59
        },
        {
            "cell_type": "code",
            "source": [
                "SELECT * FROM datos.empleados\r\n",
                "WHERE apellido like \"%ez\"\r\n",
                "ORDER BY apellido DESC;"
            ],
            "metadata": {
                "language": "sql",
                "azdata_cell_guid": "c2774633-6c81-4cb8-bb3c-5276f7695e64"
            },
            "outputs": [
                {
                    "output_type": "display_data",
                    "data": {
                        "text/html": "(3 row(s) affected)"
                    },
                    "metadata": {}
                },
                {
                    "output_type": "display_data",
                    "data": {
                        "text/html": "Total execution time: 00:00:01.009"
                    },
                    "metadata": {}
                },
                {
                    "output_type": "execute_result",
                    "execution_count": 60,
                    "data": {
                        "application/vnd.dataresource+json": {
                            "schema": {
                                "fields": [
                                    {
                                        "name": "ID_empleado"
                                    },
                                    {
                                        "name": "Nombre"
                                    },
                                    {
                                        "name": "Apellido"
                                    },
                                    {
                                        "name": "Telefono"
                                    },
                                    {
                                        "name": "Edad"
                                    },
                                    {
                                        "name": "Domicilio"
                                    },
                                    {
                                        "name": "ID_Gerente"
                                    }
                                ]
                            },
                            "data": [
                                {
                                    "ID_empleado": "9922377",
                                    "Nombre": "Alexander",
                                    "Apellido": "Martinez",
                                    "Telefono": "36554872",
                                    "Edad": "28",
                                    "Domicilio": "Camino viejo 123",
                                    "ID_Gerente": "5942572"
                                },
                                {
                                    "ID_empleado": "2520477",
                                    "Nombre": "Egidio",
                                    "Apellido": "Lopez",
                                    "Telefono": "33444383",
                                    "Edad": "24",
                                    "Domicilio": "Rosas 996",
                                    "ID_Gerente": "5942572"
                                },
                                {
                                    "ID_empleado": "6332756",
                                    "Nombre": "Reinaldo",
                                    "Apellido": "Gonzalez",
                                    "Telefono": "36642727",
                                    "Edad": "43",
                                    "Domicilio": "Vallarta 711",
                                    "ID_Gerente": "5942572"
                                }
                            ]
                        },
                        "text/html": "<table><tr><th>ID_empleado</th><th>Nombre</th><th>Apellido</th><th>Telefono</th><th>Edad</th><th>Domicilio</th><th>ID_Gerente</th></tr><tr><td>9922377</td><td>Alexander</td><td>Martinez</td><td>36554872</td><td>28</td><td>Camino viejo 123</td><td>5942572</td></tr><tr><td>2520477</td><td>Egidio</td><td>Lopez</td><td>33444383</td><td>24</td><td>Rosas 996</td><td>5942572</td></tr><tr><td>6332756</td><td>Reinaldo</td><td>Gonzalez</td><td>36642727</td><td>43</td><td>Vallarta 711</td><td>5942572</td></tr></table>"
                    },
                    "metadata": {}
                }
            ],
            "execution_count": 60
        },
        {
            "cell_type": "code",
            "source": [
                "SELECT * FROM datos.empleados\r\n",
                "WHERE apellido like \"%ez\"\r\n",
                "ORDER BY nombre DESC;"
            ],
            "metadata": {
                "language": "sql",
                "azdata_cell_guid": "136c6465-cfa3-4c00-8a80-0ef66a56d934"
            },
            "outputs": [
                {
                    "output_type": "display_data",
                    "data": {
                        "text/html": "(3 row(s) affected)"
                    },
                    "metadata": {}
                },
                {
                    "output_type": "display_data",
                    "data": {
                        "text/html": "Total execution time: 00:00:01.011"
                    },
                    "metadata": {}
                },
                {
                    "output_type": "execute_result",
                    "execution_count": 61,
                    "data": {
                        "application/vnd.dataresource+json": {
                            "schema": {
                                "fields": [
                                    {
                                        "name": "ID_empleado"
                                    },
                                    {
                                        "name": "Nombre"
                                    },
                                    {
                                        "name": "Apellido"
                                    },
                                    {
                                        "name": "Telefono"
                                    },
                                    {
                                        "name": "Edad"
                                    },
                                    {
                                        "name": "Domicilio"
                                    },
                                    {
                                        "name": "ID_Gerente"
                                    }
                                ]
                            },
                            "data": [
                                {
                                    "ID_empleado": "6332756",
                                    "Nombre": "Reinaldo",
                                    "Apellido": "Gonzalez",
                                    "Telefono": "36642727",
                                    "Edad": "43",
                                    "Domicilio": "Vallarta 711",
                                    "ID_Gerente": "5942572"
                                },
                                {
                                    "ID_empleado": "2520477",
                                    "Nombre": "Egidio",
                                    "Apellido": "Lopez",
                                    "Telefono": "33444383",
                                    "Edad": "24",
                                    "Domicilio": "Rosas 996",
                                    "ID_Gerente": "5942572"
                                },
                                {
                                    "ID_empleado": "9922377",
                                    "Nombre": "Alexander",
                                    "Apellido": "Martinez",
                                    "Telefono": "36554872",
                                    "Edad": "28",
                                    "Domicilio": "Camino viejo 123",
                                    "ID_Gerente": "5942572"
                                }
                            ]
                        },
                        "text/html": "<table><tr><th>ID_empleado</th><th>Nombre</th><th>Apellido</th><th>Telefono</th><th>Edad</th><th>Domicilio</th><th>ID_Gerente</th></tr><tr><td>6332756</td><td>Reinaldo</td><td>Gonzalez</td><td>36642727</td><td>43</td><td>Vallarta 711</td><td>5942572</td></tr><tr><td>2520477</td><td>Egidio</td><td>Lopez</td><td>33444383</td><td>24</td><td>Rosas 996</td><td>5942572</td></tr><tr><td>9922377</td><td>Alexander</td><td>Martinez</td><td>36554872</td><td>28</td><td>Camino viejo 123</td><td>5942572</td></tr></table>"
                    },
                    "metadata": {}
                }
            ],
            "execution_count": 61
        },
        {
            "cell_type": "code",
            "source": [
                "SELECT telefono, edad FROM datos.empleados\r\n",
                "WHERE apellido like \"%ez\"\r\n",
                "ORDER BY nombre DESC;"
            ],
            "metadata": {
                "language": "sql",
                "azdata_cell_guid": "779f7d9e-5778-4cd5-af36-7d69838fd5f2"
            },
            "outputs": [
                {
                    "output_type": "display_data",
                    "data": {
                        "text/html": "(3 row(s) affected)"
                    },
                    "metadata": {}
                },
                {
                    "output_type": "display_data",
                    "data": {
                        "text/html": "Total execution time: 00:00:01.010"
                    },
                    "metadata": {}
                },
                {
                    "output_type": "execute_result",
                    "execution_count": 62,
                    "data": {
                        "application/vnd.dataresource+json": {
                            "schema": {
                                "fields": [
                                    {
                                        "name": "telefono"
                                    },
                                    {
                                        "name": "edad"
                                    }
                                ]
                            },
                            "data": [
                                {
                                    "telefono": "36642727",
                                    "edad": "43"
                                },
                                {
                                    "telefono": "33444383",
                                    "edad": "24"
                                },
                                {
                                    "telefono": "36554872",
                                    "edad": "28"
                                }
                            ]
                        },
                        "text/html": "<table><tr><th>telefono</th><th>edad</th></tr><tr><td>36642727</td><td>43</td></tr><tr><td>33444383</td><td>24</td></tr><tr><td>36554872</td><td>28</td></tr></table>"
                    },
                    "metadata": {}
                }
            ],
            "execution_count": 62
        },
        {
            "cell_type": "markdown",
            "source": [
                "## **IS NULL:** Comando utilizado para probar valores vacíos."
            ],
            "metadata": {
                "language": "sql",
                "azdata_cell_guid": "65cc462f-cd44-4d29-88a8-6782c686db39"
            },
            "attachments": {}
        },
        {
            "cell_type": "code",
            "source": [
                "SELECT * FROM datos.empleados\r\n",
                "WHERE domicilio IS NULL;"
            ],
            "metadata": {
                "language": "sql",
                "azdata_cell_guid": "71c7acd6-4aa9-400f-ae8f-b864f8f61366"
            },
            "outputs": [
                {
                    "output_type": "display_data",
                    "data": {
                        "text/html": "(1 row(s) affected)"
                    },
                    "metadata": {}
                },
                {
                    "output_type": "display_data",
                    "data": {
                        "text/html": "Total execution time: 00:00:01.009"
                    },
                    "metadata": {}
                },
                {
                    "output_type": "execute_result",
                    "execution_count": 68,
                    "data": {
                        "application/vnd.dataresource+json": {
                            "schema": {
                                "fields": [
                                    {
                                        "name": "ID_empleado"
                                    },
                                    {
                                        "name": "Nombre"
                                    },
                                    {
                                        "name": "Apellido"
                                    },
                                    {
                                        "name": "Telefono"
                                    },
                                    {
                                        "name": "Edad"
                                    },
                                    {
                                        "name": "Domicilio"
                                    },
                                    {
                                        "name": "ID_Gerente"
                                    }
                                ]
                            },
                            "data": [
                                {
                                    "ID_empleado": "5942572",
                                    "Nombre": "Jesus",
                                    "Apellido": "Agudelo",
                                    "Telefono": "34616222",
                                    "Edad": "35",
                                    "Domicilio": "NULL",
                                    "ID_Gerente": "NULL"
                                }
                            ]
                        },
                        "text/html": "<table><tr><th>ID_empleado</th><th>Nombre</th><th>Apellido</th><th>Telefono</th><th>Edad</th><th>Domicilio</th><th>ID_Gerente</th></tr><tr><td>5942572</td><td>Jesus</td><td>Agudelo</td><td>34616222</td><td>35</td><td>NULL</td><td>NULL</td></tr></table>"
                    },
                    "metadata": {}
                }
            ],
            "execution_count": 68
        },
        {
            "cell_type": "code",
            "source": [
                "SELECT * FROM datos.empleados\r\n",
                "WHERE domicilio IS NOT NULL;\r\n",
                ""
            ],
            "metadata": {
                "language": "sql",
                "azdata_cell_guid": "9bca56d3-6d5c-45be-a96b-6c6079e3b390",
                "tags": []
            },
            "outputs": [
                {
                    "output_type": "display_data",
                    "data": {
                        "text/html": "(10 row(s) affected)"
                    },
                    "metadata": {}
                },
                {
                    "output_type": "display_data",
                    "data": {
                        "text/html": "Total execution time: 00:00:01.013"
                    },
                    "metadata": {}
                },
                {
                    "output_type": "execute_result",
                    "execution_count": 67,
                    "data": {
                        "application/vnd.dataresource+json": {
                            "schema": {
                                "fields": [
                                    {
                                        "name": "ID_empleado"
                                    },
                                    {
                                        "name": "Nombre"
                                    },
                                    {
                                        "name": "Apellido"
                                    },
                                    {
                                        "name": "Telefono"
                                    },
                                    {
                                        "name": "Edad"
                                    },
                                    {
                                        "name": "Domicilio"
                                    },
                                    {
                                        "name": "ID_Gerente"
                                    }
                                ]
                            },
                            "data": [
                                {
                                    "ID_empleado": "1111222",
                                    "Nombre": "Alberto",
                                    "Apellido": "Barrientos",
                                    "Telefono": "34766613",
                                    "Edad": "26",
                                    "Domicilio": "Federal 233",
                                    "ID_Gerente": "5942572"
                                },
                                {
                                    "ID_empleado": "2310967",
                                    "Nombre": "Jairo",
                                    "Apellido": "Mira",
                                    "Telefono": "36403810",
                                    "Edad": "29",
                                    "Domicilio": "Calle 25 interior 2",
                                    "ID_Gerente": "5942572"
                                },
                                {
                                    "ID_empleado": "2520477",
                                    "Nombre": "Egidio",
                                    "Apellido": "Lopez",
                                    "Telefono": "33444383",
                                    "Edad": "24",
                                    "Domicilio": "Rosas 996",
                                    "ID_Gerente": "5942572"
                                },
                                {
                                    "ID_empleado": "2630867",
                                    "Nombre": "Elena",
                                    "Apellido": "Atehortua",
                                    "Telefono": "35581732",
                                    "Edad": "37",
                                    "Domicilio": "Sierra del tigre 299",
                                    "ID_Gerente": "5942572"
                                },
                                {
                                    "ID_empleado": "3833745",
                                    "Nombre": "Maria",
                                    "Apellido": "Zapata",
                                    "Telefono": "35354455",
                                    "Edad": "34",
                                    "Domicilio": "Boulevard 85",
                                    "ID_Gerente": "5942572"
                                },
                                {
                                    "ID_empleado": "4245367",
                                    "Nombre": "Alexandra",
                                    "Apellido": "Zapata",
                                    "Telefono": "33467136",
                                    "Edad": "31",
                                    "Domicilio": "Ingenieros 234",
                                    "ID_Gerente": "5942572"
                                },
                                {
                                    "ID_empleado": "6332756",
                                    "Nombre": "Reinaldo",
                                    "Apellido": "Gonzalez",
                                    "Telefono": "36642727",
                                    "Edad": "43",
                                    "Domicilio": "Vallarta 711",
                                    "ID_Gerente": "5942572"
                                },
                                {
                                    "ID_empleado": "6931035",
                                    "Nombre": "Albeiro",
                                    "Apellido": "Villa",
                                    "Telefono": "33631010",
                                    "Edad": "39",
                                    "Domicilio": "Carniceros 233",
                                    "ID_Gerente": "5942572"
                                },
                                {
                                    "ID_empleado": "9611338",
                                    "Nombre": "Haygnes",
                                    "Apellido": "Ortiz",
                                    "Telefono": "35400189",
                                    "Edad": "27",
                                    "Domicilio": "General Diaz 343",
                                    "ID_Gerente": "5942572"
                                },
                                {
                                    "ID_empleado": "9922377",
                                    "Nombre": "Alexander",
                                    "Apellido": "Martinez",
                                    "Telefono": "36554872",
                                    "Edad": "28",
                                    "Domicilio": "Camino viejo 123",
                                    "ID_Gerente": "5942572"
                                }
                            ]
                        },
                        "text/html": "<table><tr><th>ID_empleado</th><th>Nombre</th><th>Apellido</th><th>Telefono</th><th>Edad</th><th>Domicilio</th><th>ID_Gerente</th></tr><tr><td>1111222</td><td>Alberto</td><td>Barrientos</td><td>34766613</td><td>26</td><td>Federal 233</td><td>5942572</td></tr><tr><td>2310967</td><td>Jairo</td><td>Mira</td><td>36403810</td><td>29</td><td>Calle 25 interior 2</td><td>5942572</td></tr><tr><td>2520477</td><td>Egidio</td><td>Lopez</td><td>33444383</td><td>24</td><td>Rosas 996</td><td>5942572</td></tr><tr><td>2630867</td><td>Elena</td><td>Atehortua</td><td>35581732</td><td>37</td><td>Sierra del tigre 299</td><td>5942572</td></tr><tr><td>3833745</td><td>Maria</td><td>Zapata</td><td>35354455</td><td>34</td><td>Boulevard 85</td><td>5942572</td></tr><tr><td>4245367</td><td>Alexandra</td><td>Zapata</td><td>33467136</td><td>31</td><td>Ingenieros 234</td><td>5942572</td></tr><tr><td>6332756</td><td>Reinaldo</td><td>Gonzalez</td><td>36642727</td><td>43</td><td>Vallarta 711</td><td>5942572</td></tr><tr><td>6931035</td><td>Albeiro</td><td>Villa</td><td>33631010</td><td>39</td><td>Carniceros 233</td><td>5942572</td></tr><tr><td>9611338</td><td>Haygnes</td><td>Ortiz</td><td>35400189</td><td>27</td><td>General Diaz 343</td><td>5942572</td></tr><tr><td>9922377</td><td>Alexander</td><td>Martinez</td><td>36554872</td><td>28</td><td>Camino viejo 123</td><td>5942572</td></tr></table>"
                    },
                    "metadata": {}
                }
            ],
            "execution_count": 67
        },
        {
            "cell_type": "markdown",
            "source": [
                "## **LIMIT:** Utilizado para especificar el numero de registros que obtendremos como retorno al ejecutar la consulta."
            ],
            "metadata": {
                "language": "sql",
                "azdata_cell_guid": "e94d7f59-99d1-4b73-a23d-dc99f90296cd"
            },
            "attachments": {}
        },
        {
            "cell_type": "markdown",
            "source": [
                "## Muestra todos los registros del 6 hasta el nueve, te elimina los cinco primeros."
            ],
            "metadata": {
                "language": "sql",
                "azdata_cell_guid": "2c2be761-6ee4-424f-9b44-ea5f647f20a8"
            },
            "attachments": {}
        },
        {
            "cell_type": "code",
            "source": [
                "SELECT * FROM datos.ventas\r\n",
                "LIMIT 5,9;"
            ],
            "metadata": {
                "language": "sql",
                "azdata_cell_guid": "6bb93870-4eee-4514-9ab9-5ef72347fb42",
                "tags": [
                    "hide_input"
                ]
            },
            "outputs": [
                {
                    "output_type": "display_data",
                    "data": {
                        "text/html": "(9 row(s) affected)"
                    },
                    "metadata": {}
                },
                {
                    "output_type": "display_data",
                    "data": {
                        "text/html": "Total execution time: 00:00:01.018"
                    },
                    "metadata": {}
                },
                {
                    "output_type": "execute_result",
                    "execution_count": 70,
                    "data": {
                        "application/vnd.dataresource+json": {
                            "schema": {
                                "fields": [
                                    {
                                        "name": "ventas_id"
                                    },
                                    {
                                        "name": "Fecha"
                                    },
                                    {
                                        "name": "ID_local"
                                    },
                                    {
                                        "name": "clave_producto"
                                    },
                                    {
                                        "name": "venta"
                                    },
                                    {
                                        "name": "venta_empleado"
                                    }
                                ]
                            },
                            "data": [
                                {
                                    "ventas_id": "6",
                                    "Fecha": "2018-12-15 00:00:00",
                                    "ID_local": "3",
                                    "clave_producto": "pzz",
                                    "venta": "544",
                                    "venta_empleado": "9611338"
                                },
                                {
                                    "ventas_id": "7",
                                    "Fecha": "2018-07-28 00:00:00",
                                    "ID_local": "4",
                                    "clave_producto": "pzz",
                                    "venta": "1444",
                                    "venta_empleado": "6332756"
                                },
                                {
                                    "ventas_id": "8",
                                    "Fecha": "2018-10-05 00:00:00",
                                    "ID_local": "1",
                                    "clave_producto": "pzz",
                                    "venta": "435",
                                    "venta_empleado": "2520477"
                                },
                                {
                                    "ventas_id": "9",
                                    "Fecha": "2018-04-20 00:00:00",
                                    "ID_local": "1",
                                    "clave_producto": "qsd",
                                    "venta": "1203",
                                    "venta_empleado": "9922377"
                                },
                                {
                                    "ventas_id": "10",
                                    "Fecha": "2018-06-08 00:00:00",
                                    "ID_local": "1",
                                    "clave_producto": "brr",
                                    "venta": "1038",
                                    "venta_empleado": "6332756"
                                },
                                {
                                    "ventas_id": "11",
                                    "Fecha": "2018-08-22 00:00:00",
                                    "ID_local": "1",
                                    "clave_producto": "brr",
                                    "venta": "404",
                                    "venta_empleado": "3833745"
                                },
                                {
                                    "ventas_id": "12",
                                    "Fecha": "2019-09-03 00:00:00",
                                    "ID_local": "1",
                                    "clave_producto": "pzz",
                                    "venta": "1362",
                                    "venta_empleado": "5728566"
                                },
                                {
                                    "ventas_id": "13",
                                    "Fecha": "2019-07-16 00:00:00",
                                    "ID_local": "3",
                                    "clave_producto": "qsd",
                                    "venta": "1054",
                                    "venta_empleado": "2310967"
                                },
                                {
                                    "ventas_id": "14",
                                    "Fecha": "2019-08-27 00:00:00",
                                    "ID_local": "3",
                                    "clave_producto": "clz",
                                    "venta": "303",
                                    "venta_empleado": "3833745"
                                }
                            ]
                        },
                        "text/html": "<table><tr><th>ventas_id</th><th>Fecha</th><th>ID_local</th><th>clave_producto</th><th>venta</th><th>venta_empleado</th></tr><tr><td>6</td><td>2018-12-15 00:00:00</td><td>3</td><td>pzz</td><td>544</td><td>9611338</td></tr><tr><td>7</td><td>2018-07-28 00:00:00</td><td>4</td><td>pzz</td><td>1444</td><td>6332756</td></tr><tr><td>8</td><td>2018-10-05 00:00:00</td><td>1</td><td>pzz</td><td>435</td><td>2520477</td></tr><tr><td>9</td><td>2018-04-20 00:00:00</td><td>1</td><td>qsd</td><td>1203</td><td>9922377</td></tr><tr><td>10</td><td>2018-06-08 00:00:00</td><td>1</td><td>brr</td><td>1038</td><td>6332756</td></tr><tr><td>11</td><td>2018-08-22 00:00:00</td><td>1</td><td>brr</td><td>404</td><td>3833745</td></tr><tr><td>12</td><td>2019-09-03 00:00:00</td><td>1</td><td>pzz</td><td>1362</td><td>5728566</td></tr><tr><td>13</td><td>2019-07-16 00:00:00</td><td>3</td><td>qsd</td><td>1054</td><td>2310967</td></tr><tr><td>14</td><td>2019-08-27 00:00:00</td><td>3</td><td>clz</td><td>303</td><td>3833745</td></tr></table>"
                    },
                    "metadata": {}
                }
            ],
            "execution_count": 70
        },
        {
            "cell_type": "code",
            "source": [
                "SELECT * FROM datos.ventas\r\n",
                "LIMIT 5;"
            ],
            "metadata": {
                "language": "sql",
                "azdata_cell_guid": "dd170f19-a38a-49b2-a9d0-36376745282a"
            },
            "outputs": [
                {
                    "output_type": "display_data",
                    "data": {
                        "text/html": "(5 row(s) affected)"
                    },
                    "metadata": {}
                },
                {
                    "output_type": "display_data",
                    "data": {
                        "text/html": "Total execution time: 00:00:01.007"
                    },
                    "metadata": {}
                },
                {
                    "output_type": "execute_result",
                    "execution_count": 69,
                    "data": {
                        "application/vnd.dataresource+json": {
                            "schema": {
                                "fields": [
                                    {
                                        "name": "ventas_id"
                                    },
                                    {
                                        "name": "Fecha"
                                    },
                                    {
                                        "name": "ID_local"
                                    },
                                    {
                                        "name": "clave_producto"
                                    },
                                    {
                                        "name": "venta"
                                    },
                                    {
                                        "name": "venta_empleado"
                                    }
                                ]
                            },
                            "data": [
                                {
                                    "ventas_id": "1",
                                    "Fecha": "2018-11-18 00:00:00",
                                    "ID_local": "2",
                                    "clave_producto": "pzz",
                                    "venta": "1302",
                                    "venta_empleado": "2630867"
                                },
                                {
                                    "ventas_id": "2",
                                    "Fecha": "2018-09-17 00:00:00",
                                    "ID_local": "2",
                                    "clave_producto": "clz",
                                    "venta": "953",
                                    "venta_empleado": "2310967"
                                },
                                {
                                    "ventas_id": "3",
                                    "Fecha": "2018-10-18 00:00:00",
                                    "ID_local": "4",
                                    "clave_producto": "brr",
                                    "venta": "1286",
                                    "venta_empleado": "6931035"
                                },
                                {
                                    "ventas_id": "4",
                                    "Fecha": "2018-10-30 00:00:00",
                                    "ID_local": "1",
                                    "clave_producto": "brr",
                                    "venta": "889",
                                    "venta_empleado": "9922377"
                                },
                                {
                                    "ventas_id": "5",
                                    "Fecha": "2018-05-16 00:00:00",
                                    "ID_local": "1",
                                    "clave_producto": "qsd",
                                    "venta": "495",
                                    "venta_empleado": "2520477"
                                }
                            ]
                        },
                        "text/html": "<table><tr><th>ventas_id</th><th>Fecha</th><th>ID_local</th><th>clave_producto</th><th>venta</th><th>venta_empleado</th></tr><tr><td>1</td><td>2018-11-18 00:00:00</td><td>2</td><td>pzz</td><td>1302</td><td>2630867</td></tr><tr><td>2</td><td>2018-09-17 00:00:00</td><td>2</td><td>clz</td><td>953</td><td>2310967</td></tr><tr><td>3</td><td>2018-10-18 00:00:00</td><td>4</td><td>brr</td><td>1286</td><td>6931035</td></tr><tr><td>4</td><td>2018-10-30 00:00:00</td><td>1</td><td>brr</td><td>889</td><td>9922377</td></tr><tr><td>5</td><td>2018-05-16 00:00:00</td><td>1</td><td>qsd</td><td>495</td><td>2520477</td></tr></table>"
                    },
                    "metadata": {}
                }
            ],
            "execution_count": 69
        },
        {
            "cell_type": "code",
            "source": [
                "SELECT * FROM datos.ventas\r\n",
                "LIMIT 7;"
            ],
            "metadata": {
                "language": "sql",
                "azdata_cell_guid": "f552eb29-9f7c-441c-abae-b9e9d08482d7"
            },
            "outputs": [
                {
                    "output_type": "display_data",
                    "data": {
                        "text/html": "(7 row(s) affected)"
                    },
                    "metadata": {}
                },
                {
                    "output_type": "display_data",
                    "data": {
                        "text/html": "Total execution time: 00:00:01.012"
                    },
                    "metadata": {}
                },
                {
                    "output_type": "execute_result",
                    "execution_count": 71,
                    "data": {
                        "application/vnd.dataresource+json": {
                            "schema": {
                                "fields": [
                                    {
                                        "name": "ventas_id"
                                    },
                                    {
                                        "name": "Fecha"
                                    },
                                    {
                                        "name": "ID_local"
                                    },
                                    {
                                        "name": "clave_producto"
                                    },
                                    {
                                        "name": "venta"
                                    },
                                    {
                                        "name": "venta_empleado"
                                    }
                                ]
                            },
                            "data": [
                                {
                                    "ventas_id": "1",
                                    "Fecha": "2018-11-18 00:00:00",
                                    "ID_local": "2",
                                    "clave_producto": "pzz",
                                    "venta": "1302",
                                    "venta_empleado": "2630867"
                                },
                                {
                                    "ventas_id": "2",
                                    "Fecha": "2018-09-17 00:00:00",
                                    "ID_local": "2",
                                    "clave_producto": "clz",
                                    "venta": "953",
                                    "venta_empleado": "2310967"
                                },
                                {
                                    "ventas_id": "3",
                                    "Fecha": "2018-10-18 00:00:00",
                                    "ID_local": "4",
                                    "clave_producto": "brr",
                                    "venta": "1286",
                                    "venta_empleado": "6931035"
                                },
                                {
                                    "ventas_id": "4",
                                    "Fecha": "2018-10-30 00:00:00",
                                    "ID_local": "1",
                                    "clave_producto": "brr",
                                    "venta": "889",
                                    "venta_empleado": "9922377"
                                },
                                {
                                    "ventas_id": "5",
                                    "Fecha": "2018-05-16 00:00:00",
                                    "ID_local": "1",
                                    "clave_producto": "qsd",
                                    "venta": "495",
                                    "venta_empleado": "2520477"
                                },
                                {
                                    "ventas_id": "6",
                                    "Fecha": "2018-12-15 00:00:00",
                                    "ID_local": "3",
                                    "clave_producto": "pzz",
                                    "venta": "544",
                                    "venta_empleado": "9611338"
                                },
                                {
                                    "ventas_id": "7",
                                    "Fecha": "2018-07-28 00:00:00",
                                    "ID_local": "4",
                                    "clave_producto": "pzz",
                                    "venta": "1444",
                                    "venta_empleado": "6332756"
                                }
                            ]
                        },
                        "text/html": "<table><tr><th>ventas_id</th><th>Fecha</th><th>ID_local</th><th>clave_producto</th><th>venta</th><th>venta_empleado</th></tr><tr><td>1</td><td>2018-11-18 00:00:00</td><td>2</td><td>pzz</td><td>1302</td><td>2630867</td></tr><tr><td>2</td><td>2018-09-17 00:00:00</td><td>2</td><td>clz</td><td>953</td><td>2310967</td></tr><tr><td>3</td><td>2018-10-18 00:00:00</td><td>4</td><td>brr</td><td>1286</td><td>6931035</td></tr><tr><td>4</td><td>2018-10-30 00:00:00</td><td>1</td><td>brr</td><td>889</td><td>9922377</td></tr><tr><td>5</td><td>2018-05-16 00:00:00</td><td>1</td><td>qsd</td><td>495</td><td>2520477</td></tr><tr><td>6</td><td>2018-12-15 00:00:00</td><td>3</td><td>pzz</td><td>544</td><td>9611338</td></tr><tr><td>7</td><td>2018-07-28 00:00:00</td><td>4</td><td>pzz</td><td>1444</td><td>6332756</td></tr></table>"
                    },
                    "metadata": {}
                }
            ],
            "execution_count": 71
        },
        {
            "cell_type": "code",
            "source": [
                "SELECT * FROM datos.ventas\r\n",
                "LIMIT 9;"
            ],
            "metadata": {
                "language": "sql",
                "azdata_cell_guid": "c37048e9-4bcc-4529-8a8b-b91b749e419d"
            },
            "outputs": [
                {
                    "output_type": "display_data",
                    "data": {
                        "text/html": "(9 row(s) affected)"
                    },
                    "metadata": {}
                },
                {
                    "output_type": "display_data",
                    "data": {
                        "text/html": "Total execution time: 00:00:01.004"
                    },
                    "metadata": {}
                },
                {
                    "output_type": "execute_result",
                    "execution_count": 72,
                    "data": {
                        "application/vnd.dataresource+json": {
                            "schema": {
                                "fields": [
                                    {
                                        "name": "ventas_id"
                                    },
                                    {
                                        "name": "Fecha"
                                    },
                                    {
                                        "name": "ID_local"
                                    },
                                    {
                                        "name": "clave_producto"
                                    },
                                    {
                                        "name": "venta"
                                    },
                                    {
                                        "name": "venta_empleado"
                                    }
                                ]
                            },
                            "data": [
                                {
                                    "ventas_id": "1",
                                    "Fecha": "2018-11-18 00:00:00",
                                    "ID_local": "2",
                                    "clave_producto": "pzz",
                                    "venta": "1302",
                                    "venta_empleado": "2630867"
                                },
                                {
                                    "ventas_id": "2",
                                    "Fecha": "2018-09-17 00:00:00",
                                    "ID_local": "2",
                                    "clave_producto": "clz",
                                    "venta": "953",
                                    "venta_empleado": "2310967"
                                },
                                {
                                    "ventas_id": "3",
                                    "Fecha": "2018-10-18 00:00:00",
                                    "ID_local": "4",
                                    "clave_producto": "brr",
                                    "venta": "1286",
                                    "venta_empleado": "6931035"
                                },
                                {
                                    "ventas_id": "4",
                                    "Fecha": "2018-10-30 00:00:00",
                                    "ID_local": "1",
                                    "clave_producto": "brr",
                                    "venta": "889",
                                    "venta_empleado": "9922377"
                                },
                                {
                                    "ventas_id": "5",
                                    "Fecha": "2018-05-16 00:00:00",
                                    "ID_local": "1",
                                    "clave_producto": "qsd",
                                    "venta": "495",
                                    "venta_empleado": "2520477"
                                },
                                {
                                    "ventas_id": "6",
                                    "Fecha": "2018-12-15 00:00:00",
                                    "ID_local": "3",
                                    "clave_producto": "pzz",
                                    "venta": "544",
                                    "venta_empleado": "9611338"
                                },
                                {
                                    "ventas_id": "7",
                                    "Fecha": "2018-07-28 00:00:00",
                                    "ID_local": "4",
                                    "clave_producto": "pzz",
                                    "venta": "1444",
                                    "venta_empleado": "6332756"
                                },
                                {
                                    "ventas_id": "8",
                                    "Fecha": "2018-10-05 00:00:00",
                                    "ID_local": "1",
                                    "clave_producto": "pzz",
                                    "venta": "435",
                                    "venta_empleado": "2520477"
                                },
                                {
                                    "ventas_id": "9",
                                    "Fecha": "2018-04-20 00:00:00",
                                    "ID_local": "1",
                                    "clave_producto": "qsd",
                                    "venta": "1203",
                                    "venta_empleado": "9922377"
                                }
                            ]
                        },
                        "text/html": "<table><tr><th>ventas_id</th><th>Fecha</th><th>ID_local</th><th>clave_producto</th><th>venta</th><th>venta_empleado</th></tr><tr><td>1</td><td>2018-11-18 00:00:00</td><td>2</td><td>pzz</td><td>1302</td><td>2630867</td></tr><tr><td>2</td><td>2018-09-17 00:00:00</td><td>2</td><td>clz</td><td>953</td><td>2310967</td></tr><tr><td>3</td><td>2018-10-18 00:00:00</td><td>4</td><td>brr</td><td>1286</td><td>6931035</td></tr><tr><td>4</td><td>2018-10-30 00:00:00</td><td>1</td><td>brr</td><td>889</td><td>9922377</td></tr><tr><td>5</td><td>2018-05-16 00:00:00</td><td>1</td><td>qsd</td><td>495</td><td>2520477</td></tr><tr><td>6</td><td>2018-12-15 00:00:00</td><td>3</td><td>pzz</td><td>544</td><td>9611338</td></tr><tr><td>7</td><td>2018-07-28 00:00:00</td><td>4</td><td>pzz</td><td>1444</td><td>6332756</td></tr><tr><td>8</td><td>2018-10-05 00:00:00</td><td>1</td><td>pzz</td><td>435</td><td>2520477</td></tr><tr><td>9</td><td>2018-04-20 00:00:00</td><td>1</td><td>qsd</td><td>1203</td><td>9922377</td></tr></table>"
                    },
                    "metadata": {}
                }
            ],
            "execution_count": 72
        }
    ]
}