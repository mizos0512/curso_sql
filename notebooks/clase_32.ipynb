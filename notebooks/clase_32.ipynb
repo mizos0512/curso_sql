{
    "metadata": {
        "kernelspec": {
            "name": "SQL",
            "display_name": "SQL",
            "language": "sql"
        },
        "language_info": {
            "name": "sql",
            "version": ""
        }
    },
    "nbformat_minor": 2,
    "nbformat": 4,
    "cells": [
        {
            "cell_type": "markdown",
            "source": [
                "## **JOIN:** Se utiliza para combinar filas de dos o más tablas, basada en una columna relacionada entre ellas"
            ],
            "metadata": {
                "azdata_cell_guid": "b191ace0-1b13-4275-a736-8d5cce33e454"
            },
            "attachments": {}
        },
        {
            "cell_type": "code",
            "source": [
                "SELECT * FROM ventas v\r\n",
                "JOIN local l\r\n",
                " ON v.ID_local = l.ID_local"
            ],
            "metadata": {
                "azdata_cell_guid": "fd047c6e-bd85-4d71-883f-9e5a73c857bd",
                "language": "sql"
            },
            "outputs": [
                {
                    "output_type": "display_data",
                    "data": {
                        "text/html": "(22 row(s) affected)"
                    },
                    "metadata": {}
                },
                {
                    "output_type": "display_data",
                    "data": {
                        "text/html": "Total execution time: 00:00:01.037"
                    },
                    "metadata": {}
                },
                {
                    "output_type": "execute_result",
                    "metadata": {},
                    "execution_count": 1,
                    "data": {
                        "application/vnd.dataresource+json": {
                            "schema": {
                                "fields": [
                                    {
                                        "name": "ventas_id"
                                    },
                                    {
                                        "name": "Fecha"
                                    },
                                    {
                                        "name": "ID_local"
                                    },
                                    {
                                        "name": "clave_producto"
                                    },
                                    {
                                        "name": "venta"
                                    },
                                    {
                                        "name": "venta_empleado"
                                    },
                                    {
                                        "name": "ID_Local"
                                    },
                                    {
                                        "name": "Letra_zona"
                                    },
                                    {
                                        "name": "Direccion"
                                    },
                                    {
                                        "name": "Telefono"
                                    }
                                ]
                            },
                            "data": [
                                {
                                    "ventas_id": "1",
                                    "Fecha": "2018-11-18 00:00:00",
                                    "ID_local": "2",
                                    "clave_producto": "pzz",
                                    "venta": "1302",
                                    "venta_empleado": "2630867",
                                    "ID_Local": "2",
                                    "Letra_zona": "B",
                                    "Direccion": "Calle poniente manzana 4",
                                    "Telefono": "377896"
                                },
                                {
                                    "ventas_id": "2",
                                    "Fecha": "2018-09-17 00:00:00",
                                    "ID_local": "2",
                                    "clave_producto": "clz",
                                    "venta": "953",
                                    "venta_empleado": "2310967",
                                    "ID_Local": "2",
                                    "Letra_zona": "B",
                                    "Direccion": "Calle poniente manzana 4",
                                    "Telefono": "377896"
                                },
                                {
                                    "ventas_id": "3",
                                    "Fecha": "2018-10-18 00:00:00",
                                    "ID_local": "4",
                                    "clave_producto": "brr",
                                    "venta": "1286",
                                    "venta_empleado": "6931035",
                                    "ID_Local": "4",
                                    "Letra_zona": "D",
                                    "Direccion": "Rinconada de Magnolias 409",
                                    "Telefono": "378341"
                                },
                                {
                                    "ventas_id": "4",
                                    "Fecha": "2018-10-30 00:00:00",
                                    "ID_local": "1",
                                    "clave_producto": "brr",
                                    "venta": "889",
                                    "venta_empleado": "9922377",
                                    "ID_Local": "1",
                                    "Letra_zona": "A",
                                    "Direccion": "Av de las Rosas 123",
                                    "Telefono": "357894"
                                },
                                {
                                    "ventas_id": "5",
                                    "Fecha": "2018-05-16 00:00:00",
                                    "ID_local": "1",
                                    "clave_producto": "qsd",
                                    "venta": "495",
                                    "venta_empleado": "2520477",
                                    "ID_Local": "1",
                                    "Letra_zona": "A",
                                    "Direccion": "Av de las Rosas 123",
                                    "Telefono": "357894"
                                },
                                {
                                    "ventas_id": "6",
                                    "Fecha": "2018-12-15 00:00:00",
                                    "ID_local": "3",
                                    "clave_producto": "pzz",
                                    "venta": "544",
                                    "venta_empleado": "9611338",
                                    "ID_Local": "3",
                                    "Letra_zona": "C",
                                    "Direccion": "Insurgentes 558",
                                    "Telefono": "347899"
                                },
                                {
                                    "ventas_id": "7",
                                    "Fecha": "2018-07-28 00:00:00",
                                    "ID_local": "4",
                                    "clave_producto": "pzz",
                                    "venta": "1444",
                                    "venta_empleado": "6332756",
                                    "ID_Local": "4",
                                    "Letra_zona": "D",
                                    "Direccion": "Rinconada de Magnolias 409",
                                    "Telefono": "378341"
                                },
                                {
                                    "ventas_id": "8",
                                    "Fecha": "2018-10-05 00:00:00",
                                    "ID_local": "1",
                                    "clave_producto": "pzz",
                                    "venta": "435",
                                    "venta_empleado": "2520477",
                                    "ID_Local": "1",
                                    "Letra_zona": "A",
                                    "Direccion": "Av de las Rosas 123",
                                    "Telefono": "357894"
                                },
                                {
                                    "ventas_id": "9",
                                    "Fecha": "2018-04-20 00:00:00",
                                    "ID_local": "1",
                                    "clave_producto": "qsd",
                                    "venta": "1203",
                                    "venta_empleado": "9922377",
                                    "ID_Local": "1",
                                    "Letra_zona": "A",
                                    "Direccion": "Av de las Rosas 123",
                                    "Telefono": "357894"
                                },
                                {
                                    "ventas_id": "10",
                                    "Fecha": "2018-06-08 00:00:00",
                                    "ID_local": "1",
                                    "clave_producto": "brr",
                                    "venta": "1038",
                                    "venta_empleado": "6332756",
                                    "ID_Local": "1",
                                    "Letra_zona": "A",
                                    "Direccion": "Av de las Rosas 123",
                                    "Telefono": "357894"
                                },
                                {
                                    "ventas_id": "11",
                                    "Fecha": "2018-08-22 00:00:00",
                                    "ID_local": "1",
                                    "clave_producto": "brr",
                                    "venta": "404",
                                    "venta_empleado": "3833745",
                                    "ID_Local": "1",
                                    "Letra_zona": "A",
                                    "Direccion": "Av de las Rosas 123",
                                    "Telefono": "357894"
                                },
                                {
                                    "ventas_id": "12",
                                    "Fecha": "2019-09-03 00:00:00",
                                    "ID_local": "1",
                                    "clave_producto": "pzz",
                                    "venta": "1362",
                                    "venta_empleado": "5728566",
                                    "ID_Local": "1",
                                    "Letra_zona": "A",
                                    "Direccion": "Av de las Rosas 123",
                                    "Telefono": "357894"
                                },
                                {
                                    "ventas_id": "13",
                                    "Fecha": "2019-07-16 00:00:00",
                                    "ID_local": "3",
                                    "clave_producto": "qsd",
                                    "venta": "1054",
                                    "venta_empleado": "2310967",
                                    "ID_Local": "3",
                                    "Letra_zona": "C",
                                    "Direccion": "Insurgentes 558",
                                    "Telefono": "347899"
                                },
                                {
                                    "ventas_id": "14",
                                    "Fecha": "2019-08-27 00:00:00",
                                    "ID_local": "3",
                                    "clave_producto": "clz",
                                    "venta": "303",
                                    "venta_empleado": "3833745",
                                    "ID_Local": "3",
                                    "Letra_zona": "C",
                                    "Direccion": "Insurgentes 558",
                                    "Telefono": "347899"
                                },
                                {
                                    "ventas_id": "15",
                                    "Fecha": "2019-12-15 00:00:00",
                                    "ID_local": "1",
                                    "clave_producto": "brr",
                                    "venta": "871",
                                    "venta_empleado": "2520477",
                                    "ID_Local": "1",
                                    "Letra_zona": "A",
                                    "Direccion": "Av de las Rosas 123",
                                    "Telefono": "357894"
                                },
                                {
                                    "ventas_id": "16",
                                    "Fecha": "2019-07-30 00:00:00",
                                    "ID_local": "3",
                                    "clave_producto": "brr",
                                    "venta": "1062",
                                    "venta_empleado": "5728566",
                                    "ID_Local": "3",
                                    "Letra_zona": "C",
                                    "Direccion": "Insurgentes 558",
                                    "Telefono": "347899"
                                },
                                {
                                    "ventas_id": "17",
                                    "Fecha": "2019-10-25 00:00:00",
                                    "ID_local": "1",
                                    "clave_producto": "pzz",
                                    "venta": "1376",
                                    "venta_empleado": "6332756",
                                    "ID_Local": "1",
                                    "Letra_zona": "A",
                                    "Direccion": "Av de las Rosas 123",
                                    "Telefono": "357894"
                                },
                                {
                                    "ventas_id": "18",
                                    "Fecha": "2019-12-14 00:00:00",
                                    "ID_local": "3",
                                    "clave_producto": "pzz",
                                    "venta": "957",
                                    "venta_empleado": "2310967",
                                    "ID_Local": "3",
                                    "Letra_zona": "C",
                                    "Direccion": "Insurgentes 558",
                                    "Telefono": "347899"
                                },
                                {
                                    "ventas_id": "19",
                                    "Fecha": "2019-08-14 00:00:00",
                                    "ID_local": "2",
                                    "clave_producto": "clz",
                                    "venta": "972",
                                    "venta_empleado": "2310967",
                                    "ID_Local": "2",
                                    "Letra_zona": "B",
                                    "Direccion": "Calle poniente manzana 4",
                                    "Telefono": "377896"
                                },
                                {
                                    "ventas_id": "20",
                                    "Fecha": "2019-12-01 00:00:00",
                                    "ID_local": "1",
                                    "clave_producto": "pzz",
                                    "venta": "1455",
                                    "venta_empleado": "2310967",
                                    "ID_Local": "1",
                                    "Letra_zona": "A",
                                    "Direccion": "Av de las Rosas 123",
                                    "Telefono": "357894"
                                },
                                {
                                    "ventas_id": "21",
                                    "Fecha": "2019-06-08 00:00:00",
                                    "ID_local": "4",
                                    "clave_producto": "qsd",
                                    "venta": "497",
                                    "venta_empleado": "5728566",
                                    "ID_Local": "4",
                                    "Letra_zona": "D",
                                    "Direccion": "Rinconada de Magnolias 409",
                                    "Telefono": "378341"
                                },
                                {
                                    "ventas_id": "22",
                                    "Fecha": "2019-07-25 00:00:00",
                                    "ID_local": "3",
                                    "clave_producto": "clz",
                                    "venta": "1179",
                                    "venta_empleado": "2310967",
                                    "ID_Local": "3",
                                    "Letra_zona": "C",
                                    "Direccion": "Insurgentes 558",
                                    "Telefono": "347899"
                                }
                            ]
                        },
                        "text/html": [
                            "<table>",
                            "<tr><th>ventas_id</th><th>Fecha</th><th>ID_local</th><th>clave_producto</th><th>venta</th><th>venta_empleado</th><th>ID_Local</th><th>Letra_zona</th><th>Direccion</th><th>Telefono</th></tr>",
                            "<tr><td>1</td><td>2018-11-18 00:00:00</td><td>2</td><td>pzz</td><td>1302</td><td>2630867</td><td>2</td><td>B</td><td>Calle poniente manzana 4</td><td>377896</td></tr>",
                            "<tr><td>2</td><td>2018-09-17 00:00:00</td><td>2</td><td>clz</td><td>953</td><td>2310967</td><td>2</td><td>B</td><td>Calle poniente manzana 4</td><td>377896</td></tr>",
                            "<tr><td>3</td><td>2018-10-18 00:00:00</td><td>4</td><td>brr</td><td>1286</td><td>6931035</td><td>4</td><td>D</td><td>Rinconada de Magnolias 409</td><td>378341</td></tr>",
                            "<tr><td>4</td><td>2018-10-30 00:00:00</td><td>1</td><td>brr</td><td>889</td><td>9922377</td><td>1</td><td>A</td><td>Av de las Rosas 123</td><td>357894</td></tr>",
                            "<tr><td>5</td><td>2018-05-16 00:00:00</td><td>1</td><td>qsd</td><td>495</td><td>2520477</td><td>1</td><td>A</td><td>Av de las Rosas 123</td><td>357894</td></tr>",
                            "<tr><td>6</td><td>2018-12-15 00:00:00</td><td>3</td><td>pzz</td><td>544</td><td>9611338</td><td>3</td><td>C</td><td>Insurgentes 558</td><td>347899</td></tr>",
                            "<tr><td>7</td><td>2018-07-28 00:00:00</td><td>4</td><td>pzz</td><td>1444</td><td>6332756</td><td>4</td><td>D</td><td>Rinconada de Magnolias 409</td><td>378341</td></tr>",
                            "<tr><td>8</td><td>2018-10-05 00:00:00</td><td>1</td><td>pzz</td><td>435</td><td>2520477</td><td>1</td><td>A</td><td>Av de las Rosas 123</td><td>357894</td></tr>",
                            "<tr><td>9</td><td>2018-04-20 00:00:00</td><td>1</td><td>qsd</td><td>1203</td><td>9922377</td><td>1</td><td>A</td><td>Av de las Rosas 123</td><td>357894</td></tr>",
                            "<tr><td>10</td><td>2018-06-08 00:00:00</td><td>1</td><td>brr</td><td>1038</td><td>6332756</td><td>1</td><td>A</td><td>Av de las Rosas 123</td><td>357894</td></tr>",
                            "<tr><td>11</td><td>2018-08-22 00:00:00</td><td>1</td><td>brr</td><td>404</td><td>3833745</td><td>1</td><td>A</td><td>Av de las Rosas 123</td><td>357894</td></tr>",
                            "<tr><td>12</td><td>2019-09-03 00:00:00</td><td>1</td><td>pzz</td><td>1362</td><td>5728566</td><td>1</td><td>A</td><td>Av de las Rosas 123</td><td>357894</td></tr>",
                            "<tr><td>13</td><td>2019-07-16 00:00:00</td><td>3</td><td>qsd</td><td>1054</td><td>2310967</td><td>3</td><td>C</td><td>Insurgentes 558</td><td>347899</td></tr>",
                            "<tr><td>14</td><td>2019-08-27 00:00:00</td><td>3</td><td>clz</td><td>303</td><td>3833745</td><td>3</td><td>C</td><td>Insurgentes 558</td><td>347899</td></tr>",
                            "<tr><td>15</td><td>2019-12-15 00:00:00</td><td>1</td><td>brr</td><td>871</td><td>2520477</td><td>1</td><td>A</td><td>Av de las Rosas 123</td><td>357894</td></tr>",
                            "<tr><td>16</td><td>2019-07-30 00:00:00</td><td>3</td><td>brr</td><td>1062</td><td>5728566</td><td>3</td><td>C</td><td>Insurgentes 558</td><td>347899</td></tr>",
                            "<tr><td>17</td><td>2019-10-25 00:00:00</td><td>1</td><td>pzz</td><td>1376</td><td>6332756</td><td>1</td><td>A</td><td>Av de las Rosas 123</td><td>357894</td></tr>",
                            "<tr><td>18</td><td>2019-12-14 00:00:00</td><td>3</td><td>pzz</td><td>957</td><td>2310967</td><td>3</td><td>C</td><td>Insurgentes 558</td><td>347899</td></tr>",
                            "<tr><td>19</td><td>2019-08-14 00:00:00</td><td>2</td><td>clz</td><td>972</td><td>2310967</td><td>2</td><td>B</td><td>Calle poniente manzana 4</td><td>377896</td></tr>",
                            "<tr><td>20</td><td>2019-12-01 00:00:00</td><td>1</td><td>pzz</td><td>1455</td><td>2310967</td><td>1</td><td>A</td><td>Av de las Rosas 123</td><td>357894</td></tr>",
                            "<tr><td>21</td><td>2019-06-08 00:00:00</td><td>4</td><td>qsd</td><td>497</td><td>5728566</td><td>4</td><td>D</td><td>Rinconada de Magnolias 409</td><td>378341</td></tr>",
                            "<tr><td>22</td><td>2019-07-25 00:00:00</td><td>3</td><td>clz</td><td>1179</td><td>2310967</td><td>3</td><td>C</td><td>Insurgentes 558</td><td>347899</td></tr>",
                            "</table>"
                        ]
                    }
                }
            ],
            "execution_count": 1
        },
        {
            "cell_type": "code",
            "source": [
                "SELECT * FROM ventas v\r\n",
                "JOIN local l\r\n",
                " ON v.ID_local = l.ID_local\r\n",
                "JOIN empleados e\r\n",
                " ON v.venta_empleado = e.ID_empleado;"
            ],
            "metadata": {
                "language": "sql",
                "azdata_cell_guid": "664ffa71-a48c-442d-a6f2-74dcfa6f6fe9"
            },
            "outputs": [
                {
                    "output_type": "display_data",
                    "data": {
                        "text/html": "(19 row(s) affected)"
                    },
                    "metadata": {}
                },
                {
                    "output_type": "display_data",
                    "data": {
                        "text/html": "Total execution time: 00:00:01.016"
                    },
                    "metadata": {}
                },
                {
                    "output_type": "execute_result",
                    "metadata": {},
                    "execution_count": 2,
                    "data": {
                        "application/vnd.dataresource+json": {
                            "schema": {
                                "fields": [
                                    {
                                        "name": "ventas_id"
                                    },
                                    {
                                        "name": "Fecha"
                                    },
                                    {
                                        "name": "ID_local"
                                    },
                                    {
                                        "name": "clave_producto"
                                    },
                                    {
                                        "name": "venta"
                                    },
                                    {
                                        "name": "venta_empleado"
                                    },
                                    {
                                        "name": "ID_Local"
                                    },
                                    {
                                        "name": "Letra_zona"
                                    },
                                    {
                                        "name": "Direccion"
                                    },
                                    {
                                        "name": "Telefono"
                                    },
                                    {
                                        "name": "ID_empleado"
                                    },
                                    {
                                        "name": "Nombre"
                                    },
                                    {
                                        "name": "Apellido"
                                    },
                                    {
                                        "name": "Telefono"
                                    },
                                    {
                                        "name": "Edad"
                                    },
                                    {
                                        "name": "Domicilio"
                                    },
                                    {
                                        "name": "ID_Gerente"
                                    }
                                ]
                            },
                            "data": [
                                {
                                    "ventas_id": "1",
                                    "Fecha": "2018-11-18 00:00:00",
                                    "ID_local": "2",
                                    "clave_producto": "pzz",
                                    "venta": "1302",
                                    "venta_empleado": "2630867",
                                    "ID_Local": "2",
                                    "Letra_zona": "B",
                                    "Direccion": "Calle poniente manzana 4",
                                    "Telefono": "35581732",
                                    "ID_empleado": "2630867",
                                    "Nombre": "Elena",
                                    "Apellido": "Atehortua",
                                    "Edad": "37",
                                    "Domicilio": "Sierra del tigre 299",
                                    "ID_Gerente": "5942572"
                                },
                                {
                                    "ventas_id": "2",
                                    "Fecha": "2018-09-17 00:00:00",
                                    "ID_local": "2",
                                    "clave_producto": "clz",
                                    "venta": "953",
                                    "venta_empleado": "2310967",
                                    "ID_Local": "2",
                                    "Letra_zona": "B",
                                    "Direccion": "Calle poniente manzana 4",
                                    "Telefono": "36403810",
                                    "ID_empleado": "2310967",
                                    "Nombre": "Jairo",
                                    "Apellido": "Mira",
                                    "Edad": "29",
                                    "Domicilio": "Calle 25 interior 2",
                                    "ID_Gerente": "5942572"
                                },
                                {
                                    "ventas_id": "3",
                                    "Fecha": "2018-10-18 00:00:00",
                                    "ID_local": "4",
                                    "clave_producto": "brr",
                                    "venta": "1286",
                                    "venta_empleado": "6931035",
                                    "ID_Local": "4",
                                    "Letra_zona": "D",
                                    "Direccion": "Rinconada de Magnolias 409",
                                    "Telefono": "33631010",
                                    "ID_empleado": "6931035",
                                    "Nombre": "Albeiro",
                                    "Apellido": "Villa",
                                    "Edad": "39",
                                    "Domicilio": "Carniceros 233",
                                    "ID_Gerente": "5942572"
                                },
                                {
                                    "ventas_id": "4",
                                    "Fecha": "2018-10-30 00:00:00",
                                    "ID_local": "1",
                                    "clave_producto": "brr",
                                    "venta": "889",
                                    "venta_empleado": "9922377",
                                    "ID_Local": "1",
                                    "Letra_zona": "A",
                                    "Direccion": "Av de las Rosas 123",
                                    "Telefono": "36554872",
                                    "ID_empleado": "9922377",
                                    "Nombre": "Alexander",
                                    "Apellido": "Martinez",
                                    "Edad": "28",
                                    "Domicilio": "Camino viejo 123",
                                    "ID_Gerente": "5942572"
                                },
                                {
                                    "ventas_id": "5",
                                    "Fecha": "2018-05-16 00:00:00",
                                    "ID_local": "1",
                                    "clave_producto": "qsd",
                                    "venta": "495",
                                    "venta_empleado": "2520477",
                                    "ID_Local": "1",
                                    "Letra_zona": "A",
                                    "Direccion": "Av de las Rosas 123",
                                    "Telefono": "33444383",
                                    "ID_empleado": "2520477",
                                    "Nombre": "Egidio",
                                    "Apellido": "Lopez",
                                    "Edad": "24",
                                    "Domicilio": "Rosas 996",
                                    "ID_Gerente": "5942572"
                                },
                                {
                                    "ventas_id": "6",
                                    "Fecha": "2018-12-15 00:00:00",
                                    "ID_local": "3",
                                    "clave_producto": "pzz",
                                    "venta": "544",
                                    "venta_empleado": "9611338",
                                    "ID_Local": "3",
                                    "Letra_zona": "C",
                                    "Direccion": "Insurgentes 558",
                                    "Telefono": "35400189",
                                    "ID_empleado": "9611338",
                                    "Nombre": "Haygnes",
                                    "Apellido": "Ortiz",
                                    "Edad": "27",
                                    "Domicilio": "General Diaz 343",
                                    "ID_Gerente": "5942572"
                                },
                                {
                                    "ventas_id": "7",
                                    "Fecha": "2018-07-28 00:00:00",
                                    "ID_local": "4",
                                    "clave_producto": "pzz",
                                    "venta": "1444",
                                    "venta_empleado": "6332756",
                                    "ID_Local": "4",
                                    "Letra_zona": "D",
                                    "Direccion": "Rinconada de Magnolias 409",
                                    "Telefono": "36642727",
                                    "ID_empleado": "6332756",
                                    "Nombre": "Reinaldo",
                                    "Apellido": "Gonzalez",
                                    "Edad": "43",
                                    "Domicilio": "Vallarta 711",
                                    "ID_Gerente": "5942572"
                                },
                                {
                                    "ventas_id": "8",
                                    "Fecha": "2018-10-05 00:00:00",
                                    "ID_local": "1",
                                    "clave_producto": "pzz",
                                    "venta": "435",
                                    "venta_empleado": "2520477",
                                    "ID_Local": "1",
                                    "Letra_zona": "A",
                                    "Direccion": "Av de las Rosas 123",
                                    "Telefono": "33444383",
                                    "ID_empleado": "2520477",
                                    "Nombre": "Egidio",
                                    "Apellido": "Lopez",
                                    "Edad": "24",
                                    "Domicilio": "Rosas 996",
                                    "ID_Gerente": "5942572"
                                },
                                {
                                    "ventas_id": "9",
                                    "Fecha": "2018-04-20 00:00:00",
                                    "ID_local": "1",
                                    "clave_producto": "qsd",
                                    "venta": "1203",
                                    "venta_empleado": "9922377",
                                    "ID_Local": "1",
                                    "Letra_zona": "A",
                                    "Direccion": "Av de las Rosas 123",
                                    "Telefono": "36554872",
                                    "ID_empleado": "9922377",
                                    "Nombre": "Alexander",
                                    "Apellido": "Martinez",
                                    "Edad": "28",
                                    "Domicilio": "Camino viejo 123",
                                    "ID_Gerente": "5942572"
                                },
                                {
                                    "ventas_id": "10",
                                    "Fecha": "2018-06-08 00:00:00",
                                    "ID_local": "1",
                                    "clave_producto": "brr",
                                    "venta": "1038",
                                    "venta_empleado": "6332756",
                                    "ID_Local": "1",
                                    "Letra_zona": "A",
                                    "Direccion": "Av de las Rosas 123",
                                    "Telefono": "36642727",
                                    "ID_empleado": "6332756",
                                    "Nombre": "Reinaldo",
                                    "Apellido": "Gonzalez",
                                    "Edad": "43",
                                    "Domicilio": "Vallarta 711",
                                    "ID_Gerente": "5942572"
                                },
                                {
                                    "ventas_id": "11",
                                    "Fecha": "2018-08-22 00:00:00",
                                    "ID_local": "1",
                                    "clave_producto": "brr",
                                    "venta": "404",
                                    "venta_empleado": "3833745",
                                    "ID_Local": "1",
                                    "Letra_zona": "A",
                                    "Direccion": "Av de las Rosas 123",
                                    "Telefono": "35354455",
                                    "ID_empleado": "3833745",
                                    "Nombre": "Maria",
                                    "Apellido": "Zapata",
                                    "Edad": "34",
                                    "Domicilio": "Boulevard 85",
                                    "ID_Gerente": "5942572"
                                },
                                {
                                    "ventas_id": "13",
                                    "Fecha": "2019-07-16 00:00:00",
                                    "ID_local": "3",
                                    "clave_producto": "qsd",
                                    "venta": "1054",
                                    "venta_empleado": "2310967",
                                    "ID_Local": "3",
                                    "Letra_zona": "C",
                                    "Direccion": "Insurgentes 558",
                                    "Telefono": "36403810",
                                    "ID_empleado": "2310967",
                                    "Nombre": "Jairo",
                                    "Apellido": "Mira",
                                    "Edad": "29",
                                    "Domicilio": "Calle 25 interior 2",
                                    "ID_Gerente": "5942572"
                                },
                                {
                                    "ventas_id": "14",
                                    "Fecha": "2019-08-27 00:00:00",
                                    "ID_local": "3",
                                    "clave_producto": "clz",
                                    "venta": "303",
                                    "venta_empleado": "3833745",
                                    "ID_Local": "3",
                                    "Letra_zona": "C",
                                    "Direccion": "Insurgentes 558",
                                    "Telefono": "35354455",
                                    "ID_empleado": "3833745",
                                    "Nombre": "Maria",
                                    "Apellido": "Zapata",
                                    "Edad": "34",
                                    "Domicilio": "Boulevard 85",
                                    "ID_Gerente": "5942572"
                                },
                                {
                                    "ventas_id": "15",
                                    "Fecha": "2019-12-15 00:00:00",
                                    "ID_local": "1",
                                    "clave_producto": "brr",
                                    "venta": "871",
                                    "venta_empleado": "2520477",
                                    "ID_Local": "1",
                                    "Letra_zona": "A",
                                    "Direccion": "Av de las Rosas 123",
                                    "Telefono": "33444383",
                                    "ID_empleado": "2520477",
                                    "Nombre": "Egidio",
                                    "Apellido": "Lopez",
                                    "Edad": "24",
                                    "Domicilio": "Rosas 996",
                                    "ID_Gerente": "5942572"
                                },
                                {
                                    "ventas_id": "17",
                                    "Fecha": "2019-10-25 00:00:00",
                                    "ID_local": "1",
                                    "clave_producto": "pzz",
                                    "venta": "1376",
                                    "venta_empleado": "6332756",
                                    "ID_Local": "1",
                                    "Letra_zona": "A",
                                    "Direccion": "Av de las Rosas 123",
                                    "Telefono": "36642727",
                                    "ID_empleado": "6332756",
                                    "Nombre": "Reinaldo",
                                    "Apellido": "Gonzalez",
                                    "Edad": "43",
                                    "Domicilio": "Vallarta 711",
                                    "ID_Gerente": "5942572"
                                },
                                {
                                    "ventas_id": "18",
                                    "Fecha": "2019-12-14 00:00:00",
                                    "ID_local": "3",
                                    "clave_producto": "pzz",
                                    "venta": "957",
                                    "venta_empleado": "2310967",
                                    "ID_Local": "3",
                                    "Letra_zona": "C",
                                    "Direccion": "Insurgentes 558",
                                    "Telefono": "36403810",
                                    "ID_empleado": "2310967",
                                    "Nombre": "Jairo",
                                    "Apellido": "Mira",
                                    "Edad": "29",
                                    "Domicilio": "Calle 25 interior 2",
                                    "ID_Gerente": "5942572"
                                },
                                {
                                    "ventas_id": "19",
                                    "Fecha": "2019-08-14 00:00:00",
                                    "ID_local": "2",
                                    "clave_producto": "clz",
                                    "venta": "972",
                                    "venta_empleado": "2310967",
                                    "ID_Local": "2",
                                    "Letra_zona": "B",
                                    "Direccion": "Calle poniente manzana 4",
                                    "Telefono": "36403810",
                                    "ID_empleado": "2310967",
                                    "Nombre": "Jairo",
                                    "Apellido": "Mira",
                                    "Edad": "29",
                                    "Domicilio": "Calle 25 interior 2",
                                    "ID_Gerente": "5942572"
                                },
                                {
                                    "ventas_id": "20",
                                    "Fecha": "2019-12-01 00:00:00",
                                    "ID_local": "1",
                                    "clave_producto": "pzz",
                                    "venta": "1455",
                                    "venta_empleado": "2310967",
                                    "ID_Local": "1",
                                    "Letra_zona": "A",
                                    "Direccion": "Av de las Rosas 123",
                                    "Telefono": "36403810",
                                    "ID_empleado": "2310967",
                                    "Nombre": "Jairo",
                                    "Apellido": "Mira",
                                    "Edad": "29",
                                    "Domicilio": "Calle 25 interior 2",
                                    "ID_Gerente": "5942572"
                                },
                                {
                                    "ventas_id": "22",
                                    "Fecha": "2019-07-25 00:00:00",
                                    "ID_local": "3",
                                    "clave_producto": "clz",
                                    "venta": "1179",
                                    "venta_empleado": "2310967",
                                    "ID_Local": "3",
                                    "Letra_zona": "C",
                                    "Direccion": "Insurgentes 558",
                                    "Telefono": "36403810",
                                    "ID_empleado": "2310967",
                                    "Nombre": "Jairo",
                                    "Apellido": "Mira",
                                    "Edad": "29",
                                    "Domicilio": "Calle 25 interior 2",
                                    "ID_Gerente": "5942572"
                                }
                            ]
                        },
                        "text/html": [
                            "<table>",
                            "<tr><th>ventas_id</th><th>Fecha</th><th>ID_local</th><th>clave_producto</th><th>venta</th><th>venta_empleado</th><th>ID_Local</th><th>Letra_zona</th><th>Direccion</th><th>Telefono</th><th>ID_empleado</th><th>Nombre</th><th>Apellido</th><th>Telefono</th><th>Edad</th><th>Domicilio</th><th>ID_Gerente</th></tr>",
                            "<tr><td>1</td><td>2018-11-18 00:00:00</td><td>2</td><td>pzz</td><td>1302</td><td>2630867</td><td>2</td><td>B</td><td>Calle poniente manzana 4</td><td>377896</td><td>2630867</td><td>Elena</td><td>Atehortua</td><td>35581732</td><td>37</td><td>Sierra del tigre 299</td><td>5942572</td></tr>",
                            "<tr><td>2</td><td>2018-09-17 00:00:00</td><td>2</td><td>clz</td><td>953</td><td>2310967</td><td>2</td><td>B</td><td>Calle poniente manzana 4</td><td>377896</td><td>2310967</td><td>Jairo</td><td>Mira</td><td>36403810</td><td>29</td><td>Calle 25 interior 2</td><td>5942572</td></tr>",
                            "<tr><td>3</td><td>2018-10-18 00:00:00</td><td>4</td><td>brr</td><td>1286</td><td>6931035</td><td>4</td><td>D</td><td>Rinconada de Magnolias 409</td><td>378341</td><td>6931035</td><td>Albeiro</td><td>Villa</td><td>33631010</td><td>39</td><td>Carniceros 233</td><td>5942572</td></tr>",
                            "<tr><td>4</td><td>2018-10-30 00:00:00</td><td>1</td><td>brr</td><td>889</td><td>9922377</td><td>1</td><td>A</td><td>Av de las Rosas 123</td><td>357894</td><td>9922377</td><td>Alexander</td><td>Martinez</td><td>36554872</td><td>28</td><td>Camino viejo 123</td><td>5942572</td></tr>",
                            "<tr><td>5</td><td>2018-05-16 00:00:00</td><td>1</td><td>qsd</td><td>495</td><td>2520477</td><td>1</td><td>A</td><td>Av de las Rosas 123</td><td>357894</td><td>2520477</td><td>Egidio</td><td>Lopez</td><td>33444383</td><td>24</td><td>Rosas 996</td><td>5942572</td></tr>",
                            "<tr><td>6</td><td>2018-12-15 00:00:00</td><td>3</td><td>pzz</td><td>544</td><td>9611338</td><td>3</td><td>C</td><td>Insurgentes 558</td><td>347899</td><td>9611338</td><td>Haygnes</td><td>Ortiz</td><td>35400189</td><td>27</td><td>General Diaz 343</td><td>5942572</td></tr>",
                            "<tr><td>7</td><td>2018-07-28 00:00:00</td><td>4</td><td>pzz</td><td>1444</td><td>6332756</td><td>4</td><td>D</td><td>Rinconada de Magnolias 409</td><td>378341</td><td>6332756</td><td>Reinaldo</td><td>Gonzalez</td><td>36642727</td><td>43</td><td>Vallarta 711</td><td>5942572</td></tr>",
                            "<tr><td>8</td><td>2018-10-05 00:00:00</td><td>1</td><td>pzz</td><td>435</td><td>2520477</td><td>1</td><td>A</td><td>Av de las Rosas 123</td><td>357894</td><td>2520477</td><td>Egidio</td><td>Lopez</td><td>33444383</td><td>24</td><td>Rosas 996</td><td>5942572</td></tr>",
                            "<tr><td>9</td><td>2018-04-20 00:00:00</td><td>1</td><td>qsd</td><td>1203</td><td>9922377</td><td>1</td><td>A</td><td>Av de las Rosas 123</td><td>357894</td><td>9922377</td><td>Alexander</td><td>Martinez</td><td>36554872</td><td>28</td><td>Camino viejo 123</td><td>5942572</td></tr>",
                            "<tr><td>10</td><td>2018-06-08 00:00:00</td><td>1</td><td>brr</td><td>1038</td><td>6332756</td><td>1</td><td>A</td><td>Av de las Rosas 123</td><td>357894</td><td>6332756</td><td>Reinaldo</td><td>Gonzalez</td><td>36642727</td><td>43</td><td>Vallarta 711</td><td>5942572</td></tr>",
                            "<tr><td>11</td><td>2018-08-22 00:00:00</td><td>1</td><td>brr</td><td>404</td><td>3833745</td><td>1</td><td>A</td><td>Av de las Rosas 123</td><td>357894</td><td>3833745</td><td>Maria</td><td>Zapata</td><td>35354455</td><td>34</td><td>Boulevard 85</td><td>5942572</td></tr>",
                            "<tr><td>13</td><td>2019-07-16 00:00:00</td><td>3</td><td>qsd</td><td>1054</td><td>2310967</td><td>3</td><td>C</td><td>Insurgentes 558</td><td>347899</td><td>2310967</td><td>Jairo</td><td>Mira</td><td>36403810</td><td>29</td><td>Calle 25 interior 2</td><td>5942572</td></tr>",
                            "<tr><td>14</td><td>2019-08-27 00:00:00</td><td>3</td><td>clz</td><td>303</td><td>3833745</td><td>3</td><td>C</td><td>Insurgentes 558</td><td>347899</td><td>3833745</td><td>Maria</td><td>Zapata</td><td>35354455</td><td>34</td><td>Boulevard 85</td><td>5942572</td></tr>",
                            "<tr><td>15</td><td>2019-12-15 00:00:00</td><td>1</td><td>brr</td><td>871</td><td>2520477</td><td>1</td><td>A</td><td>Av de las Rosas 123</td><td>357894</td><td>2520477</td><td>Egidio</td><td>Lopez</td><td>33444383</td><td>24</td><td>Rosas 996</td><td>5942572</td></tr>",
                            "<tr><td>17</td><td>2019-10-25 00:00:00</td><td>1</td><td>pzz</td><td>1376</td><td>6332756</td><td>1</td><td>A</td><td>Av de las Rosas 123</td><td>357894</td><td>6332756</td><td>Reinaldo</td><td>Gonzalez</td><td>36642727</td><td>43</td><td>Vallarta 711</td><td>5942572</td></tr>",
                            "<tr><td>18</td><td>2019-12-14 00:00:00</td><td>3</td><td>pzz</td><td>957</td><td>2310967</td><td>3</td><td>C</td><td>Insurgentes 558</td><td>347899</td><td>2310967</td><td>Jairo</td><td>Mira</td><td>36403810</td><td>29</td><td>Calle 25 interior 2</td><td>5942572</td></tr>",
                            "<tr><td>19</td><td>2019-08-14 00:00:00</td><td>2</td><td>clz</td><td>972</td><td>2310967</td><td>2</td><td>B</td><td>Calle poniente manzana 4</td><td>377896</td><td>2310967</td><td>Jairo</td><td>Mira</td><td>36403810</td><td>29</td><td>Calle 25 interior 2</td><td>5942572</td></tr>",
                            "<tr><td>20</td><td>2019-12-01 00:00:00</td><td>1</td><td>pzz</td><td>1455</td><td>2310967</td><td>1</td><td>A</td><td>Av de las Rosas 123</td><td>357894</td><td>2310967</td><td>Jairo</td><td>Mira</td><td>36403810</td><td>29</td><td>Calle 25 interior 2</td><td>5942572</td></tr>",
                            "<tr><td>22</td><td>2019-07-25 00:00:00</td><td>3</td><td>clz</td><td>1179</td><td>2310967</td><td>3</td><td>C</td><td>Insurgentes 558</td><td>347899</td><td>2310967</td><td>Jairo</td><td>Mira</td><td>36403810</td><td>29</td><td>Calle 25 interior 2</td><td>5942572</td></tr>",
                            "</table>"
                        ]
                    }
                }
            ],
            "execution_count": 2
        },
        {
            "cell_type": "code",
            "source": [
                "SELECT v.ventas_id,\r\n",
                "    v.fecha,\r\n",
                "    v.clave_producto,\r\n",
                "    v.venta,\r\n",
                "    e.nombre,\r\n",
                "    e.apellido \r\n",
                "FROM ventas v\r\n",
                "JOIN local l\r\n",
                " ON v.ID_local = l.ID_local\r\n",
                "JOIN empleados e\r\n",
                " ON v.venta_empleado = e.ID_empleado;"
            ],
            "metadata": {
                "language": "sql",
                "azdata_cell_guid": "7bcfb553-29ff-4f11-b48e-4ff4bf975260"
            },
            "outputs": [
                {
                    "output_type": "display_data",
                    "data": {
                        "text/html": "(19 row(s) affected)"
                    },
                    "metadata": {}
                },
                {
                    "output_type": "display_data",
                    "data": {
                        "text/html": "Total execution time: 00:00:01.013"
                    },
                    "metadata": {}
                },
                {
                    "output_type": "execute_result",
                    "metadata": {},
                    "execution_count": 3,
                    "data": {
                        "application/vnd.dataresource+json": {
                            "schema": {
                                "fields": [
                                    {
                                        "name": "ventas_id"
                                    },
                                    {
                                        "name": "fecha"
                                    },
                                    {
                                        "name": "clave_producto"
                                    },
                                    {
                                        "name": "venta"
                                    },
                                    {
                                        "name": "nombre"
                                    },
                                    {
                                        "name": "apellido"
                                    }
                                ]
                            },
                            "data": [
                                {
                                    "ventas_id": "6",
                                    "fecha": "2018-12-15 00:00:00",
                                    "clave_producto": "pzz",
                                    "venta": "544",
                                    "nombre": "Haygnes",
                                    "apellido": "Ortiz"
                                },
                                {
                                    "ventas_id": "13",
                                    "fecha": "2019-07-16 00:00:00",
                                    "clave_producto": "qsd",
                                    "venta": "1054",
                                    "nombre": "Jairo",
                                    "apellido": "Mira"
                                },
                                {
                                    "ventas_id": "14",
                                    "fecha": "2019-08-27 00:00:00",
                                    "clave_producto": "clz",
                                    "venta": "303",
                                    "nombre": "Maria",
                                    "apellido": "Zapata"
                                },
                                {
                                    "ventas_id": "18",
                                    "fecha": "2019-12-14 00:00:00",
                                    "clave_producto": "pzz",
                                    "venta": "957",
                                    "nombre": "Jairo",
                                    "apellido": "Mira"
                                },
                                {
                                    "ventas_id": "22",
                                    "fecha": "2019-07-25 00:00:00",
                                    "clave_producto": "clz",
                                    "venta": "1179",
                                    "nombre": "Jairo",
                                    "apellido": "Mira"
                                },
                                {
                                    "ventas_id": "4",
                                    "fecha": "2018-10-30 00:00:00",
                                    "clave_producto": "brr",
                                    "venta": "889",
                                    "nombre": "Alexander",
                                    "apellido": "Martinez"
                                },
                                {
                                    "ventas_id": "5",
                                    "fecha": "2018-05-16 00:00:00",
                                    "clave_producto": "qsd",
                                    "venta": "495",
                                    "nombre": "Egidio",
                                    "apellido": "Lopez"
                                },
                                {
                                    "ventas_id": "8",
                                    "fecha": "2018-10-05 00:00:00",
                                    "clave_producto": "pzz",
                                    "venta": "435",
                                    "nombre": "Egidio",
                                    "apellido": "Lopez"
                                },
                                {
                                    "ventas_id": "9",
                                    "fecha": "2018-04-20 00:00:00",
                                    "clave_producto": "qsd",
                                    "venta": "1203",
                                    "nombre": "Alexander",
                                    "apellido": "Martinez"
                                },
                                {
                                    "ventas_id": "10",
                                    "fecha": "2018-06-08 00:00:00",
                                    "clave_producto": "brr",
                                    "venta": "1038",
                                    "nombre": "Reinaldo",
                                    "apellido": "Gonzalez"
                                },
                                {
                                    "ventas_id": "11",
                                    "fecha": "2018-08-22 00:00:00",
                                    "clave_producto": "brr",
                                    "venta": "404",
                                    "nombre": "Maria",
                                    "apellido": "Zapata"
                                },
                                {
                                    "ventas_id": "15",
                                    "fecha": "2019-12-15 00:00:00",
                                    "clave_producto": "brr",
                                    "venta": "871",
                                    "nombre": "Egidio",
                                    "apellido": "Lopez"
                                },
                                {
                                    "ventas_id": "17",
                                    "fecha": "2019-10-25 00:00:00",
                                    "clave_producto": "pzz",
                                    "venta": "1376",
                                    "nombre": "Reinaldo",
                                    "apellido": "Gonzalez"
                                },
                                {
                                    "ventas_id": "20",
                                    "fecha": "2019-12-01 00:00:00",
                                    "clave_producto": "pzz",
                                    "venta": "1455",
                                    "nombre": "Jairo",
                                    "apellido": "Mira"
                                },
                                {
                                    "ventas_id": "1",
                                    "fecha": "2018-11-18 00:00:00",
                                    "clave_producto": "pzz",
                                    "venta": "1302",
                                    "nombre": "Elena",
                                    "apellido": "Atehortua"
                                },
                                {
                                    "ventas_id": "2",
                                    "fecha": "2018-09-17 00:00:00",
                                    "clave_producto": "clz",
                                    "venta": "953",
                                    "nombre": "Jairo",
                                    "apellido": "Mira"
                                },
                                {
                                    "ventas_id": "19",
                                    "fecha": "2019-08-14 00:00:00",
                                    "clave_producto": "clz",
                                    "venta": "972",
                                    "nombre": "Jairo",
                                    "apellido": "Mira"
                                },
                                {
                                    "ventas_id": "3",
                                    "fecha": "2018-10-18 00:00:00",
                                    "clave_producto": "brr",
                                    "venta": "1286",
                                    "nombre": "Albeiro",
                                    "apellido": "Villa"
                                },
                                {
                                    "ventas_id": "7",
                                    "fecha": "2018-07-28 00:00:00",
                                    "clave_producto": "pzz",
                                    "venta": "1444",
                                    "nombre": "Reinaldo",
                                    "apellido": "Gonzalez"
                                }
                            ]
                        },
                        "text/html": [
                            "<table>",
                            "<tr><th>ventas_id</th><th>fecha</th><th>clave_producto</th><th>venta</th><th>nombre</th><th>apellido</th></tr>",
                            "<tr><td>6</td><td>2018-12-15 00:00:00</td><td>pzz</td><td>544</td><td>Haygnes</td><td>Ortiz</td></tr>",
                            "<tr><td>13</td><td>2019-07-16 00:00:00</td><td>qsd</td><td>1054</td><td>Jairo</td><td>Mira</td></tr>",
                            "<tr><td>14</td><td>2019-08-27 00:00:00</td><td>clz</td><td>303</td><td>Maria</td><td>Zapata</td></tr>",
                            "<tr><td>18</td><td>2019-12-14 00:00:00</td><td>pzz</td><td>957</td><td>Jairo</td><td>Mira</td></tr>",
                            "<tr><td>22</td><td>2019-07-25 00:00:00</td><td>clz</td><td>1179</td><td>Jairo</td><td>Mira</td></tr>",
                            "<tr><td>4</td><td>2018-10-30 00:00:00</td><td>brr</td><td>889</td><td>Alexander</td><td>Martinez</td></tr>",
                            "<tr><td>5</td><td>2018-05-16 00:00:00</td><td>qsd</td><td>495</td><td>Egidio</td><td>Lopez</td></tr>",
                            "<tr><td>8</td><td>2018-10-05 00:00:00</td><td>pzz</td><td>435</td><td>Egidio</td><td>Lopez</td></tr>",
                            "<tr><td>9</td><td>2018-04-20 00:00:00</td><td>qsd</td><td>1203</td><td>Alexander</td><td>Martinez</td></tr>",
                            "<tr><td>10</td><td>2018-06-08 00:00:00</td><td>brr</td><td>1038</td><td>Reinaldo</td><td>Gonzalez</td></tr>",
                            "<tr><td>11</td><td>2018-08-22 00:00:00</td><td>brr</td><td>404</td><td>Maria</td><td>Zapata</td></tr>",
                            "<tr><td>15</td><td>2019-12-15 00:00:00</td><td>brr</td><td>871</td><td>Egidio</td><td>Lopez</td></tr>",
                            "<tr><td>17</td><td>2019-10-25 00:00:00</td><td>pzz</td><td>1376</td><td>Reinaldo</td><td>Gonzalez</td></tr>",
                            "<tr><td>20</td><td>2019-12-01 00:00:00</td><td>pzz</td><td>1455</td><td>Jairo</td><td>Mira</td></tr>",
                            "<tr><td>1</td><td>2018-11-18 00:00:00</td><td>pzz</td><td>1302</td><td>Elena</td><td>Atehortua</td></tr>",
                            "<tr><td>2</td><td>2018-09-17 00:00:00</td><td>clz</td><td>953</td><td>Jairo</td><td>Mira</td></tr>",
                            "<tr><td>19</td><td>2019-08-14 00:00:00</td><td>clz</td><td>972</td><td>Jairo</td><td>Mira</td></tr>",
                            "<tr><td>3</td><td>2018-10-18 00:00:00</td><td>brr</td><td>1286</td><td>Albeiro</td><td>Villa</td></tr>",
                            "<tr><td>7</td><td>2018-07-28 00:00:00</td><td>pzz</td><td>1444</td><td>Reinaldo</td><td>Gonzalez</td></tr>",
                            "</table>"
                        ]
                    }
                }
            ],
            "execution_count": 3
        },
        {
            "cell_type": "code",
            "source": [
                "SELECT * FROM periodos.periodo1;"
            ],
            "metadata": {
                "language": "sql",
                "azdata_cell_guid": "4c43cdc6-31d6-4b67-a47f-fce622536e75"
            },
            "outputs": [
                {
                    "output_type": "display_data",
                    "data": {
                        "text/html": "(11 row(s) affected)"
                    },
                    "metadata": {}
                },
                {
                    "output_type": "display_data",
                    "data": {
                        "text/html": "Total execution time: 00:00:01.017"
                    },
                    "metadata": {}
                },
                {
                    "output_type": "execute_result",
                    "metadata": {},
                    "execution_count": 14,
                    "data": {
                        "application/vnd.dataresource+json": {
                            "schema": {
                                "fields": [
                                    {
                                        "name": "periodo1_id"
                                    },
                                    {
                                        "name": "Fecha"
                                    },
                                    {
                                        "name": "ID_Empleado"
                                    },
                                    {
                                        "name": "Local"
                                    },
                                    {
                                        "name": "Turno_completo"
                                    }
                                ]
                            },
                            "data": [
                                {
                                    "periodo1_id": "1",
                                    "Fecha": "2019-09-03 00:00:00",
                                    "ID_Empleado": "5728566",
                                    "Local": "A",
                                    "Turno_completo": "SI"
                                },
                                {
                                    "periodo1_id": "2",
                                    "Fecha": "2019-07-16 00:00:00",
                                    "ID_Empleado": "9611338",
                                    "Local": "A",
                                    "Turno_completo": "NO"
                                },
                                {
                                    "periodo1_id": "3",
                                    "Fecha": "2019-08-27 00:00:00",
                                    "ID_Empleado": "3833745",
                                    "Local": "B",
                                    "Turno_completo": "NO"
                                },
                                {
                                    "periodo1_id": "4",
                                    "Fecha": "2019-12-15 00:00:00",
                                    "ID_Empleado": "5942572",
                                    "Local": "D",
                                    "Turno_completo": "NO"
                                },
                                {
                                    "periodo1_id": "5",
                                    "Fecha": "2019-07-30 00:00:00",
                                    "ID_Empleado": "4245367",
                                    "Local": "C",
                                    "Turno_completo": "SI"
                                },
                                {
                                    "periodo1_id": "6",
                                    "Fecha": "2019-10-25 00:00:00",
                                    "ID_Empleado": "6332756",
                                    "Local": "C",
                                    "Turno_completo": "SI"
                                },
                                {
                                    "periodo1_id": "7",
                                    "Fecha": "2019-12-14 00:00:00",
                                    "ID_Empleado": "5942572",
                                    "Local": "B",
                                    "Turno_completo": "SI"
                                },
                                {
                                    "periodo1_id": "8",
                                    "Fecha": "2019-08-14 00:00:00",
                                    "ID_Empleado": "9922377",
                                    "Local": "C",
                                    "Turno_completo": "SI"
                                },
                                {
                                    "periodo1_id": "9",
                                    "Fecha": "2019-12-01 00:00:00",
                                    "ID_Empleado": "6931035",
                                    "Local": "B",
                                    "Turno_completo": "SI"
                                },
                                {
                                    "periodo1_id": "10",
                                    "Fecha": "2019-06-08 00:00:00",
                                    "ID_Empleado": "6931035",
                                    "Local": "B",
                                    "Turno_completo": "SI"
                                },
                                {
                                    "periodo1_id": "11",
                                    "Fecha": "2019-07-25 00:00:00",
                                    "ID_Empleado": "2310967",
                                    "Local": "B",
                                    "Turno_completo": "SI"
                                }
                            ]
                        },
                        "text/html": [
                            "<table>",
                            "<tr><th>periodo1_id</th><th>Fecha</th><th>ID_Empleado</th><th>Local</th><th>Turno_completo</th></tr>",
                            "<tr><td>1</td><td>2019-09-03 00:00:00</td><td>5728566</td><td>A</td><td>SI</td></tr>",
                            "<tr><td>2</td><td>2019-07-16 00:00:00</td><td>9611338</td><td>A</td><td>NO</td></tr>",
                            "<tr><td>3</td><td>2019-08-27 00:00:00</td><td>3833745</td><td>B</td><td>NO</td></tr>",
                            "<tr><td>4</td><td>2019-12-15 00:00:00</td><td>5942572</td><td>D</td><td>NO</td></tr>",
                            "<tr><td>5</td><td>2019-07-30 00:00:00</td><td>4245367</td><td>C</td><td>SI</td></tr>",
                            "<tr><td>6</td><td>2019-10-25 00:00:00</td><td>6332756</td><td>C</td><td>SI</td></tr>",
                            "<tr><td>7</td><td>2019-12-14 00:00:00</td><td>5942572</td><td>B</td><td>SI</td></tr>",
                            "<tr><td>8</td><td>2019-08-14 00:00:00</td><td>9922377</td><td>C</td><td>SI</td></tr>",
                            "<tr><td>9</td><td>2019-12-01 00:00:00</td><td>6931035</td><td>B</td><td>SI</td></tr>",
                            "<tr><td>10</td><td>2019-06-08 00:00:00</td><td>6931035</td><td>B</td><td>SI</td></tr>",
                            "<tr><td>11</td><td>2019-07-25 00:00:00</td><td>2310967</td><td>B</td><td>SI</td></tr>",
                            "</table>"
                        ]
                    }
                }
            ],
            "execution_count": 14
        },
        {
            "cell_type": "code",
            "source": [
                "SELECT * FROM periodos.periodo2;"
            ],
            "metadata": {
                "language": "sql",
                "azdata_cell_guid": "9b39ba09-e578-4b1c-8e5b-b8683e50b152"
            },
            "outputs": [
                {
                    "output_type": "display_data",
                    "data": {
                        "text/html": "(11 row(s) affected)"
                    },
                    "metadata": {}
                },
                {
                    "output_type": "display_data",
                    "data": {
                        "text/html": "Total execution time: 00:00:01.024"
                    },
                    "metadata": {}
                },
                {
                    "output_type": "execute_result",
                    "metadata": {},
                    "execution_count": 5,
                    "data": {
                        "application/vnd.dataresource+json": {
                            "schema": {
                                "fields": [
                                    {
                                        "name": "periodo2_id"
                                    },
                                    {
                                        "name": "Fecha"
                                    },
                                    {
                                        "name": "ID_Empleado"
                                    },
                                    {
                                        "name": "Local"
                                    },
                                    {
                                        "name": "Turno_completo"
                                    }
                                ]
                            },
                            "data": [
                                {
                                    "periodo2_id": "1",
                                    "Fecha": "2018-11-18 00:00:00",
                                    "ID_Empleado": "1111222",
                                    "Local": "A",
                                    "Turno_completo": "SI"
                                },
                                {
                                    "periodo2_id": "2",
                                    "Fecha": "2018-09-17 00:00:00",
                                    "ID_Empleado": "9922377",
                                    "Local": "A",
                                    "Turno_completo": "NO"
                                },
                                {
                                    "periodo2_id": "3",
                                    "Fecha": "2018-10-18 00:00:00",
                                    "ID_Empleado": "3833745",
                                    "Local": "B",
                                    "Turno_completo": "NO"
                                },
                                {
                                    "periodo2_id": "4",
                                    "Fecha": "2018-10-30 00:00:00",
                                    "ID_Empleado": "2520477",
                                    "Local": "D",
                                    "Turno_completo": "NO"
                                },
                                {
                                    "periodo2_id": "5",
                                    "Fecha": "2018-05-16 00:00:00",
                                    "ID_Empleado": "9611338",
                                    "Local": "C",
                                    "Turno_completo": "SI"
                                },
                                {
                                    "periodo2_id": "6",
                                    "Fecha": "2018-12-15 00:00:00",
                                    "ID_Empleado": "4245367",
                                    "Local": "C",
                                    "Turno_completo": "SI"
                                },
                                {
                                    "periodo2_id": "7",
                                    "Fecha": "2018-07-28 00:00:00",
                                    "ID_Empleado": "5942572",
                                    "Local": "B",
                                    "Turno_completo": "SI"
                                },
                                {
                                    "periodo2_id": "8",
                                    "Fecha": "2018-10-05 00:00:00",
                                    "ID_Empleado": "2630867",
                                    "Local": "C",
                                    "Turno_completo": "SI"
                                },
                                {
                                    "periodo2_id": "9",
                                    "Fecha": "2018-04-20 00:00:00",
                                    "ID_Empleado": "2310967",
                                    "Local": "B",
                                    "Turno_completo": "SI"
                                },
                                {
                                    "periodo2_id": "10",
                                    "Fecha": "2018-06-08 00:00:00",
                                    "ID_Empleado": "6931035",
                                    "Local": "B",
                                    "Turno_completo": "SI"
                                },
                                {
                                    "periodo2_id": "11",
                                    "Fecha": "2018-08-22 00:00:00",
                                    "ID_Empleado": "6332756",
                                    "Local": "B",
                                    "Turno_completo": "SI"
                                }
                            ]
                        },
                        "text/html": [
                            "<table>",
                            "<tr><th>periodo2_id</th><th>Fecha</th><th>ID_Empleado</th><th>Local</th><th>Turno_completo</th></tr>",
                            "<tr><td>1</td><td>2018-11-18 00:00:00</td><td>1111222</td><td>A</td><td>SI</td></tr>",
                            "<tr><td>2</td><td>2018-09-17 00:00:00</td><td>9922377</td><td>A</td><td>NO</td></tr>",
                            "<tr><td>3</td><td>2018-10-18 00:00:00</td><td>3833745</td><td>B</td><td>NO</td></tr>",
                            "<tr><td>4</td><td>2018-10-30 00:00:00</td><td>2520477</td><td>D</td><td>NO</td></tr>",
                            "<tr><td>5</td><td>2018-05-16 00:00:00</td><td>9611338</td><td>C</td><td>SI</td></tr>",
                            "<tr><td>6</td><td>2018-12-15 00:00:00</td><td>4245367</td><td>C</td><td>SI</td></tr>",
                            "<tr><td>7</td><td>2018-07-28 00:00:00</td><td>5942572</td><td>B</td><td>SI</td></tr>",
                            "<tr><td>8</td><td>2018-10-05 00:00:00</td><td>2630867</td><td>C</td><td>SI</td></tr>",
                            "<tr><td>9</td><td>2018-04-20 00:00:00</td><td>2310967</td><td>B</td><td>SI</td></tr>",
                            "<tr><td>10</td><td>2018-06-08 00:00:00</td><td>6931035</td><td>B</td><td>SI</td></tr>",
                            "<tr><td>11</td><td>2018-08-22 00:00:00</td><td>6332756</td><td>B</td><td>SI</td></tr>",
                            "</table>"
                        ]
                    }
                }
            ],
            "execution_count": 5
        },
        {
            "cell_type": "code",
            "source": [
                "SELECT *\r\n",
                "FROM periodos.periodo1 p\r\n",
                "JOIN datos.empleados e\r\n",
                " ON p.ID_Empleado = e.ID_empleado;"
            ],
            "metadata": {
                "language": "sql",
                "azdata_cell_guid": "a207d26e-b875-4959-8db0-3d74147c7b2d",
                "tags": [
                    "hide_input"
                ]
            },
            "outputs": [
                {
                    "output_type": "display_data",
                    "data": {
                        "text/html": "(10 row(s) affected)"
                    },
                    "metadata": {}
                },
                {
                    "output_type": "display_data",
                    "data": {
                        "text/html": "Total execution time: 00:00:01.010"
                    },
                    "metadata": {}
                },
                {
                    "output_type": "execute_result",
                    "metadata": {},
                    "execution_count": 26,
                    "data": {
                        "application/vnd.dataresource+json": {
                            "schema": {
                                "fields": [
                                    {
                                        "name": "periodo1_id"
                                    },
                                    {
                                        "name": "Fecha"
                                    },
                                    {
                                        "name": "ID_Empleado"
                                    },
                                    {
                                        "name": "Local"
                                    },
                                    {
                                        "name": "Turno_completo"
                                    },
                                    {
                                        "name": "ID_empleado"
                                    },
                                    {
                                        "name": "Nombre"
                                    },
                                    {
                                        "name": "Apellido"
                                    },
                                    {
                                        "name": "Telefono"
                                    },
                                    {
                                        "name": "Edad"
                                    },
                                    {
                                        "name": "Domicilio"
                                    },
                                    {
                                        "name": "ID_Gerente"
                                    }
                                ]
                            },
                            "data": [
                                {
                                    "periodo1_id": "2",
                                    "Fecha": "2019-07-16 00:00:00",
                                    "ID_Empleado": "9611338",
                                    "Local": "A",
                                    "Turno_completo": "NO",
                                    "ID_empleado": "9611338",
                                    "Nombre": "Haygnes",
                                    "Apellido": "Ortiz",
                                    "Telefono": "35400189",
                                    "Edad": "27",
                                    "Domicilio": "General Diaz 343",
                                    "ID_Gerente": "5942572"
                                },
                                {
                                    "periodo1_id": "3",
                                    "Fecha": "2019-08-27 00:00:00",
                                    "ID_Empleado": "3833745",
                                    "Local": "B",
                                    "Turno_completo": "NO",
                                    "ID_empleado": "3833745",
                                    "Nombre": "Maria",
                                    "Apellido": "Zapata",
                                    "Telefono": "35354455",
                                    "Edad": "34",
                                    "Domicilio": "Boulevard 85",
                                    "ID_Gerente": "5942572"
                                },
                                {
                                    "periodo1_id": "4",
                                    "Fecha": "2019-12-15 00:00:00",
                                    "ID_Empleado": "5942572",
                                    "Local": "D",
                                    "Turno_completo": "NO",
                                    "ID_empleado": "5942572",
                                    "Nombre": "Jesus",
                                    "Apellido": "Agudelo",
                                    "Telefono": "34616222",
                                    "Edad": "35",
                                    "Domicilio": "NULL",
                                    "ID_Gerente": "NULL"
                                },
                                {
                                    "periodo1_id": "5",
                                    "Fecha": "2019-07-30 00:00:00",
                                    "ID_Empleado": "4245367",
                                    "Local": "C",
                                    "Turno_completo": "SI",
                                    "ID_empleado": "4245367",
                                    "Nombre": "Alexandra",
                                    "Apellido": "Zapata",
                                    "Telefono": "33467136",
                                    "Edad": "31",
                                    "Domicilio": "Ingenieros 234",
                                    "ID_Gerente": "5942572"
                                },
                                {
                                    "periodo1_id": "6",
                                    "Fecha": "2019-10-25 00:00:00",
                                    "ID_Empleado": "6332756",
                                    "Local": "C",
                                    "Turno_completo": "SI",
                                    "ID_empleado": "6332756",
                                    "Nombre": "Reinaldo",
                                    "Apellido": "Gonzalez",
                                    "Telefono": "36642727",
                                    "Edad": "43",
                                    "Domicilio": "Vallarta 711",
                                    "ID_Gerente": "5942572"
                                },
                                {
                                    "periodo1_id": "7",
                                    "Fecha": "2019-12-14 00:00:00",
                                    "ID_Empleado": "5942572",
                                    "Local": "B",
                                    "Turno_completo": "SI",
                                    "ID_empleado": "5942572",
                                    "Nombre": "Jesus",
                                    "Apellido": "Agudelo",
                                    "Telefono": "34616222",
                                    "Edad": "35",
                                    "Domicilio": "NULL",
                                    "ID_Gerente": "NULL"
                                },
                                {
                                    "periodo1_id": "8",
                                    "Fecha": "2019-08-14 00:00:00",
                                    "ID_Empleado": "9922377",
                                    "Local": "C",
                                    "Turno_completo": "SI",
                                    "ID_empleado": "9922377",
                                    "Nombre": "Alexander",
                                    "Apellido": "Martinez",
                                    "Telefono": "36554872",
                                    "Edad": "28",
                                    "Domicilio": "Camino viejo 123",
                                    "ID_Gerente": "5942572"
                                },
                                {
                                    "periodo1_id": "9",
                                    "Fecha": "2019-12-01 00:00:00",
                                    "ID_Empleado": "6931035",
                                    "Local": "B",
                                    "Turno_completo": "SI",
                                    "ID_empleado": "6931035",
                                    "Nombre": "Albeiro",
                                    "Apellido": "Villa",
                                    "Telefono": "33631010",
                                    "Edad": "39",
                                    "Domicilio": "Carniceros 233",
                                    "ID_Gerente": "5942572"
                                },
                                {
                                    "periodo1_id": "10",
                                    "Fecha": "2019-06-08 00:00:00",
                                    "ID_Empleado": "6931035",
                                    "Local": "B",
                                    "Turno_completo": "SI",
                                    "ID_empleado": "6931035",
                                    "Nombre": "Albeiro",
                                    "Apellido": "Villa",
                                    "Telefono": "33631010",
                                    "Edad": "39",
                                    "Domicilio": "Carniceros 233",
                                    "ID_Gerente": "5942572"
                                },
                                {
                                    "periodo1_id": "11",
                                    "Fecha": "2019-07-25 00:00:00",
                                    "ID_Empleado": "2310967",
                                    "Local": "B",
                                    "Turno_completo": "SI",
                                    "ID_empleado": "2310967",
                                    "Nombre": "Jairo",
                                    "Apellido": "Mira",
                                    "Telefono": "36403810",
                                    "Edad": "29",
                                    "Domicilio": "Calle 25 interior 2",
                                    "ID_Gerente": "5942572"
                                }
                            ]
                        },
                        "text/html": [
                            "<table>",
                            "<tr><th>periodo1_id</th><th>Fecha</th><th>ID_Empleado</th><th>Local</th><th>Turno_completo</th><th>ID_empleado</th><th>Nombre</th><th>Apellido</th><th>Telefono</th><th>Edad</th><th>Domicilio</th><th>ID_Gerente</th></tr>",
                            "<tr><td>2</td><td>2019-07-16 00:00:00</td><td>9611338</td><td>A</td><td>NO</td><td>9611338</td><td>Haygnes</td><td>Ortiz</td><td>35400189</td><td>27</td><td>General Diaz 343</td><td>5942572</td></tr>",
                            "<tr><td>3</td><td>2019-08-27 00:00:00</td><td>3833745</td><td>B</td><td>NO</td><td>3833745</td><td>Maria</td><td>Zapata</td><td>35354455</td><td>34</td><td>Boulevard 85</td><td>5942572</td></tr>",
                            "<tr><td>4</td><td>2019-12-15 00:00:00</td><td>5942572</td><td>D</td><td>NO</td><td>5942572</td><td>Jesus</td><td>Agudelo</td><td>34616222</td><td>35</td><td>NULL</td><td>NULL</td></tr>",
                            "<tr><td>5</td><td>2019-07-30 00:00:00</td><td>4245367</td><td>C</td><td>SI</td><td>4245367</td><td>Alexandra</td><td>Zapata</td><td>33467136</td><td>31</td><td>Ingenieros 234</td><td>5942572</td></tr>",
                            "<tr><td>6</td><td>2019-10-25 00:00:00</td><td>6332756</td><td>C</td><td>SI</td><td>6332756</td><td>Reinaldo</td><td>Gonzalez</td><td>36642727</td><td>43</td><td>Vallarta 711</td><td>5942572</td></tr>",
                            "<tr><td>7</td><td>2019-12-14 00:00:00</td><td>5942572</td><td>B</td><td>SI</td><td>5942572</td><td>Jesus</td><td>Agudelo</td><td>34616222</td><td>35</td><td>NULL</td><td>NULL</td></tr>",
                            "<tr><td>8</td><td>2019-08-14 00:00:00</td><td>9922377</td><td>C</td><td>SI</td><td>9922377</td><td>Alexander</td><td>Martinez</td><td>36554872</td><td>28</td><td>Camino viejo 123</td><td>5942572</td></tr>",
                            "<tr><td>9</td><td>2019-12-01 00:00:00</td><td>6931035</td><td>B</td><td>SI</td><td>6931035</td><td>Albeiro</td><td>Villa</td><td>33631010</td><td>39</td><td>Carniceros 233</td><td>5942572</td></tr>",
                            "<tr><td>10</td><td>2019-06-08 00:00:00</td><td>6931035</td><td>B</td><td>SI</td><td>6931035</td><td>Albeiro</td><td>Villa</td><td>33631010</td><td>39</td><td>Carniceros 233</td><td>5942572</td></tr>",
                            "<tr><td>11</td><td>2019-07-25 00:00:00</td><td>2310967</td><td>B</td><td>SI</td><td>2310967</td><td>Jairo</td><td>Mira</td><td>36403810</td><td>29</td><td>Calle 25 interior 2</td><td>5942572</td></tr>",
                            "</table>"
                        ]
                    }
                }
            ],
            "execution_count": 26
        },
        {
            "cell_type": "code",
            "source": [
                "SELECT \r\n",
                "    p.periodo1_ID,\r\n",
                "    p.Fecha,\r\n",
                "    e.Nombre,\r\n",
                "    e.Apellido,\r\n",
                "    p.Local,\r\n",
                "    p.Turno_completo \r\n",
                "FROM periodo1 p\r\n",
                "JOIN datos_empleados e\r\n",
                "  ON p.ID_Empleado = e.ID_empleado;"
            ],
            "metadata": {
                "language": "sql",
                "azdata_cell_guid": "e5768fa3-655d-4077-ba6f-3249338ffb75"
            },
            "outputs": [
                {
                    "output_type": "display_data",
                    "data": {
                        "text/html": "Total execution time: 00:00:00.001"
                    },
                    "metadata": {}
                },
                {
                    "output_type": "error",
                    "evalue": "1146 (42S02): Table 'datos.periodo1' doesn't exist",
                    "ename": "",
                    "traceback": []
                }
            ],
            "execution_count": 28
        }
    ]
}