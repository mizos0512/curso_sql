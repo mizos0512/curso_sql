{
    "metadata": {
        "kernelspec": {
            "name": "SQL",
            "display_name": "SQL",
            "language": "sql"
        },
        "language_info": {
            "name": "sql",
            "version": ""
        }
    },
    "nbformat_minor": 2,
    "nbformat": 4,
    "cells": [
        {
            "cell_type": "markdown",
            "source": [
                "# Práctica 9 -  Agregaciones"
            ],
            "metadata": {
                "azdata_cell_guid": "b2133633-b3b0-44d2-9730-c7f4cb4c9414"
            },
            "attachments": {}
        },
        {
            "cell_type": "markdown",
            "source": [
                "## Se tiene que entregar un informe por cliente donde entregues la siguiente información:"
            ],
            "metadata": {
                "azdata_cell_guid": "72ef3449-99b2-4e95-9d78-251053853a29"
            },
            "attachments": {}
        },
        {
            "cell_type": "markdown",
            "source": [
                "### **1. ¿Cuál cliente realizó la compra máxima en el año 2018?**"
            ],
            "metadata": {
                "azdata_cell_guid": "0a08074e-e0a9-47b7-ac1a-c41f335ac83e"
            },
            "attachments": {}
        },
        {
            "cell_type": "code",
            "source": [
                "SELECT c.ID_Cliente, c.Nombre, MAX(p.pago) AS Compra_Maxima\r\n",
                "FROM base.clientes c\r\n",
                "INNER JOIN base.pagos p ON c.ID_Cliente = p.id_venta\r\n",
                "WHERE p.fecha_pago BETWEEN '01/01/2018' AND '31/01/2018'\r\n",
                "GROUP BY c.ID_Cliente, c.Nombre\r\n",
                "ORDER BY Compra_Maxima DESC\r\n",
                "LIMIT 1;"
            ],
            "metadata": {
                "azdata_cell_guid": "758fedac-227a-4881-8538-74e996f9286c",
                "language": "sql",
                "tags": []
            },
            "outputs": [
                {
                    "output_type": "display_data",
                    "data": {
                        "text/html": "(1 row(s) affected)"
                    },
                    "metadata": {}
                },
                {
                    "output_type": "display_data",
                    "data": {
                        "text/html": "Total execution time: 00:00:01.047"
                    },
                    "metadata": {}
                },
                {
                    "output_type": "execute_result",
                    "execution_count": 1,
                    "data": {
                        "application/vnd.dataresource+json": {
                            "schema": {
                                "fields": [
                                    {
                                        "name": "ID_Cliente"
                                    },
                                    {
                                        "name": "Nombre"
                                    },
                                    {
                                        "name": "Compra_Maxima"
                                    }
                                ]
                            },
                            "data": [
                                {
                                    "ID_Cliente": "8",
                                    "Nombre": "Too & A",
                                    "Compra_Maxima": "26980938"
                                }
                            ]
                        },
                        "text/html": "<table><tr><th>ID_Cliente</th><th>Nombre</th><th>Compra_Maxima</th></tr><tr><td>8</td><td>Too &amp; A</td><td>26980938</td></tr></table>"
                    },
                    "metadata": {}
                }
            ],
            "execution_count": 1
        },
        {
            "cell_type": "markdown",
            "source": [
                "### **2. ¿Cuál fue el pago menor que recibimos en el año 2018?**"
            ],
            "metadata": {
                "azdata_cell_guid": "6444333b-a105-4f0c-b316-30d1caf60a8e"
            },
            "attachments": {}
        },
        {
            "cell_type": "code",
            "source": [
                "SELECT c.ID_Cliente, c.Nombre, MIN(p.pago) AS Pago_Menor\r\n",
                "FROM base.clientes c\r\n",
                "INNER JOIN base.pagos p ON c.ID_Cliente = p.id_venta\r\n",
                "WHERE p.fecha_pago BETWEEN '01/01/2018' AND '31/01/2018'\r\n",
                "GROUP BY c.ID_Cliente, c.Nombre\r\n",
                "ORDER BY Pago_Menor\r\n",
                "LIMIT 1;"
            ],
            "metadata": {
                "azdata_cell_guid": "5604d519-8129-4e27-9e18-b4271ca69bce",
                "language": "sql"
            },
            "outputs": [
                {
                    "output_type": "display_data",
                    "data": {
                        "text/html": "(1 row(s) affected)"
                    },
                    "metadata": {}
                },
                {
                    "output_type": "display_data",
                    "data": {
                        "text/html": "Total execution time: 00:00:01.035"
                    },
                    "metadata": {}
                },
                {
                    "output_type": "execute_result",
                    "execution_count": 2,
                    "data": {
                        "application/vnd.dataresource+json": {
                            "schema": {
                                "fields": [
                                    {
                                        "name": "ID_Cliente"
                                    },
                                    {
                                        "name": "Nombre"
                                    },
                                    {
                                        "name": "Pago_Menor"
                                    }
                                ]
                            },
                            "data": [
                                {
                                    "ID_Cliente": "7",
                                    "Nombre": "The LandLord",
                                    "Pago_Menor": "5083575"
                                }
                            ]
                        },
                        "text/html": "<table><tr><th>ID_Cliente</th><th>Nombre</th><th>Pago_Menor</th></tr><tr><td>7</td><td>The LandLord</td><td>5083575</td></tr></table>"
                    },
                    "metadata": {}
                }
            ],
            "execution_count": 2
        },
        {
            "cell_type": "markdown",
            "source": [
                "### **3. ¿Cuántas ventas se lograron en el 2do semestre del año 2018?**"
            ],
            "metadata": {
                "azdata_cell_guid": "0a95ce09-6c3b-4601-9aea-47b801c69e3b"
            },
            "attachments": {}
        },
        {
            "cell_type": "code",
            "source": [
                "SELECT id_pago, pago, fecha_pago FROM base.pagos\r\n",
                "WHERE  YEAR(str_to_date(fecha_pago),'%d/%b/%y')=2018\r\n",
                "ORDER BY pago;"
            ],
            "metadata": {
                "language": "sql",
                "azdata_cell_guid": "a4e2377c-20a9-49a4-92d7-418a1f12fb0b"
            },
            "outputs": [],
            "execution_count": null
        },
        {
            "cell_type": "code",
            "source": [
                "SELECT Fecha_venta, Venta\r\n",
                "FROM base.ventas\r\n",
                "WHERE STR_TO_DATE(Fecha_venta) BETWEEN '01/01/2018' AND '31/12/2018';"
            ],
            "metadata": {
                "language": "sql",
                "azdata_cell_guid": "16c75d04-e674-46b4-883b-ec30707435cf"
            },
            "outputs": [
                {
                    "output_type": "display_data",
                    "data": {
                        "text/html": "Total execution time: 00:00:00.001"
                    },
                    "metadata": {}
                },
                {
                    "output_type": "error",
                    "ename": "",
                    "evalue": "1582 (42000): Incorrect parameter count in the call to native function 'STR_TO_DATE'",
                    "traceback": []
                }
            ],
            "execution_count": 8
        },
        {
            "cell_type": "code",
            "source": [
                "SELECT COUNT(*) AS Ventas_Segundo_Semestre\r\n",
                "FROM base.ventas AS v\r\n",
                "WHERE YEAR(str_to_date(fecha_venta, '%d-%b-%y')) = 2018 AND MONTH(str_to_date(fecha_venta, '%d-%b-%y')) >= 7;\r\n",
                ""
            ],
            "metadata": {
                "azdata_cell_guid": "564bf35c-e92a-431f-a164-c4064b355220",
                "language": "sql",
                "tags": []
            },
            "outputs": [
                {
                    "output_type": "display_data",
                    "data": {
                        "text/html": "(1 row(s) affected)"
                    },
                    "metadata": {}
                },
                {
                    "output_type": "display_data",
                    "data": {
                        "text/html": "Total execution time: 00:00:01.023"
                    },
                    "metadata": {}
                },
                {
                    "output_type": "execute_result",
                    "execution_count": 9,
                    "data": {
                        "application/vnd.dataresource+json": {
                            "schema": {
                                "fields": [
                                    {
                                        "name": "Ventas_Segundo_Semestre"
                                    }
                                ]
                            },
                            "data": [
                                {
                                    "Ventas_Segundo_Semestre": "468"
                                }
                            ]
                        },
                        "text/html": "<table><tr><th>Ventas_Segundo_Semestre</th></tr><tr><td>468</td></tr></table>"
                    },
                    "metadata": {}
                }
            ],
            "execution_count": 9
        },
        {
            "cell_type": "markdown",
            "source": [
                "# **Resumir on GROUP BY**"
            ],
            "metadata": {
                "azdata_cell_guid": "645a78f9-efb4-4de9-860d-382258cc4d1d"
            },
            "attachments": {}
        },
        {
            "cell_type": "markdown",
            "source": [
                "## <span style=\"color: var(--vscode-foreground);\">Genera una vista para entregar el informe que contenga:</span>"
            ],
            "metadata": {
                "azdata_cell_guid": "558226f2-4c27-437d-8afc-39754f4ce31f"
            },
            "attachments": {}
        },
        {
            "cell_type": "markdown",
            "source": [
                "### **4. Las ventas por vendendor**"
            ],
            "metadata": {
                "azdata_cell_guid": "793b42a7-7afe-4791-a958-a48f6a41886c"
            },
            "attachments": {}
        },
        {
            "cell_type": "code",
            "source": [
                ""
            ],
            "metadata": {
                "azdata_cell_guid": "f1c45a33-8039-4b8d-89c9-c5bc4af715cd",
                "language": "sql"
            },
            "outputs": [
                {
                    "output_type": "display_data",
                    "data": {
                        "text/html": "Total execution time: 00:00:00"
                    },
                    "metadata": {}
                }
            ],
            "execution_count": 4
        },
        {
            "cell_type": "markdown",
            "source": [
                "### **5. Ventas por producto**"
            ],
            "metadata": {
                "azdata_cell_guid": "814eed9f-2886-48bf-84d3-f856e3cbd8ce"
            },
            "attachments": {}
        },
        {
            "cell_type": "code",
            "source": [
                ""
            ],
            "metadata": {
                "azdata_cell_guid": "db5adfb9-03b9-40c7-9971-08c782da6e0d",
                "language": "sql"
            },
            "outputs": [
                {
                    "output_type": "display_data",
                    "data": {
                        "text/html": "Total execution time: 00:00:00"
                    },
                    "metadata": {}
                }
            ],
            "execution_count": 5
        },
        {
            "cell_type": "markdown",
            "source": [
                "### **6. Resumen de compras por cliente en 2017**"
            ],
            "metadata": {
                "azdata_cell_guid": "dd50b4e9-4ec1-42ff-999e-05dfd6a3f522"
            },
            "attachments": {}
        },
        {
            "cell_type": "code",
            "source": [
                ""
            ],
            "metadata": {
                "azdata_cell_guid": "6ef12e21-0e15-4e57-84c9-db49c0726e74",
                "language": "sql"
            },
            "outputs": [
                {
                    "output_type": "display_data",
                    "data": {
                        "text/html": "Total execution time: 00:00:00"
                    },
                    "metadata": {}
                }
            ],
            "execution_count": 6
        },
        {
            "cell_type": "markdown",
            "source": [
                "# **Having**"
            ],
            "metadata": {
                "azdata_cell_guid": "87c9164e-c69e-45c4-a1f0-2367249b9ce3"
            },
            "attachments": {}
        },
        {
            "cell_type": "markdown",
            "source": [
                "## **Tomando en cuenta el ejercicio anterior:**"
            ],
            "metadata": {
                "azdata_cell_guid": "72aac73e-6c28-49f2-80da-b914a74aec6f"
            },
            "attachments": {}
        },
        {
            "cell_type": "markdown",
            "source": [
                "### **7. Resumen de compras por cliente en 2017 que hayan sido mayores a 150000**"
            ],
            "metadata": {
                "azdata_cell_guid": "6109c9c2-b981-4629-bfb0-3f6e15b1c12f"
            },
            "attachments": {}
        },
        {
            "cell_type": "code",
            "source": [
                ""
            ],
            "metadata": {
                "azdata_cell_guid": "b96ce058-4ed5-4ed8-97b7-9138a68987ed",
                "language": "sql"
            },
            "outputs": [
                {
                    "output_type": "display_data",
                    "data": {
                        "text/html": "Total execution time: 00:00:00"
                    },
                    "metadata": {}
                }
            ],
            "execution_count": 7
        },
        {
            "cell_type": "markdown",
            "source": [
                "# **Extra**"
            ],
            "metadata": {
                "language": "sql",
                "azdata_cell_guid": "a6ce9855-33af-4337-8a39-0c20128a6e96"
            },
            "attachments": {}
        },
        {
            "cell_type": "markdown",
            "source": [
                "### **8. Proporcione la lista de los clientes morosos**"
            ],
            "metadata": {
                "language": "sql",
                "azdata_cell_guid": "c20f5934-fd10-4388-9562-0af32d4ae437"
            },
            "attachments": {}
        },
        {
            "cell_type": "code",
            "source": [
                ""
            ],
            "metadata": {
                "language": "sql",
                "azdata_cell_guid": "60fcc87b-8b1b-433c-9de9-0303c1c7c4cc"
            },
            "outputs": [
                {
                    "output_type": "display_data",
                    "data": {
                        "text/html": "Total execution time: 00:00:00"
                    },
                    "metadata": {}
                }
            ],
            "execution_count": 8
        }
    ]
}